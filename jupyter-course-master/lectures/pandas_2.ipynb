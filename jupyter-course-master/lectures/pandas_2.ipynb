{
 "cells": [
  {
   "cell_type": "markdown",
   "metadata": {},
   "source": [
    "<img src=\"https://pandas.pydata.org/_static/pandas_logo.png\" width=\"400\" align=\"left\"/>"
   ]
  },
  {
   "cell_type": "code",
   "execution_count": 1,
   "metadata": {},
   "outputs": [],
   "source": [
    "from IPython.display import IFrame"
   ]
  },
  {
   "cell_type": "code",
   "execution_count": 2,
   "metadata": {},
   "outputs": [
    {
     "data": {
      "text/html": [
       "\n",
       "        <iframe\n",
       "            width=\"640\"\n",
       "            height=\"400\"\n",
       "            src=\"https://www.youtube.com/embed/pHa3uuSZh6Y\"\n",
       "            frameborder=\"0\"\n",
       "            allowfullscreen\n",
       "        ></iframe>\n",
       "        "
      ],
      "text/plain": [
       "<IPython.lib.display.IFrame at 0x110902ac0>"
      ]
     },
     "execution_count": 2,
     "metadata": {},
     "output_type": "execute_result"
    }
   ],
   "source": [
    "IFrame(src='https://www.youtube.com/embed/pHa3uuSZh6Y', width=640, height=400)"
   ]
  },
  {
   "cell_type": "code",
   "execution_count": 36,
   "metadata": {},
   "outputs": [],
   "source": [
    "import pandas as pd"
   ]
  },
  {
   "cell_type": "markdown",
   "metadata": {},
   "source": [
    "# Loading Data Files\n",
    "Data from https://ec.europa.eu/eurostat/web/environment/waste/database"
   ]
  },
  {
   "cell_type": "code",
   "execution_count": 37,
   "metadata": {},
   "outputs": [
    {
     "name": "stdout",
     "output_type": "stream",
     "text": [
      "unit,hazard,nace_r2,waste,geo\\time\t2016 \t2014 \t2012 \t2010 \t2008 \t2006 \t2004 \r\n",
      "KG_HAB,HAZ,A,PRIM,AT\t: c\t1 \t1 \t9 \t: \t: \t: \r\n",
      "KG_HAB,HAZ,A,PRIM,BE\t2 \t2 \t2 \t2 \t: \t: \t: \r\n",
      "KG_HAB,HAZ,A,PRIM,BG\t0 \t0 \t0 \t0 \t: \t: \t: \r\n",
      "KG_HAB,HAZ,A,PRIM,CY\t1 \t1 \t1 \t1 \t: \t: \t: \r\n",
      "KG_HAB,HAZ,A,PRIM,CZ\t1 \t0 \t0 \t1 \t: \t: \t: \r\n",
      "KG_HAB,HAZ,A,PRIM,DE\t0 \t0 \t0 \t0 \t: \t: \t: \r\n",
      "KG_HAB,HAZ,A,PRIM,DK\t0 \t0 \t0 \t1 \t: \t: \t: \r\n",
      "KG_HAB,HAZ,A,PRIM,EE\t0 \t1 \t0 \t0 \t: \t: \t: \r\n",
      "KG_HAB,HAZ,A,PRIM,EL\t: \t0 \t0 \t0 \t: \t: \t: \r\n",
      "KG_HAB,HAZ,A,PRIM,ES\t1 \t1 \t0 \t1 \t: \t: \t: \r\n",
      "KG_HAB,HAZ,A,PRIM,EU28\t2 s\t2 \t2 \t2 \t: \t: \t: \r\n"
     ]
    }
   ],
   "source": [
    "!head -12 data/env_wasgen.tsv"
   ]
  },
  {
   "cell_type": "code",
   "execution_count": 42,
   "metadata": {},
   "outputs": [],
   "source": [
    "df = pd.read_table('data/env_wasgen.tsv',header=0,sep=',|\\t',engine='python')"
   ]
  },
  {
   "cell_type": "code",
   "execution_count": 43,
   "metadata": {},
   "outputs": [
    {
     "data": {
      "text/html": [
       "<div>\n",
       "<style scoped>\n",
       "    .dataframe tbody tr th:only-of-type {\n",
       "        vertical-align: middle;\n",
       "    }\n",
       "\n",
       "    .dataframe tbody tr th {\n",
       "        vertical-align: top;\n",
       "    }\n",
       "\n",
       "    .dataframe thead th {\n",
       "        text-align: right;\n",
       "    }\n",
       "</style>\n",
       "<table border=\"1\" class=\"dataframe\">\n",
       "  <thead>\n",
       "    <tr style=\"text-align: right;\">\n",
       "      <th></th>\n",
       "      <th>unit</th>\n",
       "      <th>hazard</th>\n",
       "      <th>nace_r2</th>\n",
       "      <th>waste</th>\n",
       "      <th>geo\\time</th>\n",
       "      <th>2016</th>\n",
       "      <th>2014</th>\n",
       "      <th>2012</th>\n",
       "      <th>2010</th>\n",
       "      <th>2008</th>\n",
       "      <th>2006</th>\n",
       "      <th>2004</th>\n",
       "    </tr>\n",
       "  </thead>\n",
       "  <tbody>\n",
       "    <tr>\n",
       "      <th>0</th>\n",
       "      <td>KG_HAB</td>\n",
       "      <td>HAZ</td>\n",
       "      <td>A</td>\n",
       "      <td>PRIM</td>\n",
       "      <td>AT</td>\n",
       "      <td>: c</td>\n",
       "      <td>1</td>\n",
       "      <td>1</td>\n",
       "      <td>9</td>\n",
       "      <td>:</td>\n",
       "      <td>:</td>\n",
       "      <td>:</td>\n",
       "    </tr>\n",
       "    <tr>\n",
       "      <th>1</th>\n",
       "      <td>KG_HAB</td>\n",
       "      <td>HAZ</td>\n",
       "      <td>A</td>\n",
       "      <td>PRIM</td>\n",
       "      <td>BE</td>\n",
       "      <td>2</td>\n",
       "      <td>2</td>\n",
       "      <td>2</td>\n",
       "      <td>2</td>\n",
       "      <td>:</td>\n",
       "      <td>:</td>\n",
       "      <td>:</td>\n",
       "    </tr>\n",
       "    <tr>\n",
       "      <th>2</th>\n",
       "      <td>KG_HAB</td>\n",
       "      <td>HAZ</td>\n",
       "      <td>A</td>\n",
       "      <td>PRIM</td>\n",
       "      <td>BG</td>\n",
       "      <td>0</td>\n",
       "      <td>0</td>\n",
       "      <td>0</td>\n",
       "      <td>0</td>\n",
       "      <td>:</td>\n",
       "      <td>:</td>\n",
       "      <td>:</td>\n",
       "    </tr>\n",
       "    <tr>\n",
       "      <th>3</th>\n",
       "      <td>KG_HAB</td>\n",
       "      <td>HAZ</td>\n",
       "      <td>A</td>\n",
       "      <td>PRIM</td>\n",
       "      <td>CY</td>\n",
       "      <td>1</td>\n",
       "      <td>1</td>\n",
       "      <td>1</td>\n",
       "      <td>1</td>\n",
       "      <td>:</td>\n",
       "      <td>:</td>\n",
       "      <td>:</td>\n",
       "    </tr>\n",
       "    <tr>\n",
       "      <th>4</th>\n",
       "      <td>KG_HAB</td>\n",
       "      <td>HAZ</td>\n",
       "      <td>A</td>\n",
       "      <td>PRIM</td>\n",
       "      <td>CZ</td>\n",
       "      <td>1</td>\n",
       "      <td>0</td>\n",
       "      <td>0</td>\n",
       "      <td>1</td>\n",
       "      <td>:</td>\n",
       "      <td>:</td>\n",
       "      <td>:</td>\n",
       "    </tr>\n",
       "  </tbody>\n",
       "</table>\n",
       "</div>"
      ],
      "text/plain": [
       "     unit hazard nace_r2 waste geo\\time 2016  2014  2012  2010  2008  2006   \\\n",
       "0  KG_HAB    HAZ       A  PRIM       AT   : c    1     1     9     :     :    \n",
       "1  KG_HAB    HAZ       A  PRIM       BE    2     2     2     2     :     :    \n",
       "2  KG_HAB    HAZ       A  PRIM       BG    0     0     0     0     :     :    \n",
       "3  KG_HAB    HAZ       A  PRIM       CY    1     1     1     1     :     :    \n",
       "4  KG_HAB    HAZ       A  PRIM       CZ    1     0     0     1     :     :    \n",
       "\n",
       "  2004  \n",
       "0    :  \n",
       "1    :  \n",
       "2    :  \n",
       "3    :  \n",
       "4    :  "
      ]
     },
     "execution_count": 43,
     "metadata": {},
     "output_type": "execute_result"
    }
   ],
   "source": [
    "df.head()"
   ]
  },
  {
   "cell_type": "code",
   "execution_count": 49,
   "metadata": {},
   "outputs": [],
   "source": [
    "df = pd.read_table('data/env_wasgen.tsv',header=0,sep=',|\\t',engine='python',\n",
    "                  names=['unit','hazard','activity','waste','country',2016,2014,2012,2010,2008,2006,2004])"
   ]
  },
  {
   "cell_type": "code",
   "execution_count": 52,
   "metadata": {},
   "outputs": [
    {
     "data": {
      "text/html": [
       "<div>\n",
       "<style scoped>\n",
       "    .dataframe tbody tr th:only-of-type {\n",
       "        vertical-align: middle;\n",
       "    }\n",
       "\n",
       "    .dataframe tbody tr th {\n",
       "        vertical-align: top;\n",
       "    }\n",
       "\n",
       "    .dataframe thead th {\n",
       "        text-align: right;\n",
       "    }\n",
       "</style>\n",
       "<table border=\"1\" class=\"dataframe\">\n",
       "  <thead>\n",
       "    <tr style=\"text-align: right;\">\n",
       "      <th></th>\n",
       "      <th>unit</th>\n",
       "      <th>hazard</th>\n",
       "      <th>activity</th>\n",
       "      <th>waste</th>\n",
       "      <th>country</th>\n",
       "      <th>2016</th>\n",
       "      <th>2014</th>\n",
       "      <th>2012</th>\n",
       "      <th>2010</th>\n",
       "      <th>2008</th>\n",
       "      <th>2006</th>\n",
       "      <th>2004</th>\n",
       "    </tr>\n",
       "  </thead>\n",
       "  <tbody>\n",
       "    <tr>\n",
       "      <th>0</th>\n",
       "      <td>KG_HAB</td>\n",
       "      <td>HAZ</td>\n",
       "      <td>A</td>\n",
       "      <td>PRIM</td>\n",
       "      <td>AT</td>\n",
       "      <td>: c</td>\n",
       "      <td>1</td>\n",
       "      <td>1</td>\n",
       "      <td>9</td>\n",
       "      <td>:</td>\n",
       "      <td>:</td>\n",
       "      <td>:</td>\n",
       "    </tr>\n",
       "    <tr>\n",
       "      <th>1</th>\n",
       "      <td>KG_HAB</td>\n",
       "      <td>HAZ</td>\n",
       "      <td>A</td>\n",
       "      <td>PRIM</td>\n",
       "      <td>BE</td>\n",
       "      <td>2</td>\n",
       "      <td>2</td>\n",
       "      <td>2</td>\n",
       "      <td>2</td>\n",
       "      <td>:</td>\n",
       "      <td>:</td>\n",
       "      <td>:</td>\n",
       "    </tr>\n",
       "    <tr>\n",
       "      <th>2</th>\n",
       "      <td>KG_HAB</td>\n",
       "      <td>HAZ</td>\n",
       "      <td>A</td>\n",
       "      <td>PRIM</td>\n",
       "      <td>BG</td>\n",
       "      <td>0</td>\n",
       "      <td>0</td>\n",
       "      <td>0</td>\n",
       "      <td>0</td>\n",
       "      <td>:</td>\n",
       "      <td>:</td>\n",
       "      <td>:</td>\n",
       "    </tr>\n",
       "    <tr>\n",
       "      <th>3</th>\n",
       "      <td>KG_HAB</td>\n",
       "      <td>HAZ</td>\n",
       "      <td>A</td>\n",
       "      <td>PRIM</td>\n",
       "      <td>CY</td>\n",
       "      <td>1</td>\n",
       "      <td>1</td>\n",
       "      <td>1</td>\n",
       "      <td>1</td>\n",
       "      <td>:</td>\n",
       "      <td>:</td>\n",
       "      <td>:</td>\n",
       "    </tr>\n",
       "    <tr>\n",
       "      <th>4</th>\n",
       "      <td>KG_HAB</td>\n",
       "      <td>HAZ</td>\n",
       "      <td>A</td>\n",
       "      <td>PRIM</td>\n",
       "      <td>CZ</td>\n",
       "      <td>1</td>\n",
       "      <td>0</td>\n",
       "      <td>0</td>\n",
       "      <td>1</td>\n",
       "      <td>:</td>\n",
       "      <td>:</td>\n",
       "      <td>:</td>\n",
       "    </tr>\n",
       "  </tbody>\n",
       "</table>\n",
       "</div>"
      ],
      "text/plain": [
       "     unit hazard activity waste country 2016 2014 2012 2010 2008 2006 2004\n",
       "0  KG_HAB    HAZ        A  PRIM      AT  : c   1    1    9    :    :     :\n",
       "1  KG_HAB    HAZ        A  PRIM      BE   2    2    2    2    :    :     :\n",
       "2  KG_HAB    HAZ        A  PRIM      BG   0    0    0    0    :    :     :\n",
       "3  KG_HAB    HAZ        A  PRIM      CY   1    1    1    1    :    :     :\n",
       "4  KG_HAB    HAZ        A  PRIM      CZ   1    0    0    1    :    :     :"
      ]
     },
     "execution_count": 52,
     "metadata": {},
     "output_type": "execute_result"
    }
   ],
   "source": [
    "df.head()"
   ]
  },
  {
   "cell_type": "code",
   "execution_count": 53,
   "metadata": {},
   "outputs": [
    {
     "data": {
      "text/plain": [
       "(229984, 12)"
      ]
     },
     "execution_count": 53,
     "metadata": {},
     "output_type": "execute_result"
    }
   ],
   "source": [
    "df.shape"
   ]
  },
  {
   "cell_type": "code",
   "execution_count": 56,
   "metadata": {},
   "outputs": [
    {
     "data": {
      "text/plain": [
       "array(['PRIM', 'SEC', 'TOTAL', 'TOT_X_MIN', 'W01-05', 'W011', 'W012',\n",
       "       'W013', 'W02A', 'W032', 'W033', 'W05', 'W06', 'W061', 'W062',\n",
       "       'W063', 'W06_07A', 'W071', 'W072', 'W073', 'W074', 'W075', 'W076',\n",
       "       'W077', 'W077_08', 'W081', 'W0841', 'W08A', 'W09', 'W091',\n",
       "       'W091_092', 'W092', 'W093', 'W10', 'W101', 'W102', 'W103', 'W11',\n",
       "       'W12-13', 'W121', 'W124', 'W126', 'W126_127', 'W127', 'W128_13',\n",
       "       'W12A', 'W12B', 'W12_X_127NH', 'W13'], dtype=object)"
      ]
     },
     "execution_count": 56,
     "metadata": {},
     "output_type": "execute_result"
    }
   ],
   "source": [
    "df.waste.unique()"
   ]
  },
  {
   "cell_type": "markdown",
   "metadata": {},
   "source": [
    "# Renaming Fields"
   ]
  },
  {
   "cell_type": "code",
   "execution_count": 61,
   "metadata": {},
   "outputs": [],
   "source": [
    "df.loc[df.waste=='W074','waste']='Plastic'\n",
    "df.loc[df.waste=='W071','waste']='Glass'\n",
    "df.loc[df.waste=='W06_07A','waste']='Recyclable'\n",
    "df.loc[df.waste=='W12-13','waste']='Mineral'\n",
    "df.loc[df.waste=='W075','waste']='Wood'\n",
    "df.loc[df.waste=='W076','waste']='Textile'\n",
    "df.loc[df.waste=='W063','waste']='Metal'\n",
    "df.loc[df.waste=='W10','waste']='Mixed ordinary wastes'\n",
    "df.loc[df.waste=='W073','waste']='Rubber'\n",
    "df.loc[df.waste=='W072','waste']='Paper and cardboard'\n",
    "df.loc[df.waste=='W081','waste']='Vehicles'\n",
    "df.loc[df.waste=='W01-05','waste']='Chemical&Medical'"
   ]
  },
  {
   "cell_type": "code",
   "execution_count": 62,
   "metadata": {},
   "outputs": [
    {
     "data": {
      "text/plain": [
       "array(['PRIM', 'SEC', 'TOTAL', 'TOT_X_MIN', 'Chemical&Medical', 'W011',\n",
       "       'W012', 'W013', 'W02A', 'W032', 'W033', 'W05', 'W06', 'W061',\n",
       "       'W062', 'Metal', 'Recyclable', 'Glass', 'Paper and cardboard',\n",
       "       'Rubber', 'Plastic', 'Wood', 'Textile', 'W077', 'W077_08',\n",
       "       'Vehicles', 'W0841', 'W08A', 'W09', 'W091', 'W091_092', 'W092',\n",
       "       'W093', 'Mixed ordinary wastes', 'W101', 'W102', 'W103', 'W11',\n",
       "       'Mineral', 'W121', 'W124', 'W126', 'W126_127', 'W127', 'W128_13',\n",
       "       'W12A', 'W12B', 'W12_X_127NH', 'W13'], dtype=object)"
      ]
     },
     "execution_count": 62,
     "metadata": {},
     "output_type": "execute_result"
    }
   ],
   "source": [
    "df.waste.unique()"
   ]
  },
  {
   "cell_type": "code",
   "execution_count": 63,
   "metadata": {},
   "outputs": [
    {
     "data": {
      "text/plain": [
       "array(['A', 'B', 'C', 'C10-C12', 'C13-C15', 'C16', 'C17_C18', 'C19',\n",
       "       'C20-C22', 'C23', 'C24_C25', 'C26-C30', 'C31-C33', 'D',\n",
       "       'E36_E37_E39', 'E38', 'EP_HH', 'F', 'G-U_X_G4677', 'G4677',\n",
       "       'TOTAL_HH'], dtype=object)"
      ]
     },
     "execution_count": 63,
     "metadata": {},
     "output_type": "execute_result"
    }
   ],
   "source": [
    "df.activity.unique()"
   ]
  },
  {
   "cell_type": "code",
   "execution_count": 64,
   "metadata": {},
   "outputs": [],
   "source": [
    "df.loc[df.activity=='B','activity']='Mining and quarrying'\n",
    "df.loc[df.activity=='F','activity']='Construction'\n",
    "df.loc[df.activity=='EP_HH','activity']='Households'"
   ]
  },
  {
   "cell_type": "code",
   "execution_count": 65,
   "metadata": {},
   "outputs": [
    {
     "data": {
      "text/plain": [
       "array(['A', 'Mining and quarrying', 'C', 'C10-C12', 'C13-C15', 'C16',\n",
       "       'C17_C18', 'C19', 'C20-C22', 'C23', 'C24_C25', 'C26-C30',\n",
       "       'C31-C33', 'D', 'E36_E37_E39', 'E38', 'Households', 'Construction',\n",
       "       'G-U_X_G4677', 'G4677', 'TOTAL_HH'], dtype=object)"
      ]
     },
     "execution_count": 65,
     "metadata": {},
     "output_type": "execute_result"
    }
   ],
   "source": [
    "df.activity.unique()"
   ]
  },
  {
   "cell_type": "code",
   "execution_count": 16,
   "metadata": {},
   "outputs": [
    {
     "data": {
      "text/plain": [
       "'2 '"
      ]
     },
     "execution_count": 16,
     "metadata": {},
     "output_type": "execute_result"
    }
   ],
   "source": [
    "df.loc[1,2016]"
   ]
  },
  {
   "cell_type": "code",
   "execution_count": 17,
   "metadata": {},
   "outputs": [
    {
     "data": {
      "text/plain": [
       "str"
      ]
     },
     "execution_count": 17,
     "metadata": {},
     "output_type": "execute_result"
    }
   ],
   "source": [
    "type(df.loc[1,2016])"
   ]
  },
  {
   "cell_type": "markdown",
   "metadata": {},
   "source": [
    "# Convert Elements to Numeric Type"
   ]
  },
  {
   "cell_type": "code",
   "execution_count": 18,
   "metadata": {},
   "outputs": [
    {
     "data": {
      "text/plain": [
       "2016    NaN\n",
       "2014    2.0\n",
       "2012    2.0\n",
       "2010    2.0\n",
       "2008    NaN\n",
       "2006    NaN\n",
       "2004    NaN\n",
       "Name: 10, dtype: float64"
      ]
     },
     "execution_count": 18,
     "metadata": {},
     "output_type": "execute_result"
    }
   ],
   "source": [
    "df.iloc[:,5:].apply(pd.to_numeric,errors='coerce').iloc[10]"
   ]
  },
  {
   "cell_type": "code",
   "execution_count": 19,
   "metadata": {},
   "outputs": [
    {
     "data": {
      "text/plain": [
       "unit        KG_HAB\n",
       "hazard         HAZ\n",
       "activity         A\n",
       "waste         PRIM\n",
       "country       EU28\n",
       "2016           2 s\n",
       "2014            2 \n",
       "2012            2 \n",
       "2010            2 \n",
       "2008            : \n",
       "2006            : \n",
       "2004             :\n",
       "Name: 10, dtype: object"
      ]
     },
     "execution_count": 19,
     "metadata": {},
     "output_type": "execute_result"
    }
   ],
   "source": [
    "df.iloc[10]"
   ]
  },
  {
   "cell_type": "markdown",
   "metadata": {},
   "source": [
    "# Modifying Elements Using Custom Function"
   ]
  },
  {
   "cell_type": "code",
   "execution_count": 20,
   "metadata": {},
   "outputs": [
    {
     "data": {
      "text/plain": [
       "2016    2.0\n",
       "2014    2.0\n",
       "2012    2.0\n",
       "2010    2.0\n",
       "2008    NaN\n",
       "2006    NaN\n",
       "2004    NaN\n",
       "Name: 10, dtype: object"
      ]
     },
     "execution_count": 20,
     "metadata": {},
     "output_type": "execute_result"
    }
   ],
   "source": [
    "df.iloc[:,5:] = df.iloc[:,5:].applymap(lambda x: x.rstrip('bcdefinprsuz'))\n",
    "df.iloc[:,5:] = df.iloc[:,5:].apply(pd.to_numeric,errors='coerce')\n",
    "df.iloc[10,5:]"
   ]
  },
  {
   "cell_type": "markdown",
   "metadata": {},
   "source": [
    "# Saving DataFrames"
   ]
  },
  {
   "cell_type": "code",
   "execution_count": 21,
   "metadata": {},
   "outputs": [],
   "source": [
    "output = pd.ExcelWriter('data/wasgen.xlsx')\n",
    "df.to_excel(output,'Sheet1',index=False)\n",
    "output.save()"
   ]
  },
  {
   "cell_type": "code",
   "execution_count": 22,
   "metadata": {},
   "outputs": [],
   "source": [
    "df.to_csv('data/wasgen.csv')"
   ]
  },
  {
   "cell_type": "code",
   "execution_count": 23,
   "metadata": {},
   "outputs": [
    {
     "data": {
      "text/html": [
       "<div>\n",
       "<style scoped>\n",
       "    .dataframe tbody tr th:only-of-type {\n",
       "        vertical-align: middle;\n",
       "    }\n",
       "\n",
       "    .dataframe tbody tr th {\n",
       "        vertical-align: top;\n",
       "    }\n",
       "\n",
       "    .dataframe thead th {\n",
       "        text-align: right;\n",
       "    }\n",
       "</style>\n",
       "<table border=\"1\" class=\"dataframe\">\n",
       "  <thead>\n",
       "    <tr style=\"text-align: right;\">\n",
       "      <th></th>\n",
       "      <th>unit</th>\n",
       "      <th>hazard</th>\n",
       "      <th>activity</th>\n",
       "      <th>waste</th>\n",
       "      <th>country</th>\n",
       "      <th>2016</th>\n",
       "      <th>2014</th>\n",
       "      <th>2012</th>\n",
       "      <th>2010</th>\n",
       "      <th>2008</th>\n",
       "      <th>2006</th>\n",
       "      <th>2004</th>\n",
       "    </tr>\n",
       "  </thead>\n",
       "  <tbody>\n",
       "    <tr>\n",
       "      <th>106888</th>\n",
       "      <td>KG_HAB</td>\n",
       "      <td>NHAZ</td>\n",
       "      <td>Households</td>\n",
       "      <td>Plastic</td>\n",
       "      <td>DE</td>\n",
       "      <td>2.0</td>\n",
       "      <td>1.0</td>\n",
       "      <td>2.0</td>\n",
       "      <td>1.0</td>\n",
       "      <td>2.0</td>\n",
       "      <td>4.0</td>\n",
       "      <td>2.0</td>\n",
       "    </tr>\n",
       "    <tr>\n",
       "      <th>106914</th>\n",
       "      <td>KG_HAB</td>\n",
       "      <td>NHAZ</td>\n",
       "      <td>Households</td>\n",
       "      <td>Plastic</td>\n",
       "      <td>SE</td>\n",
       "      <td>9.0</td>\n",
       "      <td>10.0</td>\n",
       "      <td>7.0</td>\n",
       "      <td>7.0</td>\n",
       "      <td>7.0</td>\n",
       "      <td>5.0</td>\n",
       "      <td>5.0</td>\n",
       "    </tr>\n",
       "  </tbody>\n",
       "</table>\n",
       "</div>"
      ],
      "text/plain": [
       "          unit hazard    activity    waste country 2016  2014 2012 2010 2008  \\\n",
       "106888  KG_HAB   NHAZ  Households  Plastic      DE  2.0   1.0  2.0  1.0  2.0   \n",
       "106914  KG_HAB   NHAZ  Households  Plastic      SE  9.0  10.0  7.0  7.0  7.0   \n",
       "\n",
       "       2006 2004  \n",
       "106888  4.0  2.0  \n",
       "106914  5.0  5.0  "
      ]
     },
     "execution_count": 23,
     "metadata": {},
     "output_type": "execute_result"
    }
   ],
   "source": [
    "df.loc[(df.hazard == 'NHAZ') & (df.unit == 'KG_HAB') & (df.activity == 'Households')\n",
    "      & (df.waste == 'Plastic') & ((df.country == 'DE') | (df.country == 'SE')) ]"
   ]
  },
  {
   "cell_type": "markdown",
   "metadata": {},
   "source": [
    "# MultiIndex Creation "
   ]
  },
  {
   "cell_type": "code",
   "execution_count": 24,
   "metadata": {},
   "outputs": [
    {
     "data": {
      "text/html": [
       "<div>\n",
       "<style scoped>\n",
       "    .dataframe tbody tr th:only-of-type {\n",
       "        vertical-align: middle;\n",
       "    }\n",
       "\n",
       "    .dataframe tbody tr th {\n",
       "        vertical-align: top;\n",
       "    }\n",
       "\n",
       "    .dataframe thead th {\n",
       "        text-align: right;\n",
       "    }\n",
       "</style>\n",
       "<table border=\"1\" class=\"dataframe\">\n",
       "  <thead>\n",
       "    <tr style=\"text-align: right;\">\n",
       "      <th></th>\n",
       "      <th></th>\n",
       "      <th></th>\n",
       "      <th></th>\n",
       "      <th></th>\n",
       "      <th>2016</th>\n",
       "      <th>2014</th>\n",
       "      <th>2012</th>\n",
       "      <th>2010</th>\n",
       "      <th>2008</th>\n",
       "      <th>2006</th>\n",
       "      <th>2004</th>\n",
       "    </tr>\n",
       "    <tr>\n",
       "      <th>unit</th>\n",
       "      <th>hazard</th>\n",
       "      <th>activity</th>\n",
       "      <th>waste</th>\n",
       "      <th>country</th>\n",
       "      <th></th>\n",
       "      <th></th>\n",
       "      <th></th>\n",
       "      <th></th>\n",
       "      <th></th>\n",
       "      <th></th>\n",
       "      <th></th>\n",
       "    </tr>\n",
       "  </thead>\n",
       "  <tbody>\n",
       "    <tr>\n",
       "      <th rowspan=\"5\" valign=\"top\">KG_HAB</th>\n",
       "      <th rowspan=\"5\" valign=\"top\">HAZ</th>\n",
       "      <th rowspan=\"5\" valign=\"top\">A</th>\n",
       "      <th rowspan=\"5\" valign=\"top\">PRIM</th>\n",
       "      <th>AT</th>\n",
       "      <td>NaN</td>\n",
       "      <td>1.0</td>\n",
       "      <td>1.0</td>\n",
       "      <td>9.0</td>\n",
       "      <td>NaN</td>\n",
       "      <td>NaN</td>\n",
       "      <td>NaN</td>\n",
       "    </tr>\n",
       "    <tr>\n",
       "      <th>BE</th>\n",
       "      <td>2.0</td>\n",
       "      <td>2.0</td>\n",
       "      <td>2.0</td>\n",
       "      <td>2.0</td>\n",
       "      <td>NaN</td>\n",
       "      <td>NaN</td>\n",
       "      <td>NaN</td>\n",
       "    </tr>\n",
       "    <tr>\n",
       "      <th>BG</th>\n",
       "      <td>0.0</td>\n",
       "      <td>0.0</td>\n",
       "      <td>0.0</td>\n",
       "      <td>0.0</td>\n",
       "      <td>NaN</td>\n",
       "      <td>NaN</td>\n",
       "      <td>NaN</td>\n",
       "    </tr>\n",
       "    <tr>\n",
       "      <th>CY</th>\n",
       "      <td>1.0</td>\n",
       "      <td>1.0</td>\n",
       "      <td>1.0</td>\n",
       "      <td>1.0</td>\n",
       "      <td>NaN</td>\n",
       "      <td>NaN</td>\n",
       "      <td>NaN</td>\n",
       "    </tr>\n",
       "    <tr>\n",
       "      <th>CZ</th>\n",
       "      <td>1.0</td>\n",
       "      <td>0.0</td>\n",
       "      <td>0.0</td>\n",
       "      <td>1.0</td>\n",
       "      <td>NaN</td>\n",
       "      <td>NaN</td>\n",
       "      <td>NaN</td>\n",
       "    </tr>\n",
       "  </tbody>\n",
       "</table>\n",
       "</div>"
      ],
      "text/plain": [
       "                                     2016 2014 2012 2010 2008 2006 2004\n",
       "unit   hazard activity waste country                                   \n",
       "KG_HAB HAZ    A        PRIM  AT       NaN  1.0  1.0  9.0  NaN  NaN  NaN\n",
       "                             BE       2.0  2.0  2.0  2.0  NaN  NaN  NaN\n",
       "                             BG       0.0  0.0  0.0  0.0  NaN  NaN  NaN\n",
       "                             CY       1.0  1.0  1.0  1.0  NaN  NaN  NaN\n",
       "                             CZ       1.0  0.0  0.0  1.0  NaN  NaN  NaN"
      ]
     },
     "execution_count": 24,
     "metadata": {},
     "output_type": "execute_result"
    }
   ],
   "source": [
    "df1 = df.set_index(keys=['unit','hazard','activity','waste','country'],inplace=False)\n",
    "df1.head()"
   ]
  },
  {
   "cell_type": "code",
   "execution_count": 25,
   "metadata": {},
   "outputs": [
    {
     "data": {
      "text/plain": [
       "FrozenList(['unit', 'hazard', 'activity', 'waste', 'country'])"
      ]
     },
     "execution_count": 25,
     "metadata": {},
     "output_type": "execute_result"
    }
   ],
   "source": [
    "df1.index.names"
   ]
  },
  {
   "cell_type": "code",
   "execution_count": 26,
   "metadata": {},
   "outputs": [
    {
     "data": {
      "text/plain": [
       "FrozenList([['KG_HAB', 'T'], ['HAZ', 'HAZ_NHAZ', 'NHAZ'], ['A', 'C', 'C10-C12', 'C13-C15', 'C16', 'C17_C18', 'C19', 'C20-C22', 'C23', 'C24_C25', 'C26-C30', 'C31-C33', 'Construction', 'D', 'E36_E37_E39', 'E38', 'G-U_X_G4677', 'G4677', 'Households', 'Mining and quarrying', 'TOTAL_HH'], ['Chemical&Medical', 'Glass', 'Metal', 'Mineral', 'Mixed ordinary wastes', 'PRIM', 'Paper and cardboard', 'Plastic', 'Recyclable', 'Rubber', 'SEC', 'TOTAL', 'TOT_X_MIN', 'Textile', 'Vehicles', 'W011', 'W012', 'W013', 'W02A', 'W032', 'W033', 'W05', 'W06', 'W061', 'W062', 'W077', 'W077_08', 'W0841', 'W08A', 'W09', 'W091', 'W091_092', 'W092', 'W093', 'W101', 'W102', 'W103', 'W11', 'W121', 'W124', 'W126', 'W126_127', 'W127', 'W128_13', 'W12A', 'W12B', 'W12_X_127NH', 'W13', 'Wood'], ['AL', 'AT', 'BA', 'BE', 'BG', 'CY', 'CZ', 'DE', 'DK', 'EE', 'EL', 'ES', 'EU28', 'FI', 'FR', 'HR', 'HU', 'IE', 'IS', 'IT', 'LI', 'LT', 'LU', 'LV', 'ME', 'MK', 'MT', 'NL', 'NO', 'PL', 'PT', 'RO', 'RS', 'SE', 'SI', 'SK', 'TR', 'UK', 'XK']])"
      ]
     },
     "execution_count": 26,
     "metadata": {},
     "output_type": "execute_result"
    }
   ],
   "source": [
    "df1.index.levels"
   ]
  },
  {
   "cell_type": "code",
   "execution_count": 27,
   "metadata": {},
   "outputs": [],
   "source": [
    "index = pd.MultiIndex.from_arrays([df.unit,df.hazard,df.activity,df.waste,df.country],\n",
    "                                 names=['unit','hazard','activity','waste','country'])"
   ]
  },
  {
   "cell_type": "code",
   "execution_count": 28,
   "metadata": {},
   "outputs": [],
   "source": [
    "df = pd.DataFrame(data=df.iloc[:,5:].values,index=index,columns=df.columns[5:])"
   ]
  },
  {
   "cell_type": "code",
   "execution_count": 29,
   "metadata": {},
   "outputs": [
    {
     "data": {
      "text/html": [
       "<div>\n",
       "<style scoped>\n",
       "    .dataframe tbody tr th:only-of-type {\n",
       "        vertical-align: middle;\n",
       "    }\n",
       "\n",
       "    .dataframe tbody tr th {\n",
       "        vertical-align: top;\n",
       "    }\n",
       "\n",
       "    .dataframe thead th {\n",
       "        text-align: right;\n",
       "    }\n",
       "</style>\n",
       "<table border=\"1\" class=\"dataframe\">\n",
       "  <thead>\n",
       "    <tr style=\"text-align: right;\">\n",
       "      <th></th>\n",
       "      <th></th>\n",
       "      <th></th>\n",
       "      <th></th>\n",
       "      <th></th>\n",
       "      <th>2016</th>\n",
       "      <th>2014</th>\n",
       "      <th>2012</th>\n",
       "      <th>2010</th>\n",
       "      <th>2008</th>\n",
       "      <th>2006</th>\n",
       "      <th>2004</th>\n",
       "    </tr>\n",
       "    <tr>\n",
       "      <th>unit</th>\n",
       "      <th>hazard</th>\n",
       "      <th>activity</th>\n",
       "      <th>waste</th>\n",
       "      <th>country</th>\n",
       "      <th></th>\n",
       "      <th></th>\n",
       "      <th></th>\n",
       "      <th></th>\n",
       "      <th></th>\n",
       "      <th></th>\n",
       "      <th></th>\n",
       "    </tr>\n",
       "  </thead>\n",
       "  <tbody>\n",
       "    <tr>\n",
       "      <th rowspan=\"5\" valign=\"top\">KG_HAB</th>\n",
       "      <th rowspan=\"5\" valign=\"top\">HAZ</th>\n",
       "      <th rowspan=\"5\" valign=\"top\">A</th>\n",
       "      <th rowspan=\"5\" valign=\"top\">PRIM</th>\n",
       "      <th>AT</th>\n",
       "      <td>NaN</td>\n",
       "      <td>1.0</td>\n",
       "      <td>1.0</td>\n",
       "      <td>9.0</td>\n",
       "      <td>NaN</td>\n",
       "      <td>NaN</td>\n",
       "      <td>NaN</td>\n",
       "    </tr>\n",
       "    <tr>\n",
       "      <th>BE</th>\n",
       "      <td>2.0</td>\n",
       "      <td>2.0</td>\n",
       "      <td>2.0</td>\n",
       "      <td>2.0</td>\n",
       "      <td>NaN</td>\n",
       "      <td>NaN</td>\n",
       "      <td>NaN</td>\n",
       "    </tr>\n",
       "    <tr>\n",
       "      <th>BG</th>\n",
       "      <td>0.0</td>\n",
       "      <td>0.0</td>\n",
       "      <td>0.0</td>\n",
       "      <td>0.0</td>\n",
       "      <td>NaN</td>\n",
       "      <td>NaN</td>\n",
       "      <td>NaN</td>\n",
       "    </tr>\n",
       "    <tr>\n",
       "      <th>CY</th>\n",
       "      <td>1.0</td>\n",
       "      <td>1.0</td>\n",
       "      <td>1.0</td>\n",
       "      <td>1.0</td>\n",
       "      <td>NaN</td>\n",
       "      <td>NaN</td>\n",
       "      <td>NaN</td>\n",
       "    </tr>\n",
       "    <tr>\n",
       "      <th>CZ</th>\n",
       "      <td>1.0</td>\n",
       "      <td>0.0</td>\n",
       "      <td>0.0</td>\n",
       "      <td>1.0</td>\n",
       "      <td>NaN</td>\n",
       "      <td>NaN</td>\n",
       "      <td>NaN</td>\n",
       "    </tr>\n",
       "  </tbody>\n",
       "</table>\n",
       "</div>"
      ],
      "text/plain": [
       "                                     2016 2014 2012 2010 2008 2006 2004\n",
       "unit   hazard activity waste country                                   \n",
       "KG_HAB HAZ    A        PRIM  AT       NaN  1.0  1.0  9.0  NaN  NaN  NaN\n",
       "                             BE       2.0  2.0  2.0  2.0  NaN  NaN  NaN\n",
       "                             BG       0.0  0.0  0.0  0.0  NaN  NaN  NaN\n",
       "                             CY       1.0  1.0  1.0  1.0  NaN  NaN  NaN\n",
       "                             CZ       1.0  0.0  0.0  1.0  NaN  NaN  NaN"
      ]
     },
     "execution_count": 29,
     "metadata": {},
     "output_type": "execute_result"
    }
   ],
   "source": [
    "df.head()"
   ]
  },
  {
   "cell_type": "code",
   "execution_count": 30,
   "metadata": {},
   "outputs": [
    {
     "data": {
      "text/html": [
       "<div>\n",
       "<style scoped>\n",
       "    .dataframe tbody tr th:only-of-type {\n",
       "        vertical-align: middle;\n",
       "    }\n",
       "\n",
       "    .dataframe tbody tr th {\n",
       "        vertical-align: top;\n",
       "    }\n",
       "\n",
       "    .dataframe thead th {\n",
       "        text-align: right;\n",
       "    }\n",
       "</style>\n",
       "<table border=\"1\" class=\"dataframe\">\n",
       "  <thead>\n",
       "    <tr style=\"text-align: right;\">\n",
       "      <th></th>\n",
       "      <th></th>\n",
       "      <th></th>\n",
       "      <th></th>\n",
       "      <th></th>\n",
       "      <th>2016</th>\n",
       "      <th>2014</th>\n",
       "      <th>2012</th>\n",
       "      <th>2010</th>\n",
       "      <th>2008</th>\n",
       "      <th>2006</th>\n",
       "      <th>2004</th>\n",
       "    </tr>\n",
       "    <tr>\n",
       "      <th>unit</th>\n",
       "      <th>hazard</th>\n",
       "      <th>activity</th>\n",
       "      <th>waste</th>\n",
       "      <th>country</th>\n",
       "      <th></th>\n",
       "      <th></th>\n",
       "      <th></th>\n",
       "      <th></th>\n",
       "      <th></th>\n",
       "      <th></th>\n",
       "      <th></th>\n",
       "    </tr>\n",
       "  </thead>\n",
       "  <tbody>\n",
       "    <tr>\n",
       "      <th rowspan=\"5\" valign=\"top\">KG_HAB</th>\n",
       "      <th rowspan=\"5\" valign=\"top\">NHAZ</th>\n",
       "      <th rowspan=\"5\" valign=\"top\">Construction</th>\n",
       "      <th rowspan=\"5\" valign=\"top\">Mineral</th>\n",
       "      <th>AT</th>\n",
       "      <td>NaN</td>\n",
       "      <td>4601.0</td>\n",
       "      <td>3882.0</td>\n",
       "      <td>2442.0</td>\n",
       "      <td>3672.0</td>\n",
       "      <td>3553.0</td>\n",
       "      <td>3310.0</td>\n",
       "    </tr>\n",
       "    <tr>\n",
       "      <th>BA</th>\n",
       "      <td>NaN</td>\n",
       "      <td>NaN</td>\n",
       "      <td>0.0</td>\n",
       "      <td>NaN</td>\n",
       "      <td>NaN</td>\n",
       "      <td>NaN</td>\n",
       "      <td>NaN</td>\n",
       "    </tr>\n",
       "    <tr>\n",
       "      <th>BE</th>\n",
       "      <td>1508.0</td>\n",
       "      <td>1316.0</td>\n",
       "      <td>1287.0</td>\n",
       "      <td>1236.0</td>\n",
       "      <td>949.0</td>\n",
       "      <td>1015.0</td>\n",
       "      <td>956.0</td>\n",
       "    </tr>\n",
       "    <tr>\n",
       "      <th>BG</th>\n",
       "      <td>289.0</td>\n",
       "      <td>181.0</td>\n",
       "      <td>133.0</td>\n",
       "      <td>10.0</td>\n",
       "      <td>238.0</td>\n",
       "      <td>132.0</td>\n",
       "      <td>386.0</td>\n",
       "    </tr>\n",
       "    <tr>\n",
       "      <th>CY</th>\n",
       "      <td>1014.0</td>\n",
       "      <td>731.0</td>\n",
       "      <td>1093.0</td>\n",
       "      <td>1221.0</td>\n",
       "      <td>505.0</td>\n",
       "      <td>345.0</td>\n",
       "      <td>352.0</td>\n",
       "    </tr>\n",
       "  </tbody>\n",
       "</table>\n",
       "</div>"
      ],
      "text/plain": [
       "                                              2016    2014    2012    2010  \\\n",
       "unit   hazard activity     waste   country                                   \n",
       "KG_HAB NHAZ   Construction Mineral AT          NaN  4601.0  3882.0  2442.0   \n",
       "                                   BA          NaN     NaN     0.0     NaN   \n",
       "                                   BE       1508.0  1316.0  1287.0  1236.0   \n",
       "                                   BG        289.0   181.0   133.0    10.0   \n",
       "                                   CY       1014.0   731.0  1093.0  1221.0   \n",
       "\n",
       "                                              2008    2006    2004  \n",
       "unit   hazard activity     waste   country                          \n",
       "KG_HAB NHAZ   Construction Mineral AT       3672.0  3553.0  3310.0  \n",
       "                                   BA          NaN     NaN     NaN  \n",
       "                                   BE        949.0  1015.0   956.0  \n",
       "                                   BG        238.0   132.0   386.0  \n",
       "                                   CY        505.0   345.0   352.0  "
      ]
     },
     "execution_count": 30,
     "metadata": {},
     "output_type": "execute_result"
    }
   ],
   "source": [
    "df.loc['KG_HAB','NHAZ',['Construction','Mining and quarrying'],'Mineral'].head()"
   ]
  },
  {
   "cell_type": "code",
   "execution_count": 31,
   "metadata": {},
   "outputs": [
    {
     "data": {
      "text/plain": [
       "False"
      ]
     },
     "execution_count": 31,
     "metadata": {},
     "output_type": "execute_result"
    }
   ],
   "source": [
    "df.index.is_lexsorted()"
   ]
  },
  {
   "cell_type": "code",
   "execution_count": 32,
   "metadata": {},
   "outputs": [],
   "source": [
    "df.sort_index(axis='index',inplace=True)"
   ]
  },
  {
   "cell_type": "code",
   "execution_count": 33,
   "metadata": {},
   "outputs": [
    {
     "data": {
      "text/plain": [
       "True"
      ]
     },
     "execution_count": 33,
     "metadata": {},
     "output_type": "execute_result"
    }
   ],
   "source": [
    "df.index.is_lexsorted()"
   ]
  },
  {
   "cell_type": "code",
   "execution_count": 34,
   "metadata": {},
   "outputs": [
    {
     "data": {
      "text/html": [
       "<div>\n",
       "<style scoped>\n",
       "    .dataframe tbody tr th:only-of-type {\n",
       "        vertical-align: middle;\n",
       "    }\n",
       "\n",
       "    .dataframe tbody tr th {\n",
       "        vertical-align: top;\n",
       "    }\n",
       "\n",
       "    .dataframe thead th {\n",
       "        text-align: right;\n",
       "    }\n",
       "</style>\n",
       "<table border=\"1\" class=\"dataframe\">\n",
       "  <thead>\n",
       "    <tr style=\"text-align: right;\">\n",
       "      <th></th>\n",
       "      <th></th>\n",
       "      <th></th>\n",
       "      <th></th>\n",
       "      <th></th>\n",
       "      <th>2016</th>\n",
       "      <th>2014</th>\n",
       "      <th>2012</th>\n",
       "      <th>2010</th>\n",
       "      <th>2008</th>\n",
       "      <th>2006</th>\n",
       "      <th>2004</th>\n",
       "    </tr>\n",
       "    <tr>\n",
       "      <th>unit</th>\n",
       "      <th>hazard</th>\n",
       "      <th>activity</th>\n",
       "      <th>waste</th>\n",
       "      <th>country</th>\n",
       "      <th></th>\n",
       "      <th></th>\n",
       "      <th></th>\n",
       "      <th></th>\n",
       "      <th></th>\n",
       "      <th></th>\n",
       "      <th></th>\n",
       "    </tr>\n",
       "  </thead>\n",
       "  <tbody>\n",
       "    <tr>\n",
       "      <th rowspan=\"5\" valign=\"top\">KG_HAB</th>\n",
       "      <th rowspan=\"5\" valign=\"top\">NHAZ</th>\n",
       "      <th rowspan=\"5\" valign=\"top\">Construction</th>\n",
       "      <th rowspan=\"5\" valign=\"top\">Mineral</th>\n",
       "      <th>AT</th>\n",
       "      <td>NaN</td>\n",
       "      <td>4601.0</td>\n",
       "      <td>3882.0</td>\n",
       "      <td>2442.0</td>\n",
       "      <td>3672.0</td>\n",
       "      <td>3553.0</td>\n",
       "      <td>3310.0</td>\n",
       "    </tr>\n",
       "    <tr>\n",
       "      <th>BA</th>\n",
       "      <td>NaN</td>\n",
       "      <td>NaN</td>\n",
       "      <td>0.0</td>\n",
       "      <td>NaN</td>\n",
       "      <td>NaN</td>\n",
       "      <td>NaN</td>\n",
       "      <td>NaN</td>\n",
       "    </tr>\n",
       "    <tr>\n",
       "      <th>BE</th>\n",
       "      <td>1508.0</td>\n",
       "      <td>1316.0</td>\n",
       "      <td>1287.0</td>\n",
       "      <td>1236.0</td>\n",
       "      <td>949.0</td>\n",
       "      <td>1015.0</td>\n",
       "      <td>956.0</td>\n",
       "    </tr>\n",
       "    <tr>\n",
       "      <th>BG</th>\n",
       "      <td>289.0</td>\n",
       "      <td>181.0</td>\n",
       "      <td>133.0</td>\n",
       "      <td>10.0</td>\n",
       "      <td>238.0</td>\n",
       "      <td>132.0</td>\n",
       "      <td>386.0</td>\n",
       "    </tr>\n",
       "    <tr>\n",
       "      <th>CY</th>\n",
       "      <td>1014.0</td>\n",
       "      <td>731.0</td>\n",
       "      <td>1093.0</td>\n",
       "      <td>1221.0</td>\n",
       "      <td>505.0</td>\n",
       "      <td>345.0</td>\n",
       "      <td>352.0</td>\n",
       "    </tr>\n",
       "  </tbody>\n",
       "</table>\n",
       "</div>"
      ],
      "text/plain": [
       "                                              2016    2014    2012    2010  \\\n",
       "unit   hazard activity     waste   country                                   \n",
       "KG_HAB NHAZ   Construction Mineral AT          NaN  4601.0  3882.0  2442.0   \n",
       "                                   BA          NaN     NaN     0.0     NaN   \n",
       "                                   BE       1508.0  1316.0  1287.0  1236.0   \n",
       "                                   BG        289.0   181.0   133.0    10.0   \n",
       "                                   CY       1014.0   731.0  1093.0  1221.0   \n",
       "\n",
       "                                              2008    2006    2004  \n",
       "unit   hazard activity     waste   country                          \n",
       "KG_HAB NHAZ   Construction Mineral AT       3672.0  3553.0  3310.0  \n",
       "                                   BA          NaN     NaN     NaN  \n",
       "                                   BE        949.0  1015.0   956.0  \n",
       "                                   BG        238.0   132.0   386.0  \n",
       "                                   CY        505.0   345.0   352.0  "
      ]
     },
     "execution_count": 34,
     "metadata": {},
     "output_type": "execute_result"
    }
   ],
   "source": [
    "df.loc['KG_HAB','NHAZ',['Construction','Mining and quarrying'],'Mineral'].head()"
   ]
  }
 ],
 "metadata": {
  "kernelspec": {
   "display_name": "Python 3",
   "language": "python",
   "name": "python3"
  },
  "language_info": {
   "codemirror_mode": {
    "name": "ipython",
    "version": 3
   },
   "file_extension": ".py",
   "mimetype": "text/x-python",
   "name": "python",
   "nbconvert_exporter": "python",
   "pygments_lexer": "ipython3",
   "version": "3.9.2"
  }
 },
 "nbformat": 4,
 "nbformat_minor": 2
}
