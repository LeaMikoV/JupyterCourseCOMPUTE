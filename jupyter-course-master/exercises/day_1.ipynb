{
 "cells": [
  {
   "cell_type": "markdown",
   "metadata": {},
   "source": [
    "# Day 1. Introduction to the Notebook and NumPy"
   ]
  },
  {
   "cell_type": "markdown",
   "metadata": {},
   "source": [
    "* [Navigating the Notebook](#1)\n",
    "* [Python built-in functions](#2)\n",
    "* [Storage and manipulation of numerical arrays](#3)\n",
    "* [Repeated operations and universal functions](#4)"
   ]
  },
  {
   "cell_type": "markdown",
   "metadata": {},
   "source": [
    "The answers to the exercises are encrypted. Feel free to ask the instructors for the decryption key whenever you need to view the solution."
   ]
  },
  {
   "cell_type": "code",
   "execution_count": 1,
   "metadata": {},
   "outputs": [],
   "source": [
    "from IPython.display import IFrame\n",
    "from IPython.display import YouTubeVideo"
   ]
  },
  {
   "cell_type": "code",
   "execution_count": 2,
   "metadata": {},
   "outputs": [],
   "source": [
    "import numpy as np\n",
    "import matplotlib as mpl\n",
    "import matplotlib.pyplot as plt\n",
    "%matplotlib inline"
   ]
  },
  {
   "cell_type": "code",
   "execution_count": 3,
   "metadata": {},
   "outputs": [],
   "source": [
    "from cryptography.fernet import Fernet\n",
    "import base64\n",
    "def encrypt(string, key):\n",
    "    keygen = lambda x : base64.urlsafe_b64encode(x.encode() + b' '*(32 - len(x)))\n",
    "    cipher = Fernet(keygen(key))\n",
    "    return cipher.encrypt(string.encode())\n",
    "def decrypt(string, key):\n",
    "    keygen = lambda x : base64.urlsafe_b64encode(x.encode() + b' '*(32 - len(x)))\n",
    "    cipher = Fernet(keygen(key))\n",
    "    return print(cipher.decrypt(string.encode()).decode())"
   ]
  },
  {
   "cell_type": "markdown",
   "metadata": {},
   "source": [
    "## Familiarize yourself with \n",
    "<img src=\"https://conda.io/docs/_images/conda_logo.svg\" width=\"150\" align=\"left\"/>"
   ]
  },
  {
   "cell_type": "markdown",
   "metadata": {},
   "source": [
    "* create a new [environment](https://conda.io/docs/user-guide/concepts.html#conda-environments):\n",
    "  - go to the terminal (or to the anaconda prompt on Windows) and [make sure](https://conda.io/docs/user-guide/tasks/manage-environments.html#determining-your-current-environment) that no environment is acrivated (else [deactivate](https://conda.io/docs/user-guide/tasks/manage-environments.html#deactivating-an-environment) it)\n",
    "  - decide on the name of your new environment (_i.e._ `[env_name]`)\n",
    "  - run `conda create -n [env_name]`\n",
    "* [activate](https://conda.io/docs/user-guide/tasks/manage-environments.html#activating-an-environment) the new environment\n",
    "* install the following packages in the new environment:\n",
    "  - python=3.6\n",
    "  - mdtraj=1.9 from the `conda-forge` channel (`conda install -c conda-forge mdtraj=1.9`)\n",
    "  - R from the `r` channel (the package is called r-essentials)\n",
    "* list the packages installed in the environment (`conda list`)\n",
    "* deactivate the environment\n",
    "* [export](https://conda.io/docs/user-guide/tasks/manage-environments.html#sharing-an-environment) the environment to a yml file (be careful not to overwrite any yml file in your current directory)\n",
    "* [view a list](https://conda.io/docs/user-guide/tasks/manage-environments.html#viewing-a-list-of-your-environments) of all your conda environments\n",
    "* [remove](https://conda.io/docs/user-guide/tasks/manage-environments.html#removing-an-environment) the environment that you have just created"
   ]
  },
  {
   "cell_type": "markdown",
   "metadata": {},
   "source": [
    "## Use [Binder](https://mybinder.org/) to launch a GitHub repository\n",
    "<img src=\"https://mybinder.org/static/logo.svg?v=f9f0d927b67cc9dc99d788c822ca21c0\" width=\"200\" align=\"left\"/>"
   ]
  },
  {
   "cell_type": "markdown",
   "metadata": {},
   "source": [
    "* go to mybinder.org and launch a GitHub repository containing Jupyter Notebooks of your choice\n",
    "* navigate and run a Notebook in the executable environment\n",
    "* be aware that the repository has to contain a dependency file (_e.g._ the yml file containing the list of packages of a conda environment)\n",
    "* Binder uses the dependency file to build a Docker [container](https://www.docker.com/resources/what-container) image of the repository\n",
    "  - \"A container is a standard unit of software that packages up code and all its dependencies so the application runs quickly and reliably from one computing environment to another. A Docker container image is a lightweight, standalone, executable package of software that includes everything needed to run an application: code, runtime, system tools, system libraries and settings.\" (excerpt from docker.com)"
   ]
  },
  {
   "cell_type": "markdown",
   "metadata": {},
   "source": [
    "<a id='1'></a>"
   ]
  },
  {
   "cell_type": "markdown",
   "metadata": {},
   "source": [
    "# Navigating the Notebook"
   ]
  },
  {
   "cell_type": "code",
   "execution_count": 4,
   "metadata": {},
   "outputs": [
    {
     "data": {
      "text/html": [
       "\n",
       "        <iframe\n",
       "            width=\"608\"\n",
       "            height=\"402\"\n",
       "            src=\"https://api.kaltura.nordu.net/p/310/sp/31000/embedIframeJs/uiconf_id/23449977/partner_id/310?iframeembed=true&playerId=kaltura_player&entry_id=0_z85if4is&flashvars[streamerType]=auto&amp;flashvars[localizationCode]=en&amp;flashvars[leadWithHTML5]=true&amp;flashvars[sideBarContainer.plugin]=true&amp;flashvars[sideBarContainer.position]=left&amp;flashvars[sideBarContainer.clickToClose]=true&amp;flashvars[chapters.plugin]=true&amp;flashvars[chapters.layout]=vertical&amp;flashvars[chapters.thumbnailRotator]=false&amp;flashvars[streamSelector.plugin]=true&amp;flashvars[EmbedPlayer.SpinnerTarget]=videoHolder&amp;flashvars[dualScreen.plugin]=true&amp;&wid=0_l2d1egty\"\n",
       "            frameborder=\"0\"\n",
       "            allowfullscreen\n",
       "        ></iframe>\n",
       "        "
      ],
      "text/plain": [
       "<IPython.lib.display.IFrame at 0x113dc9e50>"
      ]
     },
     "execution_count": 4,
     "metadata": {},
     "output_type": "execute_result"
    }
   ],
   "source": [
    "IFrame(src='https://api.kaltura.nordu.net/p/310/sp/31000/embedIframeJs/uiconf_id/23449977/partner_id/310?iframeembed=true&playerId=kaltura_player&entry_id=0_z85if4is&flashvars[streamerType]=auto&amp;flashvars[localizationCode]=en&amp;flashvars[leadWithHTML5]=true&amp;flashvars[sideBarContainer.plugin]=true&amp;flashvars[sideBarContainer.position]=left&amp;flashvars[sideBarContainer.clickToClose]=true&amp;flashvars[chapters.plugin]=true&amp;flashvars[chapters.layout]=vertical&amp;flashvars[chapters.thumbnailRotator]=false&amp;flashvars[streamSelector.plugin]=true&amp;flashvars[EmbedPlayer.SpinnerTarget]=videoHolder&amp;flashvars[dualScreen.plugin]=true&amp;&wid=0_l2d1egty', width=608, height=402)"
   ]
  },
  {
   "cell_type": "markdown",
   "metadata": {},
   "source": [
    "### Tasks\n",
    "\n",
    "1. Find and try out the keyboard shortcuts (Help > Keyboard Shortcuts) for\n",
    "   - Toggling line numbers\n",
    "   - Setting the cell to _code_\n",
    "   - Setting the cell to _markdown_\n",
    "   - Merging two consecutive cells\n",
    "   - Inserting a cell above\n",
    "   - Inserting a cell below\n",
    "   - Deleting a cell\n",
    "2. Export this notebook as HTML and open it in a web-browser\n",
    "3. Go back to the Home page (usually a browser tab) and check which notebooks that are currently running"
   ]
  },
  {
   "cell_type": "markdown",
   "metadata": {},
   "source": [
    "## Output\n",
    "\n",
    "The result from running a code cell is shown as output directly below it. In particular, the output from the _last_ command will be printed, unless explicitly suppressed by a trailing `;`\n",
    "\n",
    "Previous output can be retrieved by:\n",
    "- `_` last output\n",
    "- `__` last last output\n",
    "- `_x` where `x` is the cell number.\n",
    "\n",
    "### Tasks\n",
    "- Retrieve the output of the following cell\n",
    "- Suppress the output of the following cell"
   ]
  },
  {
   "cell_type": "code",
   "execution_count": 5,
   "metadata": {},
   "outputs": [
    {
     "data": {
      "text/plain": [
       "3"
      ]
     },
     "execution_count": 5,
     "metadata": {},
     "output_type": "execute_result"
    }
   ],
   "source": [
    "a = 3\n",
    "a"
   ]
  },
  {
   "cell_type": "code",
   "execution_count": 6,
   "metadata": {},
   "outputs": [
    {
     "data": {
      "text/plain": [
       "3"
      ]
     },
     "execution_count": 6,
     "metadata": {},
     "output_type": "execute_result"
    }
   ],
   "source": [
    "_"
   ]
  },
  {
   "cell_type": "markdown",
   "metadata": {},
   "source": [
    "## Getting help\n",
    "\n",
    "- `shift`-`tab`-`tab`: access information about python functions (place cursor between brackets)\n",
    "- `tab`: tab complete functions and objects\n",
    "- `?command` or `command?`\n",
    "- The help menu has links to detailed help on Python, Markdown, Matplotlib etc.\n",
    "\n",
    "### Task\n",
    "\n",
    "Use the above different ways to explore the arguments for the `print()` function.\n",
    "What is the `end` argument for?"
   ]
  },
  {
   "cell_type": "code",
   "execution_count": 7,
   "metadata": {},
   "outputs": [
    {
     "name": "stdout",
     "output_type": "stream",
     "text": [
      "\n"
     ]
    }
   ],
   "source": [
    "print()"
   ]
  },
  {
   "cell_type": "markdown",
   "metadata": {},
   "source": [
    "'end:   string appended after the last value, default a newline.'"
   ]
  },
  {
   "cell_type": "markdown",
   "metadata": {},
   "source": [
    "## Documentation using Markdown\n",
    "\n",
    "Markdown is a _lightweight_ markup language that\n",
    "\n",
    "- is intended to be as easy-to-read and easy-to-write as possible\n",
    "- supports equations ($f(x)=x$), [links](http://), ~~text formatting~~, tables, images etc.\n",
    "\n",
    "For more information see [here](https://github.com/adam-p/markdown-here/wiki/Markdown-Cheatsheet)."
   ]
  },
  {
   "cell_type": "markdown",
   "metadata": {},
   "source": [
    "### Task 1\n",
    "\n",
    "Use a Markdown cell to explain Pythagoras' theorem. Your answer should include\n",
    "\n",
    "- headers and text formatting\n",
    "- a link to an external web page\n",
    "- [LaTeX math](https://jupyter-notebook.readthedocs.io/en/stable/examples/Notebook/Typesetting%20Equations.html)\n",
    "\n",
    "_Hint:_ images need not be local, but can be linked via a URL."
   ]
  },
  {
   "cell_type": "markdown",
   "metadata": {},
   "source": [
    "# Pythagoras' theorem\n",
    "See a very detailed explanation on [Wikipedia](https://en.wikipedia.org/wiki/Pythagorean_theorem). In short, it is an equation relating the lengths of the sides a, b and c of a triange:\n",
    "$$\n",
    "a^2 + b^2 = c^2.\n",
    "$$\n",
    "The follwing image shows the triangle and the corresponding sides:\n",
    "<img src=\"https://upload.wikimedia.org/wikipedia/commons/thumb/d/d2/Pythagorean.svg/1024px-Pythagorean.svg.png\" width=\"200\" align=\"left\"/>"
   ]
  },
  {
   "cell_type": "code",
   "execution_count": 8,
   "metadata": {},
   "outputs": [],
   "source": [
    "answer = 'gAAAAABcAVG3y9adFC6juLwdCUxdFnKhUDK9gqLlTTrVNfiedLFxfKdZqWayixC54-Anq9BhGQZvoWBm-AzZMyDhmsfFKIWkrhe9KR-9bwwXho5axladf90oUcqO3gBRYcOHt1nixpfl4ExV2z7Fr-xsxLyIpCzz6K2e0BvagxTonkRQNApDU_qZ6PGTVzpjq9VvgIj_xIQkSt0GEvUI0vtOdZUPly8eszQorUXGbGqIgt5aeE4YVQrnwWRAkwErK9_SdSNNqzWUwnraM_GhnjeFDIMFEbrpSxGYZomAy8N5zqWQIYGbi7jJkPePqIGqYdoM2Anceb_9IrZHQEaap18pBwLU6-Mkwx6k1uCc26eQBdKsUbk36zVKcvt-FeHojYSXtCF3CsDb40nE_b7oBBh5we1fI9IWLSaaOv6NlQVUD0uM5qze7w8BegBmLtMbdwlX9lqx2UC1'\n"
   ]
  },
  {
   "cell_type": "code",
   "execution_count": 9,
   "metadata": {},
   "outputs": [
    {
     "name": "stdout",
     "output_type": "stream",
     "text": [
      "#### Pythagorean Theorem\n",
      "\n",
      "For a *right triangle* with legs $a$ and $b$, and hypotenuse, $c$,\n",
      "\n",
      "$$a^2 + b^2 = c^2$$\n",
      "\n",
      "![](https://upload.wikimedia.org/wikipedia/commons/d/d2/Pythagorean.svg \"Pythagoras\")\n",
      "\n",
      "Further reading [here.](http://mathworld.wolfram.com/PythagoreanTheorem.html)\n"
     ]
    }
   ],
   "source": [
    "decrypt(answer,'Helsingborg')"
   ]
  },
  {
   "cell_type": "markdown",
   "metadata": {},
   "source": [
    "#### Pythagorean Theorem\n",
    "\n",
    "For a *right triangle* with legs $a$ and $b$, and hypotenuse, $c$,\n",
    "\n",
    "$$a^2 + b^2 = c^2$$\n",
    "\n",
    "![](https://upload.wikimedia.org/wikipedia/commons/d/d2/Pythagorean.svg \"Pythagoras\")\n",
    "\n",
    "Further reading [here.](http://mathworld.wolfram.com/PythagoreanTheorem.html)"
   ]
  },
  {
   "cell_type": "markdown",
   "metadata": {},
   "source": [
    "### Task 2\n",
    "\n",
    "1. Use a markdown cell to create a table with column labels **Element**, **Symbol**, **Atomic number**, and a single row with **Hydrogen**, **H**, and **1**.\n",
    "2. In a *code cell*, import the `Markdown` function from `IPython` using\n",
    "   ```.py\n",
    "   from IPython.display import Markdown\n",
    "   ```\n",
    "   and explore its documentation.\n",
    "3. Redo subquestion 1 using the `Markdown` command:\n",
    "    - write the markdown table as a string (use triple quotation marks or write it on a single line using the line escape sequence \\n)\n",
    "    - populate the table using a [formatted Python string](https://pyformat.info)"
   ]
  },
  {
   "cell_type": "markdown",
   "metadata": {},
   "source": [
    "# Tables\n",
    "\n",
    "| Element        | Symbol           | Atomic Number  |\n",
    "| ------------- |:-------------:| -----:|\n",
    "| Hydrogen     | H | 1 |"
   ]
  },
  {
   "cell_type": "code",
   "execution_count": 10,
   "metadata": {},
   "outputs": [
    {
     "data": {
      "text/markdown": [
       "\n",
       "   #### This is a table filled with data from a python `list`\n",
       "   Element  | Symbol   |   Number\n",
       "   -------- | -------- | ----------\n",
       "   Hydrogen   | H   |  1\n",
       "\n",
       "   (triple quotes infer a _string literal_ that can span several lines)\n"
      ],
      "text/plain": [
       "<IPython.core.display.Markdown object>"
      ]
     },
     "execution_count": 10,
     "metadata": {},
     "output_type": "execute_result"
    }
   ],
   "source": [
    "from IPython.display import Markdown\n",
    "\n",
    "data = ['Hydrogen', 'H', '1'] # python list\n",
    "Markdown('''\n",
    "   #### This is a table filled with data from a python `list`\n",
    "   Element  | Symbol   |   Number\n",
    "   -------- | -------- | ----------\n",
    "   {d[0]}   | {d[1]}   |  {d[2]}\n",
    "\n",
    "   (triple quotes infer a _string literal_ that can span several lines)\n",
    "'''.format(d=data))"
   ]
  },
  {
   "cell_type": "code",
   "execution_count": 11,
   "metadata": {},
   "outputs": [],
   "source": [
    "answer = 'gAAAAABcAVHzAOYjHRhWhK28NdM61aXfc9hOcExm9TdQPvYCRa50Es4vPadouW4usg3AIm5zdbuYycJMkJ8HvGHmp-AOZcKT0W6XrSXMO8yZz44rUNWMYvT-re4ZVFx-om_Vtsj6bcWLAupO2QHKxZdRh2bl5o4sy8s-0yposy8g4CIGMC0OZs18nBru06xRa9DeLQhxBENMu7FqdC4XU9Bs_fIYtR8WJP5U3suk8O8bXX4AQlkfSCWGsCo-0729C0h6K3k2CkVFoMlnZnXCjpxND9pj5okvZNIsAR2-4KU_T6_AyP_8ifI1w4Xloe_hWourVdpagznZ3I16KLjFI9HdAC6kPeV1ao3Pm9-uKWhjq7oZWLj-aOgfBJeq3GKjyNSJ_r2RBa9bWU2hM9az05h-KtazArxp7_zdq3RDijC5NMgL6_Cyhut5G4Q243K6YiGBlrIWPC7lFhmmgsowExlBKWQne5Z6AQgYfHWPnoEteS-grvqN0iwuRT2PS1hv36RG4a6-O65HL0oQ9oslKmzCJCmd9UNoTBp_oMHWxE2kc-2lnZlB7BwrcsHhVXtrkap8tce0tyj_N3RksSJ6XN-CNoRklAA8UwbFjzSGBr20Q6HdL3QJ5o1r6gxvG06bFNx-iJvc_ALTjyIc9ZKXZnsWOoMymG-L_4FCejCKrLqHFonT2lsrn_dOZ5qVu5KQr4MzDwcxhBFlRYpHUcOCtj2wSqEM0f-ycCUZMveuJueC7s2uOKDXQQy0ZjtiZaW0VUoV-tJlwoWzlSjJvtRSLINESXfi9e60Xw=='"
   ]
  },
  {
   "cell_type": "code",
   "execution_count": 12,
   "metadata": {},
   "outputs": [
    {
     "name": "stdout",
     "output_type": "stream",
     "text": [
      "Answer 1. (markdown cell)\n",
      "\n",
      "#### This is a table with hard-coded contents\n",
      "Element  | Symbol   |   Number\n",
      "-------- | -------- | ----------\n",
      "Hydrogen | H        |  1\n",
      "\n",
      "Answer 3. (code cell)\n",
      "\n",
      "from IPython.display import Markdown\n",
      "data = ['Hydrogen', 'H', '1'] # python list\n",
      "\n",
      "Markdown('''\n",
      "   #### This is a table filled with data from a python `list`\n",
      "   Element  | Symbol   |   Number\n",
      "   -------- | -------- | ----------\n",
      "   {d[0]}   | {d[1]}   |  {d[2]}\n",
      "\n",
      "   (triple quotes infer a _string literal_ that can span several lines)\n",
      "'''.format(d=data))\n"
     ]
    }
   ],
   "source": [
    "decrypt(answer,'Osby')"
   ]
  },
  {
   "cell_type": "markdown",
   "metadata": {},
   "source": [
    "### Task: Embedded web content\n",
    "\n",
    "Lund University Publications ([LUP](https://lup.lub.lu.se/search)) allows you to search for publications from specific LU departments or authors. They also provide the possibility to _embed_ the search result. Use `IPython.display.IFrame` to display a search of your choice."
   ]
  },
  {
   "cell_type": "code",
   "execution_count": 13,
   "metadata": {},
   "outputs": [
    {
     "data": {
      "text/html": [
       "\n",
       "        <iframe\n",
       "            width=\"800\"\n",
       "            height=\"400\"\n",
       "            src=\"http://www.ncbi.nlm.nih.gov/Structure/icn3d/full.html?pdbid=4lzt\"\n",
       "            frameborder=\"0\"\n",
       "            allowfullscreen\n",
       "        ></iframe>\n",
       "        "
      ],
      "text/plain": [
       "<IPython.lib.display.IFrame at 0x1141b92b0>"
      ]
     },
     "execution_count": 13,
     "metadata": {},
     "output_type": "execute_result"
    }
   ],
   "source": [
    "# Here's an example showing a protein - replace with something from LUP!\n",
    "from IPython.display import IFrame\n",
    "IFrame(src=\"http://www.ncbi.nlm.nih.gov/Structure/icn3d/full.html?pdbid=4lzt\", width=800, height=400)"
   ]
  },
  {
   "cell_type": "code",
   "execution_count": 14,
   "metadata": {},
   "outputs": [
    {
     "data": {
      "text/html": [
       "\n",
       "        <iframe\n",
       "            width=\"800\"\n",
       "            height=\"400\"\n",
       "            src=\"https://lup.lub.lu.se/search/publication?q=%22Claus%22%20and%20%22Führer%22\"\n",
       "            frameborder=\"0\"\n",
       "            allowfullscreen\n",
       "        ></iframe>\n",
       "        "
      ],
      "text/plain": [
       "<IPython.lib.display.IFrame at 0x1141b9b50>"
      ]
     },
     "execution_count": 14,
     "metadata": {},
     "output_type": "execute_result"
    }
   ],
   "source": [
    "from IPython.display import IFrame\n",
    "IFrame(src=\"https://lup.lub.lu.se/search/publication?q=%22Claus%22%20and%20%22Führer%22\", width=800, height=400)"
   ]
  },
  {
   "cell_type": "markdown",
   "metadata": {},
   "source": [
    "##  IPython Magic commands\n",
    "- Line magic (`%`): operates on a single line and can be mixed with other languages\n",
    "- Cell magic (`%%`): operates on the whole cell\n",
    "- [More info](http://ipython.readthedocs.io/en/stable/interactive/magics.html)"
   ]
  },
  {
   "cell_type": "code",
   "execution_count": 15,
   "metadata": {},
   "outputs": [
    {
     "data": {
      "application/json": {
       "cell": {
        "!": "OSMagics",
        "HTML": "Other",
        "SVG": "Other",
        "bash": "Other",
        "capture": "ExecutionMagics",
        "debug": "ExecutionMagics",
        "file": "Other",
        "html": "DisplayMagics",
        "javascript": "DisplayMagics",
        "js": "DisplayMagics",
        "latex": "DisplayMagics",
        "markdown": "DisplayMagics",
        "perl": "Other",
        "prun": "ExecutionMagics",
        "pypy": "Other",
        "python": "Other",
        "python2": "Other",
        "python3": "Other",
        "ruby": "Other",
        "script": "ScriptMagics",
        "sh": "Other",
        "svg": "DisplayMagics",
        "sx": "OSMagics",
        "system": "OSMagics",
        "time": "ExecutionMagics",
        "timeit": "ExecutionMagics",
        "writefile": "OSMagics"
       },
       "line": {
        "alias": "OSMagics",
        "alias_magic": "BasicMagics",
        "autoawait": "AsyncMagics",
        "autocall": "AutoMagics",
        "automagic": "AutoMagics",
        "autosave": "KernelMagics",
        "bookmark": "OSMagics",
        "cat": "Other",
        "cd": "OSMagics",
        "clear": "KernelMagics",
        "colors": "BasicMagics",
        "conda": "PackagingMagics",
        "config": "ConfigMagics",
        "connect_info": "KernelMagics",
        "cp": "Other",
        "debug": "ExecutionMagics",
        "dhist": "OSMagics",
        "dirs": "OSMagics",
        "doctest_mode": "BasicMagics",
        "ed": "Other",
        "edit": "KernelMagics",
        "env": "OSMagics",
        "gui": "BasicMagics",
        "hist": "Other",
        "history": "HistoryMagics",
        "killbgscripts": "ScriptMagics",
        "ldir": "Other",
        "less": "KernelMagics",
        "lf": "Other",
        "lk": "Other",
        "ll": "Other",
        "load": "CodeMagics",
        "load_ext": "ExtensionMagics",
        "loadpy": "CodeMagics",
        "logoff": "LoggingMagics",
        "logon": "LoggingMagics",
        "logstart": "LoggingMagics",
        "logstate": "LoggingMagics",
        "logstop": "LoggingMagics",
        "ls": "Other",
        "lsmagic": "BasicMagics",
        "lx": "Other",
        "macro": "ExecutionMagics",
        "magic": "BasicMagics",
        "man": "KernelMagics",
        "matplotlib": "PylabMagics",
        "mkdir": "Other",
        "more": "KernelMagics",
        "mv": "Other",
        "notebook": "BasicMagics",
        "page": "BasicMagics",
        "pastebin": "CodeMagics",
        "pdb": "ExecutionMagics",
        "pdef": "NamespaceMagics",
        "pdoc": "NamespaceMagics",
        "pfile": "NamespaceMagics",
        "pinfo": "NamespaceMagics",
        "pinfo2": "NamespaceMagics",
        "pip": "PackagingMagics",
        "popd": "OSMagics",
        "pprint": "BasicMagics",
        "precision": "BasicMagics",
        "prun": "ExecutionMagics",
        "psearch": "NamespaceMagics",
        "psource": "NamespaceMagics",
        "pushd": "OSMagics",
        "pwd": "OSMagics",
        "pycat": "OSMagics",
        "pylab": "PylabMagics",
        "qtconsole": "KernelMagics",
        "quickref": "BasicMagics",
        "recall": "HistoryMagics",
        "rehashx": "OSMagics",
        "reload_ext": "ExtensionMagics",
        "rep": "Other",
        "rerun": "HistoryMagics",
        "reset": "NamespaceMagics",
        "reset_selective": "NamespaceMagics",
        "rm": "Other",
        "rmdir": "Other",
        "run": "ExecutionMagics",
        "save": "CodeMagics",
        "sc": "OSMagics",
        "set_env": "OSMagics",
        "store": "StoreMagics",
        "sx": "OSMagics",
        "system": "OSMagics",
        "tb": "ExecutionMagics",
        "time": "ExecutionMagics",
        "timeit": "ExecutionMagics",
        "unalias": "OSMagics",
        "unload_ext": "ExtensionMagics",
        "who": "NamespaceMagics",
        "who_ls": "NamespaceMagics",
        "whos": "NamespaceMagics",
        "xdel": "NamespaceMagics",
        "xmode": "BasicMagics"
       }
      },
      "text/plain": [
       "Available line magics:\n",
       "%alias  %alias_magic  %autoawait  %autocall  %automagic  %autosave  %bookmark  %cat  %cd  %clear  %colors  %conda  %config  %connect_info  %cp  %debug  %dhist  %dirs  %doctest_mode  %ed  %edit  %env  %gui  %hist  %history  %killbgscripts  %ldir  %less  %lf  %lk  %ll  %load  %load_ext  %loadpy  %logoff  %logon  %logstart  %logstate  %logstop  %ls  %lsmagic  %lx  %macro  %magic  %man  %matplotlib  %mkdir  %more  %mv  %notebook  %page  %pastebin  %pdb  %pdef  %pdoc  %pfile  %pinfo  %pinfo2  %pip  %popd  %pprint  %precision  %prun  %psearch  %psource  %pushd  %pwd  %pycat  %pylab  %qtconsole  %quickref  %recall  %rehashx  %reload_ext  %rep  %rerun  %reset  %reset_selective  %rm  %rmdir  %run  %save  %sc  %set_env  %store  %sx  %system  %tb  %time  %timeit  %unalias  %unload_ext  %who  %who_ls  %whos  %xdel  %xmode\n",
       "\n",
       "Available cell magics:\n",
       "%%!  %%HTML  %%SVG  %%bash  %%capture  %%debug  %%file  %%html  %%javascript  %%js  %%latex  %%markdown  %%perl  %%prun  %%pypy  %%python  %%python2  %%python3  %%ruby  %%script  %%sh  %%svg  %%sx  %%system  %%time  %%timeit  %%writefile\n",
       "\n",
       "Automagic is ON, % prefix IS NOT needed for line magics."
      ]
     },
     "execution_count": 15,
     "metadata": {},
     "output_type": "execute_result"
    }
   ],
   "source": [
    "%lsmagic"
   ]
  },
  {
   "cell_type": "markdown",
   "metadata": {},
   "source": [
    "This is an example of a LaTeX cell"
   ]
  },
  {
   "cell_type": "code",
   "execution_count": 16,
   "metadata": {},
   "outputs": [
    {
     "data": {
      "text/latex": [
       "\n",
       "\\begin{equation}\n",
       "    G_O = \\int_0^\\infty \\mathrm{d}r\\; 4 \\pi r^2 \\left [ g_O(r) -1 \\right ]\n",
       "\\end{equation}\n"
      ],
      "text/plain": [
       "<IPython.core.display.Latex object>"
      ]
     },
     "metadata": {},
     "output_type": "display_data"
    }
   ],
   "source": [
    "%%latex\n",
    "\n",
    "\\begin{equation}\n",
    "    G_O = \\int_0^\\infty \\mathrm{d}r\\; 4 \\pi r^2 \\left [ g_O(r) -1 \\right ]\n",
    "\\end{equation}"
   ]
  },
  {
   "cell_type": "markdown",
   "metadata": {},
   "source": [
    "This is an example of an [SVG](https://www.w3.org/Graphics/SVG/IG/resources/svgprimer.html) cell "
   ]
  },
  {
   "cell_type": "code",
   "execution_count": 17,
   "metadata": {},
   "outputs": [
    {
     "data": {
      "image/svg+xml": [
       "<svg height=\"100\" width=\"400\">\n",
       "  <style>\n",
       "    .bold { font: bold 40px sans-serif; }\n",
       "    .italic { font: italic 30px serif; }\n",
       "  </style>\n",
       "  <defs>\n",
       "    <marker id=\"arrowS\" markerWidth=\"15\" markerHeight=\"15\" refX=\"0\" refY=\"3\" orient=\"180\" markerUnits=\"strokeWidth\" viewBox=\"0 0 20 20\">\n",
       "      <path d=\"M0,0 L0,6 L9,3 z\" fill=\"black\"/>\n",
       "    </marker>\n",
       "    <marker id=\"arrowE\" markerWidth=\"15\" markerHeight=\"15\" refX=\"0\" refY=\"3\" orient=\"0\" markerUnits=\"strokeWidth\" viewBox=\"0 0 20 20\">\n",
       "      <path d=\"M0,0 L0,6 L9,3 z\" fill=\"black\"/>\n",
       "    </marker>\n",
       "  </defs>\n",
       "  <circle cx=\"50\" cy=\"50\" r=\"40\" stroke=\"blue\" stroke-width=\"6\" fill=\"transparent\"/>\n",
       "  <circle cx=\"300\" cy=\"50\" r=\"40\" stroke=\"red\" stroke-width=\"6\" fill=\"transparent\"/>\n",
       "  <text x=\"38\" y=\"60\" fill=\"blue\" class=\"bold\">+</text>\n",
       "  <text x=\"294\" y=\"61\" fill=\"red\" class=\"bold\">-</text>\n",
       "  <text x=\"170\" y=\"43\" fill=\"black\" class=\"italic\">r</text>\n",
       "  <line x1=\"110\" y1=\"50\" x2=\"240\" y2=\"50\" style=\"stroke:black; stroke-width:2\" stroke-dasharray=\"5,2\" marker-start=\"url(#arrowS)\" marker-end=\"url(#arrowE)\"/>\n",
       "</svg>"
      ],
      "text/plain": [
       "<IPython.core.display.SVG object>"
      ]
     },
     "metadata": {},
     "output_type": "display_data"
    }
   ],
   "source": [
    "%%svg\n",
    "\n",
    "<svg height=\"100\" width=\"400\">\n",
    "  <style>\n",
    "    .bold { font: bold 40px sans-serif; }\n",
    "    .italic { font: italic 30px serif; }\n",
    "  </style>\n",
    "  <defs>\n",
    "    <marker id=\"arrowS\" markerWidth=\"15\" markerHeight=\"15\" refX=\"0\" refY=\"3\" \n",
    "        orient=\"180\" markerUnits=\"strokeWidth\" viewBox=\"0 0 20 20\">\n",
    "      <path d=\"M0,0 L0,6 L9,3 z\" fill=\"black\" />\n",
    "    </marker>\n",
    "    <marker id=\"arrowE\" markerWidth=\"15\" markerHeight=\"15\" refX=\"0\" refY=\"3\" \n",
    "        orient=\"0\" markerUnits=\"strokeWidth\" viewBox=\"0 0 20 20\">\n",
    "      <path d=\"M0,0 L0,6 L9,3 z\" fill=\"black\" />\n",
    "    </marker>\n",
    "  </defs>\n",
    "  <circle cx=\"50\" cy=\"50\" r=\"40\" stroke=\"blue\" stroke-width=\"6\" fill=\"transparent\" />\n",
    "  <circle cx=\"300\" cy=\"50\" r=\"40\" stroke=\"red\" stroke-width=\"6\" fill=\"transparent\" />\n",
    "  <text x=\"38\" y=\"60\" fill=\"blue\" class=\"bold\">+</text>\n",
    "  <text x=\"294\" y=\"61\" fill=\"red\" class=\"bold\">-</text>\n",
    "  <text x=\"170\" y=\"43\" fill=\"black\" class=\"italic\">r</text>\n",
    "  <line x1=\"110\" y1=\"50\" x2=\"240\" y2=\"50\" style=\"stroke:black; stroke-width:2\" \n",
    "    stroke-dasharray=\"5,2\" marker-start=\"url(#arrowS)\" marker-end=\"url(#arrowE)\" />\n",
    "</svg> "
   ]
  },
  {
   "cell_type": "markdown",
   "metadata": {},
   "source": [
    "### [Shell commands](https://jakevdp.github.io/PythonDataScienceHandbook/01.05-ipython-and-shell-commands.html)"
   ]
  },
  {
   "cell_type": "markdown",
   "metadata": {},
   "source": [
    "* find the path of the current directory using `%pwd`\n",
    "* create a new directory using `%mkdir`\n",
    "* enter the new directory using `%cd`\n",
    "* find the path of the current directory using `%pwd`\n",
    "* get back to the parent directory using `%cd`\n",
    "* view a list of files and folders in the current directory with `%ls`\n",
    "* use `%cat` to view the environment.yml file of the course repository"
   ]
  },
  {
   "cell_type": "code",
   "execution_count": 18,
   "metadata": {},
   "outputs": [
    {
     "data": {
      "text/plain": [
       "'/Users/leaversbach/Documents/git/JupyterCourseCOMPUTE/jupyter-course-master/exercises'"
      ]
     },
     "execution_count": 18,
     "metadata": {},
     "output_type": "execute_result"
    }
   ],
   "source": [
    "%pwd"
   ]
  },
  {
   "cell_type": "markdown",
   "metadata": {},
   "source": [
    "Besides the Magic commands, any command that works on your terminal can be run in the Notebook by prepending an exclamation mark! These commands are executed in a temporary subshell, _e.g._, compare the output of the following two cells.\n",
    "\n",
    "N.B. The command to remove a nonempty folder on Windows is `rmdir /Q /S <dirname>`"
   ]
  },
  {
   "cell_type": "code",
   "execution_count": 19,
   "metadata": {},
   "outputs": [
    {
     "name": "stdout",
     "output_type": "stream",
     "text": [
      "/Users/leaversbach/Documents/git/JupyterCourseCOMPUTE/jupyter-course-master/exercises/new_dir\n",
      "/Users/leaversbach/Documents/git/JupyterCourseCOMPUTE/jupyter-course-master/exercises\n"
     ]
    }
   ],
   "source": [
    "%mkdir new_dir\n",
    "%cd new_dir\n",
    "%pwd\n",
    "%ls\n",
    "%cd ..\n",
    "%pwd\n",
    "%rm -r new_dir"
   ]
  },
  {
   "cell_type": "code",
   "execution_count": 20,
   "metadata": {},
   "outputs": [
    {
     "name": "stdout",
     "output_type": "stream",
     "text": [
      "\u001b[34mdata\u001b[m\u001b[m         day_2.ipynb  \u001b[34mfigs\u001b[m\u001b[m         parabola.txt\n",
      "day_1.ipynb  day_3.ipynb  \u001b[34mnew_dir\u001b[m\u001b[m\n",
      "/Users/leaversbach/Documents/git/JupyterCourseCOMPUTE/jupyter-course-master/exercises\n",
      "/Users/leaversbach/Documents/git/JupyterCourseCOMPUTE/jupyter-course-master/exercises\n"
     ]
    }
   ],
   "source": [
    "%mkdir new_dir\n",
    "!cd new_dir\n",
    "!ls\n",
    "!pwd\n",
    "!cd ..\n",
    "!pwd\n",
    "%rm -r new_dir"
   ]
  },
  {
   "cell_type": "markdown",
   "metadata": {},
   "source": [
    "### Task 3\n",
    "  - Write a script in a Python cell which creates and deletes this directory tree: \n",
    "    ```bash\n",
    "    .\n",
    "    └── new_dir\n",
    "        ├── dir_1\n",
    "        ├── dir_2\n",
    "        ├── dir_3\n",
    "        └── dir_4\n",
    "    ```\n",
    "  - To write your script, translate the following bash shell."
   ]
  },
  {
   "cell_type": "code",
   "execution_count": 21,
   "metadata": {},
   "outputs": [],
   "source": [
    "%%bash\n",
    "\n",
    "mkdir new_dir\n",
    "cd new_dir\n",
    "for i in {1..4}\n",
    "do\n",
    "mkdir dir_$i\n",
    "done\n",
    "cd ..\n",
    "rm -r new_dir"
   ]
  },
  {
   "cell_type": "code",
   "execution_count": 22,
   "metadata": {},
   "outputs": [],
   "source": [
    "answer = 'gAAAAABcASqXgQ5RM5983tgSRo4nD-XKkEiKOpq95dvnucHN62hTjGmSZ0IE5zbBooxiuMD72EmfXoY_3pLy89XMf9Wn-sxohva6A15UfPsfAydL7n3Qq628J4kam9LoBpinpVberru5ojcPui6p7VC9VXaE2HcqGTiCjn_GpPNineaXh8EgaMxWASEYpj2cGRfnmPV02nSK'\n"
   ]
  },
  {
   "cell_type": "code",
   "execution_count": 23,
   "metadata": {},
   "outputs": [
    {
     "name": "stdout",
     "output_type": "stream",
     "text": [
      "%mkdir new_dir\n",
      "%cd new_dir\n",
      "for i in range(1,5):\n",
      "    %mkdir dir_{i}\n",
      "%ls\n",
      "%cd ..\n",
      "%rm -r new_dir\n"
     ]
    }
   ],
   "source": [
    "decrypt(answer,'Klippan')"
   ]
  },
  {
   "cell_type": "markdown",
   "metadata": {},
   "source": [
    "### Task 4\n",
    "  - Search stackoverflow.com for different ways of saving a string to file in Python\n",
    "  - Use one of those methods to write a file named dirtree.txt containing the bash script to create the directory tree of the previous task \n",
    "  - Read the new file using `%cat`\n",
    "  - Use the `%%writefile` Magic command to save the same string to file "
   ]
  },
  {
   "cell_type": "code",
   "execution_count": 24,
   "metadata": {},
   "outputs": [],
   "source": [
    "answer = 'gAAAAABcATGAqC3y72nhYgn_E9BXBLx4ASSuSPcL4wLsn7BbprEwqVpW0GdDJfsDZYNMBbCvNjBOUrE1-AtJ4uTehitEyiU22VBerBYe5HGJoT58bBJhJOduZn5pMTQu4_UDf3Tp7TQSbceTB7d3IsGCFg92F1tiuNZkJsbELRJPcHU4NjrjcToYXAHkLRF-bC6jl312p91HpxbWnIflpUXesJqRdUmlzLwxkSYJ4DmRUiRru-BR1dEEio38ciQbs3coLJQY8edUiEyQoyRPEUzJIcxROM0PGrB9iYrsaD5eUs_NQOOaALpQDdiT_pMVmeUjSVlJpiI298l84ahqa5Io6mitG6YnZ0qj2C-BJlQUc55vK1SJvCIIGC4EoPQ9S83C-Q1VekR5ilUM5T0N1FPD4XiSurarcZRJGdMdsGPrK-24vX2Ok9l7QLCOvR03-gLMFnoKRXmBF0i8cQ-8Ms5UAGUHAYLv3AaiOmcLwbAzwwotHUmmTZw='"
   ]
  },
  {
   "cell_type": "code",
   "execution_count": 25,
   "metadata": {},
   "outputs": [
    {
     "name": "stdout",
     "output_type": "stream",
     "text": [
      "with open('dirtree.txt','w') as text_file:\n",
      "    text_file.write(\"\"\"%%bash\n",
      "\n",
      "mkdir new_dir\n",
      "cd new_dir\n",
      "for i in {1..4}\n",
      "do\n",
      "mkdir dir_$i\n",
      "done\n",
      "cd ..\n",
      "rm -r new_dir\"\"\")\n",
      "%cat dirtree.txt\n",
      "\n",
      "or in a separate cell\n",
      "\n",
      "%%writefile dirtree.txt\n",
      "%%bash\n",
      "\n",
      "mkdir new_dir\n",
      "cd new_dir\n",
      "for i in {1..4}\n",
      "do\n",
      "mkdir dir_$i\n",
      "done\n",
      "cd ..\n",
      "rm -r new_dir\n"
     ]
    }
   ],
   "source": [
    "decrypt(answer,'Bjuv')"
   ]
  },
  {
   "cell_type": "markdown",
   "metadata": {},
   "source": [
    "## Cross-language interaction\n",
    "\n",
    "It is possible to integrate [multiple languages](https://blog.jupyter.org/i-python-you-r-we-julia-baf064ca1fb6) in the same Notebook. For example we can pass variables from Bash to Python and vice versa. We can also define and compile [Cython](https://cython.org/) or Fortran functions in the Notebook and run them in a Python cell (vide infra).\n",
    "\n",
    "### Task 5\n",
    "  - Create a Python variable storing the path of the current directory\n",
    "  - Create a Python variable storing the list of files and folders in the current directory (using `!ls` on Unix and `!dir` on Windows)"
   ]
  },
  {
   "cell_type": "code",
   "execution_count": 26,
   "metadata": {},
   "outputs": [],
   "source": [
    "answer = 'gAAAAABcAGuDmNC7FPu2tRLRlcnuPGB0ZNGjMJW7dvPic723eZeqR2fueK25CFKrfgPFQ3HzAoludqrlQLAr8d1cWRW7JW-ZGS6DTBZNaRo1ejwWTnRXaexSypoZjH4YFVzwZ3t_CRRg'\n"
   ]
  },
  {
   "cell_type": "code",
   "execution_count": 27,
   "metadata": {},
   "outputs": [
    {
     "name": "stdout",
     "output_type": "stream",
     "text": [
      "pwd = %pwd\n",
      "lslist = !ls # !dir on Windows\n"
     ]
    }
   ],
   "source": [
    "decrypt(answer,'Lomma')"
   ]
  },
  {
   "cell_type": "markdown",
   "metadata": {},
   "source": [
    "<a id='2'></a>"
   ]
  },
  {
   "cell_type": "markdown",
   "metadata": {},
   "source": [
    "# Python built-in functions"
   ]
  },
  {
   "cell_type": "code",
   "execution_count": 28,
   "metadata": {
    "scrolled": true
   },
   "outputs": [
    {
     "data": {
      "image/jpeg": "[encoded data removed]",
      "text/html": [
       "\n",
       "        <iframe\n",
       "            width=\"400\"\n",
       "            height=\"300\"\n",
       "            src=\"https://www.youtube.com/embed/YpBUiEsTiEA\"\n",
       "            frameborder=\"0\"\n",
       "            allowfullscreen\n",
       "        ></iframe>\n",
       "        "
      ],
      "text/plain": [
       "<IPython.lib.display.YouTubeVideo at 0x1141b95b0>"
      ]
     },
     "execution_count": 28,
     "metadata": {},
     "output_type": "execute_result"
    }
   ],
   "source": [
    "YouTubeVideo('YpBUiEsTiEA')"
   ]
  },
  {
   "cell_type": "markdown",
   "metadata": {},
   "source": [
    "### Task 6\n",
    "Find the type of the items of the arrays `np.arange(0,9,1)` and `np.arange(0.,9,1)`."
   ]
  },
  {
   "cell_type": "code",
   "execution_count": 29,
   "metadata": {},
   "outputs": [
    {
     "name": "stdout",
     "output_type": "stream",
     "text": [
      "<class 'numpy.ndarray'> <class 'numpy.ndarray'>\n"
     ]
    }
   ],
   "source": [
    "import numpy as np\n",
    "print(type(np.arange(0,9,1)),type(np.arange(0.,9,1)))"
   ]
  },
  {
   "cell_type": "code",
   "execution_count": 30,
   "metadata": {},
   "outputs": [],
   "source": [
    "answer = 'gAAAAABcAXC6ubPFyqGJPj-A6Mf7CUH0yX6Q55wFMDx-WUSVnAd38Ysi4wrkkBGJJAotGDGZ452zkXKoVX1J8G-fFWnvNtPyovGhVxC6sK7yDRbTFo9LolHQ5b2w3cTfZ0m7kAu063tYE8-VmCIQBh6m6zEd5l9Evw=='"
   ]
  },
  {
   "cell_type": "code",
   "execution_count": 31,
   "metadata": {},
   "outputs": [
    {
     "name": "stdout",
     "output_type": "stream",
     "text": [
      "print(np.arange(0,9,1).dtype)\n",
      "print(np.arange(0.,9,1).dtype)\n"
     ]
    }
   ],
   "source": [
    "decrypt(answer,'Perstorp')"
   ]
  },
  {
   "cell_type": "markdown",
   "metadata": {},
   "source": [
    "### Task 7\n",
    "Use a list comprehension to generate all possible 4-digit codes consisting of 2 alphabetical letters and 2 numbers (from 0 to 9). How many items does the list of contain? Turn the list into a NumPy array and count the number of unique items."
   ]
  },
  {
   "cell_type": "code",
   "execution_count": 32,
   "metadata": {},
   "outputs": [],
   "source": [
    "list = [i+j+k+l for i in 'ab' for j in 'ab' for k in '0123456789' for l in '0123456789']\n",
    "list;"
   ]
  },
  {
   "cell_type": "code",
   "execution_count": 33,
   "metadata": {},
   "outputs": [
    {
     "data": {
      "text/plain": [
       "400"
      ]
     },
     "execution_count": 33,
     "metadata": {},
     "output_type": "execute_result"
    }
   ],
   "source": [
    "l = np.array(list)\n",
    "len(l)"
   ]
  },
  {
   "cell_type": "code",
   "execution_count": 34,
   "metadata": {},
   "outputs": [],
   "source": [
    "answer = 'gAAAAABcAXUFYR3d2T0gj4i2zvger7rLhjcdCpmHtMJ25cg0I-Cng6cC2w5ZTCvDHRpt1XOKds6fWztIMkMPoihsu-XDusbRCL7S4-BiWICQHyUqyKuHtrNen4TrJXv2UHP_pzPsCv2BM6xUXKocTsgtBuAuYCLSxX-4bnyXyLNVEsOmTt7jw-QeVmBqiGvqXqP-vv4G7ueg1f6vpRWBNaqayso5ZhVlRzUNc6fNcgWX7q3EvOs_RqY1avTku9V46ldfWSbwFxcCyX-N1aEaYGHuVCgpyZy2w6HDSbWzGfx_quF293TLAX94nJOAh2JYS6NGk9IlvQYWa4LUyGW_Xj1V01I_AlSXiA=='\n"
   ]
  },
  {
   "cell_type": "code",
   "execution_count": 35,
   "metadata": {},
   "outputs": [
    {
     "name": "stdout",
     "output_type": "stream",
     "text": [
      "alphabet = 'abcdefghijklmnopqrstuvwxyz'\n",
      "codes = [ i+j+str(k)+str(l) for i in alphabet for j in alphabet for k in range(10) for l in range(10) ]\n",
      "print( len(codes) )\n",
      "print( np.unique(np.array(codes)).size )\n"
     ]
    }
   ],
   "source": [
    "decrypt(answer,'Tomelilla')"
   ]
  },
  {
   "cell_type": "markdown",
   "metadata": {},
   "source": [
    "### Task 8\n",
    "Generate the array [9 7 5 3] with `np.linspace(start=0,stop=10,num=11)` and indexing. Convert its elements to strings with 2 trailing zeros using [`format`](https://pyformat.info/)."
   ]
  },
  {
   "cell_type": "code",
   "execution_count": 36,
   "metadata": {},
   "outputs": [
    {
     "name": "stdout",
     "output_type": "stream",
     "text": [
      "['9.00' '7.00' '5.00' '3.00']\n"
     ]
    }
   ],
   "source": [
    "np.linspace(start=9,stop=3,num=4)\n",
    "array = np.linspace(start=0,stop=10,num=11,dtype=int)[-2:2:-2]\n",
    "array = np.array(['{:1.2f}'.format(i) for i in array])\n",
    "print(array)"
   ]
  },
  {
   "cell_type": "code",
   "execution_count": 37,
   "metadata": {},
   "outputs": [],
   "source": [
    "answer = 'gAAAAABcAXWqJ3EkPOBOFbWCE8-SH72Mxtjk9Vupi0T6fBICvOOaJrbNMdr2prHQGeOfWflKEbtWxCODpVK5HY7Q1PEeg1r7-SVmSIWO9HSk_rdBitN-DnIL2XbfC9AaM2SSurG4O9PYa-7Mq1lVhm1oyV9vdzVbK0W6M5Wup08NvRZliVlkve1Y4OvcsqxoQdrM1VfuM-fDU3yd7Ytk0zNIAaIueLFCOOkOoEgLipGSDRWdCSqbXquMtsd-xQ9sH2emp0k-k5yE'\n"
   ]
  },
  {
   "cell_type": "code",
   "execution_count": 38,
   "metadata": {},
   "outputs": [
    {
     "name": "stdout",
     "output_type": "stream",
     "text": [
      "array = np.linspace(start=0,stop=10,num=11,dtype=int)[-2:2:-2]\n",
      "array = np.array(['{:1.2f}'.format(i) for i in array])\n",
      "print(array)\n"
     ]
    }
   ],
   "source": [
    "decrypt(answer,'Vellinge')"
   ]
  },
  {
   "cell_type": "markdown",
   "metadata": {},
   "source": [
    "### Task 9\n",
    "- create a linear sequence of integers from 0 to 7 stepping by 1 with `arange` and `linspace`\n",
    "- create a linear sequence of floating-point numbers from 0 to 7 stepping by 0.25 with `arange` and `linspace`"
   ]
  },
  {
   "cell_type": "code",
   "execution_count": 39,
   "metadata": {},
   "outputs": [
    {
     "data": {
      "text/plain": [
       "array([0, 1, 2, 3, 4, 5, 6, 7])"
      ]
     },
     "execution_count": 39,
     "metadata": {},
     "output_type": "execute_result"
    }
   ],
   "source": [
    "np.linspace(0,7,8,dtype='int')"
   ]
  },
  {
   "cell_type": "code",
   "execution_count": 40,
   "metadata": {},
   "outputs": [
    {
     "data": {
      "text/plain": [
       "array([0, 1, 2, 3, 4, 5, 6, 7])"
      ]
     },
     "execution_count": 40,
     "metadata": {},
     "output_type": "execute_result"
    }
   ],
   "source": [
    "np.arange(0,8,1,dtype='int')"
   ]
  },
  {
   "cell_type": "code",
   "execution_count": 41,
   "metadata": {},
   "outputs": [
    {
     "data": {
      "text/plain": [
       "array([0.  , 0.25, 0.5 , 0.75, 1.  , 1.25, 1.5 , 1.75, 2.  , 2.25, 2.5 ,\n",
       "       2.75, 3.  , 3.25, 3.5 , 3.75, 4.  , 4.25, 4.5 , 4.75, 5.  , 5.25,\n",
       "       5.5 , 5.75, 6.  , 6.25, 6.5 , 6.75, 7.  ])"
      ]
     },
     "execution_count": 41,
     "metadata": {},
     "output_type": "execute_result"
    }
   ],
   "source": [
    "np.linspace(0,7,29)"
   ]
  },
  {
   "cell_type": "code",
   "execution_count": 42,
   "metadata": {},
   "outputs": [
    {
     "data": {
      "text/plain": [
       "array([0.  , 0.25, 0.5 , 0.75, 1.  , 1.25, 1.5 , 1.75, 2.  , 2.25, 2.5 ,\n",
       "       2.75, 3.  , 3.25, 3.5 , 3.75, 4.  , 4.25, 4.5 , 4.75, 5.  , 5.25,\n",
       "       5.5 , 5.75, 6.  , 6.25, 6.5 , 6.75, 7.  , 7.25, 7.5 , 7.75])"
      ]
     },
     "execution_count": 42,
     "metadata": {},
     "output_type": "execute_result"
    }
   ],
   "source": [
    "np.arange(0,8,0.25)"
   ]
  },
  {
   "cell_type": "code",
   "execution_count": 43,
   "metadata": {},
   "outputs": [],
   "source": [
    "answer = 'gAAAAABcAXacH2s6wH7Q02OEFFeRxe9NXtcuBKGUB4UffBOYJnUZVnv8XeoToWcoQ7FGYa3_elbyhsuFj1n7t6ywpNMqfGIHyuSZA80EnCUrhBv-4hRGUEeeH-FFo_Ca2hck89vkCb-rCTXdVB3oKY_Sj5Cl1BbHY3p3lCtvRTrVY47y_GaUaIlnL1ZB1liPGl6t1m0-ejLJQTu9Jir0_-6HSaoQikAmhzZP1qhKnTbFp4-jK-ddpgxpVLjFJs316OcrGMkkk5YCosZRzzRW9QZSzbufN3nuJj13G7qbl9skcdgM2uvGWcQY3UzEmJy-tbqtnD809YrqtO9I7tpkSwBs82oxJ32hJ9FsSwGhy05GaDRhcUve7CI='\n"
   ]
  },
  {
   "cell_type": "code",
   "execution_count": 44,
   "metadata": {},
   "outputs": [
    {
     "name": "stdout",
     "output_type": "stream",
     "text": [
      "print('using arange:\n",
      "',np.arange(0,8,1)) # type inferred\n",
      "print('using linspace:\n",
      "',np.linspace(0,7,7+1,dtype=int))\n",
      "print('using arange:\n",
      "',np.arange(0,7.1,.25))\n",
      "print('using linspace:\n",
      "',np.linspace(0,7,7*4+1,dtype=float))\n"
     ]
    }
   ],
   "source": [
    "decrypt(answer,'Skurup')"
   ]
  },
  {
   "cell_type": "markdown",
   "metadata": {},
   "source": [
    "### Task 10\n",
    "- Create an uninitialized array of size 0 and populate it, in a for loop, with the 4-digit codes containing the letter \"a\" and selected from those generated in Task 7.<br>\n",
    "Hint: use `empty` and `append`.\n",
    "- Create the same array in a single line using list comprehension."
   ]
  },
  {
   "cell_type": "code",
   "execution_count": 45,
   "metadata": {},
   "outputs": [],
   "source": [
    "answer = 'gAAAAABcAX7FytesghVv_mvr9wtxzVRr8OP5di6oAxZuVVELnr2VIbXR8xTdwX7kyt32y2JRd3UiOc1FKIc1IyLOlmFJma2XXQ72wPGOnqlFaPTceiASAQ8dv50fvtwCsd3CkKDPFsL6Qs2Bk7gnCR602ZmQJJJgLuuaIip0N3d_H88olMevcDyBnMUU9hUqruGTaSf3WR3cRtCInw_5ACJgYgZ9FP4FDU20Ba6bN9guR45P1ShCZOwbLf0NKeLv03sl1LWw2nQSAHEmkMvJgdNZ5_Qwupv3_JxscIBFpN8ho7gKCXbbzCF2OB5-RivPv2DulrOe8WfUl_nm-r-sHhuC0doAs2m6-g=='\n"
   ]
  },
  {
   "cell_type": "code",
   "execution_count": 46,
   "metadata": {},
   "outputs": [
    {
     "name": "stdout",
     "output_type": "stream",
     "text": [
      "array = np.empty(0)\n",
      "for code in codes:\n",
      "    if 'a' in code:\n",
      "        array = np.append(array, code)\n",
      "print(array.size)\n",
      "array = np.array( [code for code in codes if 'a' in code] )\n",
      "print(array.size)\n"
     ]
    }
   ],
   "source": [
    "decrypt(answer,'Lund')"
   ]
  },
  {
   "cell_type": "markdown",
   "metadata": {},
   "source": [
    "<a id='3'></a>"
   ]
  },
  {
   "cell_type": "markdown",
   "metadata": {},
   "source": [
    "# Storage and manipulation of numerical arrays\n",
    "<img src=\"https://upload.wikimedia.org/wikipedia/commons/1/1a/NumPy_logo.svg\" width=\"200\" align=\"left\"/>"
   ]
  },
  {
   "cell_type": "code",
   "execution_count": 47,
   "metadata": {},
   "outputs": [
    {
     "data": {
      "image/jpeg": "[encoded data removed]",
      "text/html": [
       "\n",
       "        <iframe\n",
       "            width=\"400\"\n",
       "            height=\"300\"\n",
       "            src=\"https://www.youtube.com/embed/2xJsNi3wk-s\"\n",
       "            frameborder=\"0\"\n",
       "            allowfullscreen\n",
       "        ></iframe>\n",
       "        "
      ],
      "text/plain": [
       "<IPython.lib.display.YouTubeVideo at 0x11427ecd0>"
      ]
     },
     "execution_count": 47,
     "metadata": {},
     "output_type": "execute_result"
    }
   ],
   "source": [
    "YouTubeVideo('2xJsNi3wk-s')"
   ]
  },
  {
   "cell_type": "markdown",
   "metadata": {},
   "source": [
    "### Task 11\n",
    "Generate a 3x3 zero matrix and turn it into a 3x3 identity matrix by modifying values one by one or by fancy indexing."
   ]
  },
  {
   "cell_type": "code",
   "execution_count": 48,
   "metadata": {},
   "outputs": [
    {
     "data": {
      "text/plain": [
       "array([[0., 0., 0.],\n",
       "       [0., 0., 0.],\n",
       "       [0., 0., 0.]])"
      ]
     },
     "execution_count": 48,
     "metadata": {},
     "output_type": "execute_result"
    }
   ],
   "source": [
    "M = np.zeros((3,3))\n",
    "M"
   ]
  },
  {
   "cell_type": "code",
   "execution_count": 49,
   "metadata": {},
   "outputs": [
    {
     "data": {
      "text/plain": [
       "array([[1., 0., 0.],\n",
       "       [0., 1., 0.],\n",
       "       [0., 0., 1.]])"
      ]
     },
     "execution_count": 49,
     "metadata": {},
     "output_type": "execute_result"
    }
   ],
   "source": [
    "for i in range(3):\n",
    "    M[i,i] = 1\n",
    "M"
   ]
  },
  {
   "cell_type": "code",
   "execution_count": 50,
   "metadata": {},
   "outputs": [
    {
     "data": {
      "text/plain": [
       "array([[1., 0., 0.],\n",
       "       [0., 1., 0.],\n",
       "       [0., 0., 1.]])"
      ]
     },
     "execution_count": 50,
     "metadata": {},
     "output_type": "execute_result"
    }
   ],
   "source": [
    "M = np.zeros((3,3))\n",
    "M[[0,1,2],[0,1,2]] = [1,1,1]\n",
    "M"
   ]
  },
  {
   "cell_type": "code",
   "execution_count": 51,
   "metadata": {},
   "outputs": [],
   "source": [
    "answer = 'gAAAAABcAYDE5-H_i0u-50j3_pcGQwGmrLyH-98v5F-kISABJWSIDDiQues0yc1-M6rIQ57o_neV8kpksWCgjJUR-k0N7u2SrqBgz1oxnwSzryRYsfJLWKSxzNhJM0588wVeXPowZ0wjEKTeURn0f9aDhS3rghxDFaYD30qyubR1qXOqY3644FKa1x4YWgaLpN8x9s_Hs7_6MuPgnx0eoP5oDx1IfL4Dmqb51rIsgiGbQbvWT7tnAjI8JL7LCxP6PIG7FITginHriuM1edJ1h__JbxCQq78mdSFZYgsqy2TGoupVvOqNfN23ox91vXHotjp2UE6y_b0rY6d7mydOt4GgvMgKnDl6QCybpV_Td-ySVCvNuqWTADKwsfntWb-wrJwhh8SsFBrH-35h70ruU1U-307PtfjWZUCirkhANhWh4c5tJpzBJVjsTYyQDwoRNYzVgeAcHkmYocODTwhswnirZOZDwCuAgQY4F6Ba_zB47n6gltOsPYy_DUNAQClAIOABK4Zt79_1bMDDLrnVaHT1TqF4CR42PUJ143SF86zuqDoz0H_E1szwUsz_95qyBvcf1ZzO99tDdAFBt-5P4r5EVoy-iQ35kA=='\n"
   ]
  },
  {
   "cell_type": "code",
   "execution_count": 52,
   "metadata": {},
   "outputs": [
    {
     "name": "stdout",
     "output_type": "stream",
     "text": [
      "array = np.zeros(shape=(3,3),dtype=int)\n",
      "# one by one\n",
      "array[0,0] = 1\n",
      "array[1,1] = 1\n",
      "array[2,2] = 1\n",
      "print(array)\n",
      "# or using fancy indexing\n",
      "array = np.zeros(shape=(3,3),dtype=int)\n",
      "array[(0,1,2),(0,1,2)] = 1 # or array[range(3),range(3)] \n",
      "print(array)\n",
      "# or using np.add.at(array,indeces,1)\n",
      "array = np.zeros(shape=(3,3),dtype=int)\n",
      "np.add.at( array, (range(3),range(3)), 1 ) # sum\n",
      "print(array)\n"
     ]
    }
   ],
   "source": [
    "decrypt(answer,'Staffanstorp')"
   ]
  },
  {
   "cell_type": "markdown",
   "metadata": {},
   "source": [
    "### Task 12\n",
    "Complete the following lines\n",
    "\n",
    "```.py\n",
    "x = \n",
    "y = \n",
    "np.savetxt('',np.c_[],fmt='%',header='\\t',delimiter='',comments='')\n",
    "%cat ```\n",
    "\n",
    "The cell should\n",
    "- write to file the following table as a tab-separated value file, specifying a header and the format of the numbers\n",
    "\n",
    "x        | y        |   \n",
    "-------- | -------- | \n",
    "0        | 0        |\n",
    "1        | 1        |\n",
    "2        | 4        |\n",
    "3        | 9        |\n",
    "4        | 16       |\n",
    "5        | 25       |\n",
    "6        | 36       |\n",
    "7        | 49       |\n",
    "8        | 64       |\n",
    "9        | 81       |\n",
    "\n",
    "- read the file in the notebook to check that it look as it should."
   ]
  },
  {
   "cell_type": "code",
   "execution_count": 53,
   "metadata": {},
   "outputs": [
    {
     "name": "stdout",
     "output_type": "stream",
     "text": [
      "x y\r\n",
      "0 0\r\n",
      "1 1\r\n",
      "2 4\r\n",
      "3 9\r\n",
      "4 16\r\n",
      "5 25\r\n",
      "6 36\r\n",
      "7 49\r\n",
      "8 64\r\n",
      "9 81\r\n"
     ]
    }
   ],
   "source": [
    "x = np.arange(0,10,1)\n",
    "y = x**2 \n",
    "np.savetxt('parabola.txt',np.c_[x,y],fmt='%d',header='x y',delimiter=' ',comments='')\n",
    "%cat parabola.txt"
   ]
  },
  {
   "cell_type": "code",
   "execution_count": 54,
   "metadata": {},
   "outputs": [],
   "source": [
    "answer = 'gAAAAABcAoobPB8I2ABv5t6VCQQteRUOEPicO0MQ2Auh8Jw_UjJ3I7zAFTfSmNIdWktMQP1_nGsVTe-aQRcqJXoFtyruJp4Lm23MKpKie_dS_AQEBHfWD0xjqJiQQSmsPNSgNfI2qfO-umzSR0QbkFP9a9SafpfluAwlHliBG3rJfQ_foe5O9JccdsbqzG903DsDyZASaEhQmu0bWiq_0xTI3QR2ORwc8DKrrNNYJqm6IV15G9u66yM9zapPx8dNlrpnNCf5HE6t'\n"
   ]
  },
  {
   "cell_type": "code",
   "execution_count": 55,
   "metadata": {},
   "outputs": [
    {
     "name": "stdout",
     "output_type": "stream",
     "text": [
      "x = np.arange(0,10,1)\n",
      "y = x**2\n",
      "np.savetxt('parabola.txt',np.c_[x,y],fmt='%d',header='x\ty',delimiter='\t',comments='')\n",
      "%cat parabola.txt\n"
     ]
    }
   ],
   "source": [
    "decrypt(answer,'Trelleborg')"
   ]
  },
  {
   "cell_type": "markdown",
   "metadata": {},
   "source": [
    "### Task 13\n",
    "\n",
    "Complete the following lines\n",
    "\n",
    "```.py\n",
    "x,y = np.loadtxt(,dtype=str,delimiter=,skiprows=,unpack=)\n",
    "plt.plot(x,y)\n",
    "plt.show()\n",
    "x,y = np.loadtxt(,dtype=int,delimiter=,skiprows=,unpack=)\n",
    "plt.plot(x,y)\n",
    "plt.show()```\n",
    "\n",
    "The cell should\n",
    "- load the text file created in the previous task so that the values are interpreted as strings (each column should be loaded into a separate array)\n",
    "- plot $y$ vs $x$\n",
    "- load the text file created in the previous task so that the values are interpreted as integers (each column should be loaded into a separate array)\n",
    "- plot $y$ vs $x$ and compare with the previous plot."
   ]
  },
  {
   "cell_type": "code",
   "execution_count": 56,
   "metadata": {},
   "outputs": [
    {
     "data": {
      "image/png": "[encoded data removed]",
      "text/plain": [
       "<Figure size 432x288 with 1 Axes>"
      ]
     },
     "metadata": {
      "needs_background": "light"
     },
     "output_type": "display_data"
    },
    {
     "data": {
      "image/png": "[encoded data removed]",
      "text/plain": [
       "<Figure size 432x288 with 1 Axes>"
      ]
     },
     "metadata": {
      "needs_background": "light"
     },
     "output_type": "display_data"
    }
   ],
   "source": [
    "x,y = np.loadtxt('parabola.txt',dtype=str,delimiter=' ',skiprows=1,unpack=True)\n",
    "plt.plot(x,y)\n",
    "plt.show()\n",
    "x,y = np.loadtxt('parabola.txt',dtype=int,delimiter=' ',skiprows=1,unpack=True)\n",
    "plt.plot(x,y)\n",
    "plt.show()"
   ]
  },
  {
   "cell_type": "code",
   "execution_count": 57,
   "metadata": {},
   "outputs": [],
   "source": [
    "answer = 'gAAAAABcAos1k2OGaYibgW_3ODaNjTrbU92NNsxSDFCTirW3uEf7DLxBrxNwMln4ZDiMRff3N6ctjB1KZGIE4FsOpG3x2MbteJgrycQJLoiW2atBA_3oXeaE83LPOK7Qcca0cuJPrxxJXY1lbBQPw0tZXe3-0zcytax9eI37TovKhPpNGWq2vxr-f3j22_0QREjMiZGhU2T5g2dXNFO9R5OKHk6gEtDldPf196SkJT9lO_WVxe21bkMXY7ogm6a-Jaxz71eovm_iaGqDg904nCd1sccqvS-oZFxPKZxNA-xzAKNvRfFzCPVnEMfm3YnUoFS7B5gPMnb3BVGkxD5fAYVpIXeI-ByaLGvutV7HvC8-PtJKOtJg-eM='\n"
   ]
  },
  {
   "cell_type": "code",
   "execution_count": 58,
   "metadata": {},
   "outputs": [
    {
     "name": "stdout",
     "output_type": "stream",
     "text": [
      "x,y = np.loadtxt('parabola.txt',dtype=str,delimiter='\t',skiprows=1,unpack=True)\n",
      "plt.plot(x,y)\n",
      "plt.show()\n",
      "x,y = np.loadtxt('parabola.txt',dtype=int,delimiter='\t',skiprows=1,unpack=True)\n",
      "plt.plot(x,y)\n",
      "plt.show()\n"
     ]
    }
   ],
   "source": [
    "decrypt(answer,'Simrishamn')"
   ]
  },
  {
   "cell_type": "markdown",
   "metadata": {},
   "source": [
    "<a id='4'></a>"
   ]
  },
  {
   "cell_type": "markdown",
   "metadata": {},
   "source": [
    "# Repeated operations and universal functions"
   ]
  },
  {
   "cell_type": "code",
   "execution_count": 59,
   "metadata": {},
   "outputs": [
    {
     "data": {
      "image/jpeg": "[encoded data removed]",
      "text/html": [
       "\n",
       "        <iframe\n",
       "            width=\"400\"\n",
       "            height=\"300\"\n",
       "            src=\"https://www.youtube.com/embed/469ukhzwEPg\"\n",
       "            frameborder=\"0\"\n",
       "            allowfullscreen\n",
       "        ></iframe>\n",
       "        "
      ],
      "text/plain": [
       "<IPython.lib.display.YouTubeVideo at 0x11428ebb0>"
      ]
     },
     "execution_count": 59,
     "metadata": {},
     "output_type": "execute_result"
    }
   ],
   "source": [
    "YouTubeVideo('469ukhzwEPg')"
   ]
  },
  {
   "cell_type": "markdown",
   "metadata": {},
   "source": [
    "### Task 14\n",
    "Compute and plot the function $z=xy\\exp[-(x^2+y^2)]$ on a square grid 100x100 with side lengths ranging from -2 to 2. Complete the following lines:\n",
    "\n",
    "```.py\n",
    "y = x[:,np.]\n",
    "z = * * np.exp( -  - ) \n",
    "plt.imshow(z, extent=, origin=)\n",
    "plt.colorbar(label=)\n",
    "plt.xlabel()\n",
    "plt.ylabel();```"
   ]
  },
  {
   "cell_type": "code",
   "execution_count": 60,
   "metadata": {},
   "outputs": [
    {
     "data": {
      "image/png": "[encoded data removed]",
      "text/plain": [
       "<Figure size 432x288 with 2 Axes>"
      ]
     },
     "metadata": {
      "needs_background": "light"
     },
     "output_type": "display_data"
    }
   ],
   "source": [
    "x = np.linspace(-2,2,100)\n",
    "y = x[:,np.newaxis]\n",
    "z = x*y*np.exp(-(x**2+y**2)) \n",
    "plt.imshow(z, extent=[-2,2,2,-2], origin='lower')\n",
    "plt.colorbar(label='$x y \\exp[−(y^2+y^2)]$')\n",
    "plt.xlabel('x')\n",
    "plt.ylabel('y');"
   ]
  },
  {
   "cell_type": "code",
   "execution_count": 61,
   "metadata": {},
   "outputs": [],
   "source": [
    "answer = 'gAAAAABcAoMby1Rf-3JRj1ehvYtOVLeVNwYOuGoUFrmbarZifjvZwDnLzdox_J9dSAkRSacDW9DcP5WbF3nCbXp0ByN7u4LiRhIVCCAJAHvQCjgKLJuimG3X-PHcCuvlofloVxMpuaYGY5QtpoFSH3FJRb40kHwFxrlKIgBqFK_yFMCOwOSc5srYCeJVgRydPqalgSqIHK5DTtIvR_DfRRcrA-MDPMM_hPyuPNYC-QYoeXH-scxbW-22kSNG8p-pcVNoySgIPn4C1YFq_T6m-oB8AOKy6pwtFog84--3yS1g63eYy6diu34nMMUOEnZEk9VmdqyhEPym'\n"
   ]
  },
  {
   "cell_type": "code",
   "execution_count": 62,
   "metadata": {},
   "outputs": [
    {
     "name": "stdout",
     "output_type": "stream",
     "text": [
      "x = np.linspace(-2, 2, 100)\n",
      "y = x[:,np.newaxis]\n",
      "z = x*y*np.exp( - x**2 - y**2) \n",
      "plt.imshow(z, extent=[-2,2,2,-2], origin='lower')\n",
      "plt.colorbar(label='z')\n",
      "plt.xlabel('x')\n",
      "plt.ylabel('y');\n"
     ]
    }
   ],
   "source": [
    "decrypt(answer,'Kristianstad')"
   ]
  },
  {
   "cell_type": "markdown",
   "metadata": {},
   "source": [
    "### Task 15\n",
    "Use boolean masking to set to 0.18 the $z$ values that are lower than 0.04 in the previous plot."
   ]
  },
  {
   "cell_type": "code",
   "execution_count": 63,
   "metadata": {},
   "outputs": [
    {
     "data": {
      "image/png": "[encoded data removed]",
      "text/plain": [
       "<Figure size 432x288 with 2 Axes>"
      ]
     },
     "metadata": {
      "needs_background": "light"
     },
     "output_type": "display_data"
    }
   ],
   "source": [
    "x = np.linspace(-2,2,100)\n",
    "y = x[:,np.newaxis]\n",
    "z = x*y*np.exp(-(x**2+y**2)) \n",
    "z[z < 0.04] = 0.18\n",
    "plt.imshow(z, extent=[-2,2,2,-2], origin='lower')\n",
    "plt.colorbar(label='$x y \\exp[−(y^2+y^2)]$')\n",
    "plt.xlabel('x')\n",
    "plt.ylabel('y');"
   ]
  },
  {
   "cell_type": "code",
   "execution_count": 64,
   "metadata": {},
   "outputs": [],
   "source": [
    "answer = 'gAAAAABcApILR-KMnBa3VT2u-pmDiqF_LKSym5bvRjZmMm6ndi03WhBvgQEr3oKlJo5rOgM2MbBwwyHoLPnb81YakQFtnsG6PNdX-SR1K9gMPH9L4st8ihBFolIzrRjiuJldtCbLUmrAEx_Dpn1cjRtTlHND2OizxVrzneguu8PuVk1e-GHSUjXROBlACkkIQ--fJA4ypHYADl-rZpJh5aSgLaTF3PzziT2vvXlQBAQIjU4aAMCLFDEfH-iGI_mbxTNd6BEqY-AUfUDRd29YUobAM-MjmN-W1T79sVAY4w16ZRGptj1waz9vhYjB2avawWvW8COMFXATK-LQUH6TwFi_a_8yreMmZg=='\n"
   ]
  },
  {
   "cell_type": "code",
   "execution_count": 65,
   "metadata": {},
   "outputs": [
    {
     "name": "stdout",
     "output_type": "stream",
     "text": [
      "x = np.linspace(-2, 2, 100)\n",
      "y = x[:,np.newaxis]\n",
      "z = x*y*np.exp( - x**2 - y**2) \n",
      "z[z<.04]=.18\n",
      "plt.imshow(z, extent=[-2,2,2,-2], origin='lower')\n",
      "plt.colorbar(label='z')\n",
      "plt.xlabel('x')\n",
      "plt.ylabel('y');\n"
     ]
    }
   ],
   "source": [
    "decrypt(answer,'Ystad')"
   ]
  },
  {
   "cell_type": "markdown",
   "metadata": {},
   "source": [
    "### Task 16\n",
    "\n",
    "Define 3 functions that estimate the limiting value of $\\sum_1^\\infty \\frac{\\sqrt{n}}{n^3}$:\n",
    "1. a Python funtion involving a for loop\n",
    "2. a Python function exploiting universal functions for repeated operations and aggregation functions\n",
    "3. a Cython function defined with `cpdef` involving a for loop\n",
    "Cython is a mix of C and Python. With `cpdef` we can define a function as we would in Python (_i.e._ without declarying any types) but we obtain a function that is almost as fast as C generated code."
   ]
  },
  {
   "cell_type": "markdown",
   "metadata": {},
   "source": [
    "Here are snippets of code to complete for each of the three subtasks:\n",
    "1. ```.py\n",
    "def func1(n):\n",
    "    result = 0\n",
    "    for k in range():\n",
    "        result += \n",
    "    return result```\n",
    "2. ```.py\n",
    "def func2(n):\n",
    "    return ( ).sum()```\n",
    "3. ```.py\n",
    "%load_ext Cython\n",
    "%%cython\n",
    "cdef extern from \"math.h\":\n",
    "    double sqrt(int)\n",
    "cpdef func3(n): # note the 'p' in 'cpdef'\n",
    "    result = 0\n",
    "    for k in range():\n",
    "        result += \n",
    "    return result```\n",
    "    \n",
    "Use `%timeit` to compare the speed of `func1`, `func2`, and `func3`."
   ]
  },
  {
   "cell_type": "code",
   "execution_count": 66,
   "metadata": {},
   "outputs": [],
   "source": [
    "def func1(n):\n",
    " result = 0\n",
    " for k in range(1,n):\n",
    "     result += np.sqrt(k)/k**3\n",
    " return result"
   ]
  },
  {
   "cell_type": "code",
   "execution_count": 67,
   "metadata": {},
   "outputs": [
    {
     "data": {
      "text/plain": [
       "1.3414275392542614"
      ]
     },
     "execution_count": 67,
     "metadata": {},
     "output_type": "execute_result"
    }
   ],
   "source": [
    "func1(500)"
   ]
  },
  {
   "cell_type": "code",
   "execution_count": 68,
   "metadata": {},
   "outputs": [
    {
     "name": "stdout",
     "output_type": "stream",
     "text": [
      "1.06 ms ± 196 µs per loop (mean ± std. dev. of 7 runs, 1000 loops each)\n"
     ]
    }
   ],
   "source": [
    "%timeit func1(500)"
   ]
  },
  {
   "cell_type": "code",
   "execution_count": 69,
   "metadata": {},
   "outputs": [],
   "source": [
    "def func2(n):\n",
    " return (np.sqrt(np.arange(1,n))/np.arange(1,n)**3).sum()"
   ]
  },
  {
   "cell_type": "code",
   "execution_count": 70,
   "metadata": {},
   "outputs": [
    {
     "data": {
      "text/plain": [
       "1.3414275392542625"
      ]
     },
     "execution_count": 70,
     "metadata": {},
     "output_type": "execute_result"
    }
   ],
   "source": [
    "func2(500)"
   ]
  },
  {
   "cell_type": "code",
   "execution_count": 71,
   "metadata": {},
   "outputs": [
    {
     "name": "stdout",
     "output_type": "stream",
     "text": [
      "16.7 µs ± 2.3 µs per loop (mean ± std. dev. of 7 runs, 100000 loops each)\n"
     ]
    }
   ],
   "source": [
    "%timeit func2(500)"
   ]
  },
  {
   "cell_type": "code",
   "execution_count": 72,
   "metadata": {},
   "outputs": [],
   "source": [
    "%load_ext Cython"
   ]
  },
  {
   "cell_type": "code",
   "execution_count": 73,
   "metadata": {},
   "outputs": [
    {
     "ename": "SyntaxError",
     "evalue": "invalid syntax (<ipython-input-73-297467644291>, line 4)",
     "output_type": "error",
     "traceback": [
      "\u001b[0;36m  File \u001b[0;32m\"<ipython-input-73-297467644291>\"\u001b[0;36m, line \u001b[0;32m4\u001b[0m\n\u001b[0;31m    cdef extern from \"math.h\":\u001b[0m\n\u001b[0m         ^\u001b[0m\n\u001b[0;31mSyntaxError\u001b[0m\u001b[0;31m:\u001b[0m invalid syntax\n"
     ]
    }
   ],
   "source": [
    "%load_ext Cython\n",
    "%%cython\n",
    "\n",
    "cdef extern from \"math.h\":\n",
    "    double sqrt(int)\n",
    "\n",
    "cpdef func3(n): # note the 'p' in 'cpdef'\n",
    "    result = 0\n",
    "    for k in range(1,int(n)):\n",
    "        result += sqrt(k)/k**3\n",
    "    return result"
   ]
  },
  {
   "cell_type": "code",
   "execution_count": null,
   "metadata": {},
   "outputs": [],
   "source": [
    "answer = 'gAAAAABcAqbaIiWIulQgcO267q_p8PFsH41h2jQuTOZt3vnqlEBt29xULPJTQYQTRjYyVqiEIRJXYfQe-4xJ5bUnd2PVD1YClavYu5Dbj8JjpG_Y_D6DZED4DJV6qfTotHSUX8lNn-8m51YRheaWqMrPxcMyRfAw9I8DGMLlr9064KXVpLlIPIO5q95WWnl5E127o_NhRisZp5GsolVTJw7kxoipgZyGMg=='\n"
   ]
  },
  {
   "cell_type": "code",
   "execution_count": null,
   "metadata": {},
   "outputs": [],
   "source": [
    "decrypt(answer,'Svedala')"
   ]
  },
  {
   "cell_type": "code",
   "execution_count": null,
   "metadata": {},
   "outputs": [],
   "source": [
    "answer = 'gAAAAABcAqcJPTwdzkomK_6f-zDZ7wbvZnch14UFrHEHQTmKcHmobziYV7dkfnBMmjyddE10f9pR9N9ymzPL0xh1X6tYmVoI9EBj2v5ty0soSsMzttDw0f1-UCioiIFTkrKmEyVBjJlUdZWxY1ybiRDeElJuvLpr6VygSgfJYDMIuv1Ho3YQbQznXQrbAQ5EhP4o-fh2XnFI'\n"
   ]
  },
  {
   "cell_type": "code",
   "execution_count": null,
   "metadata": {},
   "outputs": [],
   "source": [
    "decrypt(answer,'Svedala')"
   ]
  },
  {
   "cell_type": "code",
   "execution_count": null,
   "metadata": {},
   "outputs": [],
   "source": [
    "answer = 'gAAAAABcAqcun5hh9C7geQYhS-uzCeB2-uRhI_9yc6HtVO-di2GNbcmnLVFWRP-vghmxLPT7vNDrI4BepkH1kxrneRCTaP45Js2od2NYvOLME7xc1cIy4xTNsbYl2hwtK0JLHUK2NyDI6X4-cE9vtc7lHXwZt8gX6h1GA81LWjUwmYlEU-bwv1s9iJytNRF4Cs0s4pl6RfyN2wzCovjeCqt4oXHccoenWnlvW2hjhpI6Zpb6MdcsAfhsaoo39oWaL1XYn-lnQLj71gfc48qP9x5paPSX-xXXATSPJoY8bcGaTyK0dbcyuN6Bg0Iipg3MYGmIcozPEeW_FY1YQhrfXm4Fx09YdkvqbA=='\n"
   ]
  },
  {
   "cell_type": "code",
   "execution_count": null,
   "metadata": {},
   "outputs": [],
   "source": [
    "decrypt(answer,'Svedala')"
   ]
  },
  {
   "cell_type": "code",
   "execution_count": null,
   "metadata": {},
   "outputs": [],
   "source": [
    "answer = 'gAAAAABcAqdTNpsPmdHE8Jrn6mxQGyRjquTtBOOwub9M47tFjCRCWu2xFuj9jH2-86BPouk-L3tZ7z97FaD_7cxi81KtQjHRutnrf8gwusJY9dCwgypzqtMsitla1XoBqeGX7fMXLT_Pz6B8yj8RP2SJLwuCOlXjKQ=='\n"
   ]
  },
  {
   "cell_type": "code",
   "execution_count": null,
   "metadata": {},
   "outputs": [],
   "source": [
    "decrypt(answer,'Svedala')"
   ]
  },
  {
   "cell_type": "code",
   "execution_count": null,
   "metadata": {},
   "outputs": [],
   "source": []
  }
 ],
 "metadata": {
  "kernelspec": {
   "display_name": "Python 3",
   "language": "python",
   "name": "python3"
  },
  "language_info": {
   "codemirror_mode": {
    "name": "ipython",
    "version": 3
   },
   "file_extension": ".py",
   "mimetype": "text/x-python",
   "name": "python",
   "nbconvert_exporter": "python",
   "pygments_lexer": "ipython3",
   "version": "3.9.2"
  }
 },
 "nbformat": 4,
 "nbformat_minor": 2
}
