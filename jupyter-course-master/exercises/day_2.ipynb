{
 "cells": [
  {
   "cell_type": "markdown",
   "metadata": {},
   "source": [
    "# Day 2. Daily Temperatures in Two European Cities"
   ]
  },
  {
   "cell_type": "markdown",
   "metadata": {},
   "source": [
    "The answers to the exercises are encrypted. Feel free to ask the instructors for the decryption key whenever you need to view the solution."
   ]
  },
  {
   "cell_type": "code",
   "execution_count": null,
   "metadata": {},
   "outputs": [],
   "source": [
    "import numpy as np\n",
    "import pandas as pd\n",
    "import seaborn as sns\n",
    "import matplotlib as mpl\n",
    "import matplotlib.pyplot as plt\n",
    "%matplotlib inline"
   ]
  },
  {
   "cell_type": "code",
   "execution_count": null,
   "metadata": {},
   "outputs": [],
   "source": [
    "from cryptography.fernet import Fernet\n",
    "import base64\n",
    "def encrypt(string, key):\n",
    "    keygen = lambda x : base64.urlsafe_b64encode(x.encode() + b' '*(32 - len(x)))\n",
    "    cipher = Fernet(keygen(key))\n",
    "    return cipher.encrypt(string.encode())\n",
    "def decrypt(string, key):\n",
    "    keygen = lambda x : base64.urlsafe_b64encode(x.encode() + b' '*(32 - len(x)))\n",
    "    cipher = Fernet(keygen(key))\n",
    "    return print(cipher.decrypt(string.encode()).decode())"
   ]
  },
  {
   "cell_type": "markdown",
   "metadata": {},
   "source": [
    "## Temperature Observations from the [Bolin Centre Database](http://bolin.su.se/data/stockholm)"
   ]
  },
  {
   "cell_type": "markdown",
   "metadata": {},
   "source": [
    "At [this URL](https://bolin.su.se/data/stockholm/files/stockholm-historical-weather-observations-ver-1.0.2016/temperature/daily/raw/) you can find daily air \n",
    "temperature data measured between 1756 and 2016 at the Stockholm Old Astronomical Observatory. The data is divided into four ASCII files as described in README_stockholm_daily_temp_obs.txt."
   ]
  },
  {
   "cell_type": "markdown",
   "metadata": {},
   "source": [
    "**1.** Read the data file stockholm_daily_temp_obs_1756_1858_t1t2t3.txt using the read_table function:\n",
    "  * pass the URL as the first argument of read_table;\n",
    "  * pass an appropriate list of strings to the name option;\n",
    "  * specify that the fields are separated by white spaces (read the docstring and use delim_whitespace or sep)"
   ]
  },
  {
   "cell_type": "code",
   "execution_count": null,
   "metadata": {},
   "outputs": [],
   "source": [
    "answer = 'gAAAAABb-ECsnQFu0z9LDkzignEuP4loNaY7mSYSkFbPmZmOTlYVBhIeYs8Cont9nUTQxQInw9KkDfT2ab-E0gsb3XcZeh-ThTnhhLKT91fm8_FNBGEsPe7rQB3iqXBrSReg32OUNLj-DuyXxdqm_uVWQHL0troD-11RVm-9NrjDLkwCkM6W0yjvnMSDBDchOvpnVvNzmFv_hI73YYBBJIzqdfBFo2MYWdBUu_97WIh1YPN7ab4YNzRxG4ZdhcBar7Ix1ernPPbzFjKpRfAPjiAd6GO_aUGRDqOJYQTvk6BidcDp7Q_YpEZCzyXjdyWRx_uW2GrH1AKxxcEdlIKr1ZTjmAiMP2rbA5qelHAYDTE0jbB8tNa2rucW9mr2pUfZ63-pHDxxOkHXgVyWnxg_MVsPGYYKCT59CFB1lFSCN59GYkUpVHw06z0rqnzbcV6SQo_d6rI-gF6Jnpb6QHF7HBBctweu7aC1DT1yzQT5BFIpcGl-atxX5RUDh2udIaF6YzyyA5su2sN3ItZd1YTwaa5x3Hd-YvdvjobM1y-9x7BTNzLwmP5L6voNSHAa513f00I71LN41_kG0AW0Lie5uAeruVnU65azrU-KXz2zCea4womhz6QB9Tiao9oF1ZPPecP88zK8AmI3vSYx-QTIJsUcKMsqC3rjknkGh5L_SJHWKsS9OPGrscuQgovPsnkXwO-VYFbCtYZH8LgKwKykBiDcSArUgQat-hZUnzPRfW0R4kjBpJXDJ-MyvzUQqJN9SPUNSc5_PQh9vuJAIvInZ2S0ZUx_j77bYg=='\n"
   ]
  },
  {
   "cell_type": "code",
   "execution_count": null,
   "metadata": {},
   "outputs": [],
   "source": [
    "decrypt(answer,)"
   ]
  },
  {
   "cell_type": "markdown",
   "metadata": {},
   "source": [
    "**2.** Load the files for the years 1756–1858, 1859–1960, 1961–2012, and 2013–2016 into a single DataFrame. \n",
    "  * check that the temperatures are interpreted as numeric values\n",
    "  * [concatenate](https://pandas.pydata.org/pandas-docs/stable/generated/pandas.concat.html) the three DataFrames into a single one\n",
    "  * turn the labels in the 'year', 'month', and 'day' columns into indexes"
   ]
  },
  {
   "cell_type": "code",
   "execution_count": null,
   "metadata": {},
   "outputs": [],
   "source": [
    "answer = 'gAAAAABb-U7fylqc83eeJw6Ai7R_qiYxTUscl5y3ggel4lqSfWjq5iomcS4nZMCg8n0AuOTdAfLHIRXTmZqn_StlRbuyxk-H8_MtN2O179iOreXaOloZq-GT8E5hUIv1tDyrSbebQFEsYKPQd4_OARKI4wh-jBLovyiJLkq8FQ_DKj1Ue8iRqAp4Y2BUCUgoCph38WECO2GkiDR4WM0sSWA7pM9MYoIN42Bnftshv1BOFamRLgPVKS3rCJSP-jcx_TBZbR2SxNMH_6oosZs7iM32uEYCmceWXAOzrdjuytWicvMHtiuWEqm6Y3KqQixCS3O2mmAKrB_40_IU-RujI_1NihL3u0FWCt5GP7Li7nBGACnSSdhgGE7Bzb7QAqoZQc7yF02vc3Ano0fNMgP9VX14ytXSKa1bpiCwHDnv7IDu8KPcVfdd51lioJZhxoWU73mOqaMGIMSLhEXTxF5G9oSQrWi_i5vL-ZNpIc3Evoe0UjyzQz7psCtM-NAX3mr-_jbSFZmjd7LsGYp8uqD6uhNkM_Qd52KRyv1YdaIfZ4ZxDV-ulLYaKSTW8mkLvJb67SjiRfrCgrbYEno0Jw6mmWUDso3c_B1-CpBj7HR-onRcLaXNSKU_qI3niYGSga8b-DGd97Mwql5OU250S_5ztx6QV-whg8A75b5_X1finC9t6Ix3xhfPrB8D9vFIZ8nRiAyp6cx7FXTmrGrKluaZEH3Do1NNXk1CvNijyzofPwv1d6FSYGM04DTpJR-mUcymeoK7W34v5uUS4IGwM9Moph4qATKn-vOnk5hU_iRbFleWRyJUQjIZm6ypPv5o5aX5mDRvuF-x2uCjc_qRxjAMhbp7WxUemFgxP9nLWc4JrQMwL0k85gZ7H5rLzywJRreOmaKn2yH6LUTQJ0e_sYr6ILWi0SiJapxDNqQVKuk5OXW495eDC738uvXFnIc1xmXUJIj0zOOxWwowrySCp3tDLmXLj6X-mrNCkrXVs-uJPrz_PakkILlno0SUL9L87VaH5YOljGNpDtibYZRBa-LF56xoVQccaPrnfaHq_cbCErO3jiEYXSvYExY0j1k3uyHEoKKMn7g7ZuY--Wj9-Ogkq_FlA8WHX4JXgcpYjmr-FfzQDS_La4VaYuEdqIo6O5Wh2CgJlF--HZjRn8YHQ9C6wFQ7-DpcAhMuxGkUaTKeg1xsfgpNv6acOuSlUGbP_I733NTGa0SSgGsuE8bBm_iZq9tj3B7EjwpCXltnz8gR4v7TpWdhFxYbI6O-Z-9Ihb5rpbXTHDasKmZwha4YNNzrBldk3gVIzuRuP09AzWKa14gwY-NK4IQPSgyNAhuz3pyaASQVSo0sDLQnFDSUyl96HNwE0XDFZcmmZWbQyh2-crz1BDvdn5mne02BvYhl-XSBXu5MPQaHRYq88l2Yf_1Cw9GiH1LLqvOiB0-ndOaavKLRH_YHQL16m6q36wxalkDtNHqxYmdVWJNDgODfQTuLLRfaLsEMmtvMnggfYk3KcTcTE7gsfvuc65k-p6ZXdK9KDG4W21IMWebP22quOiwzk-RZVVx8VOx9ZIj9kvagA07Yo3ItwmvvUIWFW7kIUKnByUOyVRKdY4iXMt2vlX_ttR1OE1AZVLJtPj2hjpepuMcsnLHaCkiOCZCl5Wb2oin4v9M_aKFzPKuo8FGGHWhflEc5eFQyiXwInzRgpo4WPzCj9HHF6itaFn4xtD1Y2oQ3N2hD2b15r62I_IR5kBHXmGseXtCWwcKX3VE6-s2TYmO64RyG77a8XZuexDVZKN7505pBi1X0XGXls_GLhmEeIXQ6KO1VlIpfwLqVQoo3PbW4ynQL58rq81lNaIBC76K-PBjb8yAUjM1Z'\n"
   ]
  },
  {
   "cell_type": "code",
   "execution_count": null,
   "metadata": {},
   "outputs": [],
   "source": [
    "decrypt(answer,)"
   ]
  },
  {
   "cell_type": "markdown",
   "metadata": {},
   "source": [
    "**3.** In one line, find the temperature measured at noon on Dec 3 1960."
   ]
  },
  {
   "cell_type": "code",
   "execution_count": null,
   "metadata": {},
   "outputs": [],
   "source": [
    "answer = 'gAAAAABb-VBGBZl2mA8-SflirbdRbplpTR7xoKV2nnVdHwAYi98u_q3nkI3edBV5osCasXKROVsPrfDKvYb9iHkd6zq7lgzqtGg66wn39_s2Zn9qCtuYexU='\n"
   ]
  },
  {
   "cell_type": "code",
   "execution_count": null,
   "metadata": {},
   "outputs": [],
   "source": [
    "decrypt(answer,)"
   ]
  },
  {
   "cell_type": "markdown",
   "metadata": {},
   "source": [
    "**4.** In one line, find the day between 1859 and 2016 when the highest temperature was measured (the output of the cell should be tuple of three integers)."
   ]
  },
  {
   "cell_type": "code",
   "execution_count": null,
   "metadata": {},
   "outputs": [],
   "source": [
    "answer = 'gAAAAABb-VCY_AQelKwK1II7f0fPXUI22jlZOUkqOsOvij8MhZJNxkQZQajchxu-7r5v9izSEfJRS6i8tGWb66AupYYQ1lga7WZS6yWMgOmrlRES1Q-2tnEfBFCNMzwi53qQZTEKNpUTvvMbX3-A1tSy_g3BCHQAfg=='\n"
   ]
  },
  {
   "cell_type": "code",
   "execution_count": null,
   "metadata": {},
   "outputs": [],
   "source": [
    "decrypt(answer,)"
   ]
  },
  {
   "cell_type": "markdown",
   "metadata": {},
   "source": [
    "**5.** In one line, find the day between 1859 and 2016 when the lowest temperature was measured (the output of the cell should be tuple of three integers). Hint: complete the next cell."
   ]
  },
  {
   "cell_type": "code",
   "execution_count": null,
   "metadata": {},
   "outputs": [],
   "source": [
    "temp.sort_values(,ascending=True) # or use idxmin()"
   ]
  },
  {
   "cell_type": "code",
   "execution_count": null,
   "metadata": {},
   "outputs": [],
   "source": [
    "answer = 'gAAAAABb-VGrSBxILJ0wQk7UJEtjquHLWl3khWYZW3qipxPcmVCFnf1m0JVt2DaAmQiPtuztorooYKqgiu_Eq-pzileSpIfCU7e2AouMOMzPoAHtcn7OsAZAFjBCs-by3RRVhNiFu977gIyydbnzYPZb5HqyEgSZgw=='\n"
   ]
  },
  {
   "cell_type": "code",
   "execution_count": null,
   "metadata": {},
   "outputs": [],
   "source": [
    "decrypt(answer,)"
   ]
  },
  {
   "cell_type": "markdown",
   "metadata": {},
   "source": [
    "**6.** In one line, find the average temperature in December 2000."
   ]
  },
  {
   "cell_type": "code",
   "execution_count": null,
   "metadata": {},
   "outputs": [],
   "source": [
    "answer = 'gAAAAABb-VIUQHfnYECUeVz3Y0l5r_kFhu2MaBaloNlEV7hpPy6Wy6qDnXhIad0HYBJSlzwstZ5igAqq_TI7akDeb381gjWmbJcHnlh1ILfgq2uplO97Nn1nHYe5ERqGHxkQmz61hGyF-3jh3ITB__jMtHk3q_7beQ=='\n"
   ]
  },
  {
   "cell_type": "code",
   "execution_count": null,
   "metadata": {},
   "outputs": [],
   "source": [
    "decrypt(answer,)"
   ]
  },
  {
   "cell_type": "markdown",
   "metadata": {},
   "source": [
    "**7.** In one line, find the day with the widest temperature range between 1950 and 2010 (the output of the cell should be tuple of three integers)."
   ]
  },
  {
   "cell_type": "code",
   "execution_count": null,
   "metadata": {},
   "outputs": [],
   "source": [
    "answer ='gAAAAABb-VJfrMtmSCdd_VSAYdzQKZNicY2jL0Lg-2XQY_c7apqDe5RPh9LHMeauiVELaY7U3U3Nohwn6NSw5RNgzoBiYIw1kX31IPGw-TxeD9rmBKrY6GWKDMYlMmBSwzy5Pl4NGo_ZolkTqhykbDY-8MYlX4y_zb0W4J1Ty-oGAsKD7wO7VKLEvh6T3maZoZ1fHzVkjwC9hM2eOKG7YKlb2DAs6bCa6A=='\n"
   ]
  },
  {
   "cell_type": "code",
   "execution_count": null,
   "metadata": {},
   "outputs": [],
   "source": [
    "decrypt(answer,)"
   ]
  },
  {
   "cell_type": "markdown",
   "metadata": {},
   "source": [
    "**8.** Find the day and the month between 1859 and 2016 corresponding to the widest average temperature range. In other words, based on the available data, which day of the year has the widest temperature range? The cell should return a tuple of two integers (month, day). Hint: complete the next cell."
   ]
  },
  {
   "cell_type": "code",
   "execution_count": null,
   "metadata": {},
   "outputs": [],
   "source": [
    "temp['range'] = temp['tmax']-temp['tmin']"
   ]
  },
  {
   "cell_type": "code",
   "execution_count": null,
   "metadata": {},
   "outputs": [],
   "source": [
    "answer = 'gAAAAABcBnQYjB836zScGmAoGYdnwmJ4qfyTznmYX0lS6N2P5lbFHBwvDd9W7_GR7RO7HCc-bl3_Ls7pixk1L2ZVx--9njK5pY4lQmHGrbWkWKkPwMEiXFAHtOKw8rdH_QCucHPqiIge-8v8YXk7nB4dXFoilvGU3CD3PbjVxjIt1pQuUmJVyibGsh9vTdrELvuJ_sxyPb97lrPigVeDZdxA7sViOjSQBG7gw6Jhv4HRZORDxaALFFotyac0H_FN1SVHrcdfByjYF4dAZ6dbwt03XaYQsDaCq5IsoqnFsjrcRqywrB8Ju9bdCDkOmZ1WvSToBCkSF5OD'\n"
   ]
  },
  {
   "cell_type": "code",
   "execution_count": null,
   "metadata": {},
   "outputs": [],
   "source": [
    "decrypt(answer,)"
   ]
  },
  {
   "cell_type": "markdown",
   "metadata": {},
   "source": [
    "**9.** Find the day and the month between 1975 and 2016 with the widest average temperature range. The cell should print a tuple of two integers (month, day), as well as the mean and the standard deviation of the temperature range."
   ]
  },
  {
   "cell_type": "code",
   "execution_count": null,
   "metadata": {},
   "outputs": [],
   "source": [
    "answer = 'gAAAAABb-VONyivCG861Lyjw3wrIlxoKC_HduHOcaFD21sOTHnf8_G3c2U0eUsjYyrNJuGlmKaZQqAWVBBHDqEvAhjpN2ibMSLcwPvLp_rPmiFQL4z8BvuBa3aqxua6ID7zd0JGdb2V-IY6Qb_NgLyKB-sEWTAZ1u_mjcaFuydHE0hClROd7sRLghcL0IoKgYbMAAzSIWnWyeToi8iQH4TPDPG5yOMVe5Ct2ftxjvlsTbTzv62YzXVnuUTb9qTqofk86WlrhwCWMrJwyDfBCx6B5wAoZ5A0IiWI3qNBY7IruHbWT3TR4igJgfgmNMP7eZ81bwNcF6DaWJfQh_G1YITtOnN-fKirH1eLFvMIS5gYsw5DPQYEKLtiyX6WaLQC4TQr42zTvkCg0hFOi4SpnQJcrgNW9LTOeONnN_kevyGJwM8Qq6qpUCEgruF0Z8_jt0LCRaZykr1I99M_SG7QnwbhaQWbP6U1NrI-CJ0NQaK-SNrVxuYl1-yA='\n"
   ]
  },
  {
   "cell_type": "code",
   "execution_count": null,
   "metadata": {},
   "outputs": [],
   "source": [
    "decrypt(answer,)"
   ]
  },
  {
   "cell_type": "markdown",
   "metadata": {},
   "source": [
    "**10.** Using unstack (see [PANDAS: 4. Group By](https://youtu.be/oh8UijClQoE)) and the describe function of the DataFrame (see [MATPLOTLIB: 2. Advanced Plots](https://youtu.be/Xyobv9kGQxU)), generate a DataFrame that shows for each year the mean and the standard deviation of the temperature range."
   ]
  },
  {
   "cell_type": "code",
   "execution_count": null,
   "metadata": {},
   "outputs": [],
   "source": [
    "answer = 'gAAAAABb-VejPcCImkVPEn54-FNk6wtH2EKlr7rLqXIztJguv7VsI12GsXHwJ1KPwegSeYCUP7BdFoKMwNqw0o279UAhRtSH9uWOB95BA7ObtPCKD8rcJBIfDzCJi0cs84ugabsvJ3S0GbfXqrfPXc_fTJd-zy1a-Q=='\n"
   ]
  },
  {
   "cell_type": "code",
   "execution_count": null,
   "metadata": {},
   "outputs": [],
   "source": [
    "decrypt(answer,)"
   ]
  },
  {
   "cell_type": "markdown",
   "metadata": {},
   "source": [
    "**11.** Generate a DataFrame showing for each year the mean and the standard deviation of the temperature range, this time using the groupby and agg functions."
   ]
  },
  {
   "cell_type": "code",
   "execution_count": null,
   "metadata": {},
   "outputs": [],
   "source": [
    "answer = 'gAAAAABb-Vrx9aMme2au0VJSsSb6ke9Y1Myy-o-UHOCnC-TMvH3CVX4xbbH_5VDZRhrVUkdx6UWFJlRanpm1cA2h5IKJ0XuDqOicBxf4IebsJopeVnWrhOjg7lOU7WXe779v6yYwiTkk1G2wtfONekXaQdY4seYKkw=='\n"
   ]
  },
  {
   "cell_type": "code",
   "execution_count": null,
   "metadata": {},
   "outputs": [],
   "source": [
    "decrypt(answer,)"
   ]
  },
  {
   "cell_type": "markdown",
   "metadata": {},
   "source": [
    "**12.** Generate a DataFrame showing for each year the mean and the standard error of the mean ( std / sqrt(count) ) of the maximum temperature using the groupby and agg functions. Hint: define a lambda function to calculate the standard error of the mean (see PANDAS: 4. Group By). Start from the lines in the following cell."
   ]
  },
  {
   "cell_type": "code",
   "execution_count": null,
   "metadata": {},
   "outputs": [],
   "source": [
    "f_ste = lambda x : \n",
    "f_ste.__name__ = \n",
    "temp.groupby('year').agg([]).T.loc[]"
   ]
  },
  {
   "cell_type": "code",
   "execution_count": null,
   "metadata": {},
   "outputs": [],
   "source": [
    "answer = 'gAAAAABb-Vu2H_CsXgHGVjOWvZxvOCiiGwkzRhm0RpVH-sSBfEzZ7qNbgG1qk1EXLDoEajm25QewtAEDXTTv9PRtYVRtPQdtDZSv4A65q_Lag0txkzn6RLuhNm07VvkYM-h_ARBVVTzcC1jKw1tnWme6TwfCCnJyuiFzeWbB_dXBNI3wD8fdH3oW6AexdTpYul8z7hZn2k4S4irPiBig1wRvZLws2OyEz-AMEybtHrzpV_5DReiWzeNyut88Idxtsx-vjF-Cx2_d'\n"
   ]
  },
  {
   "cell_type": "code",
   "execution_count": null,
   "metadata": {},
   "outputs": [],
   "source": [
    "decrypt(answer,)"
   ]
  },
  {
   "cell_type": "markdown",
   "metadata": {},
   "source": [
    "**13.** Plot the mean $T_{max}$ vs the year. Represent the standard error with shaded areas using the fill_between function of `pyplot`.\n",
    "\n",
    "<img src=\"figs/STHMtmax.png\" width=\"400\" align=\"left\"/>"
   ]
  },
  {
   "cell_type": "code",
   "execution_count": null,
   "metadata": {},
   "outputs": [],
   "source": [
    "answer = 'gAAAAABb-V8mZfWYV3mvBHvpB82JXYGquYGGqjmMLZjSMs8gjVfyxVAgycWy9ucTprgVGsxE62uFK0NKhpFoz659U_OjEWjC-xokkZ1RKOyU_RBabrow8iBkn96JC2p6ugQvLxwYIBNR1YFFD3ywNIHqZYW5M8Yg_28nSulgO5nPNCLiUF8ALjzgb6F8kQkTuzWiY6QDtXItcnwfZEJjE9SeEmhNOIPucLIGw3u4w-BebhATrO54XoNOMixdI0lmr5ACbHJnXM8dRU9LqSkqUYQFJxGmQzX3uP-dKTVai_Fwn1h8j3fF_bUfiro1esFVmGZDLkdcI9yU-ih37hV3H07ux-nD0pJKpt8IiOTOuRqB8RBYTE87vE2yg11dxTLyLGhrT0P2eZlth2o7hXwRZCULEGf3C6YMMHHN--x4l8S8evDzX8ipZyQ3bdAhhhjnkHKWqJmhVt1Z_dCul7OxE0lIvrDDWEVJCnqCUw7WF58bQV5nTCwczIDhHYK3fbEeru9cEuFSdwGfYVA4WBjsD6sOYKUNyCOkbw=='\n"
   ]
  },
  {
   "cell_type": "code",
   "execution_count": null,
   "metadata": {},
   "outputs": [],
   "source": [
    "decrypt(answer,)"
   ]
  },
  {
   "cell_type": "markdown",
   "metadata": {},
   "source": [
    "**14.** Plot the mean $T_{noon}$ vs the year (1777–2016) in a figure of width 3.5 inches and height 3.5 inches.   \n",
    "  - Change the following rcParams of `matplotlib`: axes.labelsize, axes.labelpad, xtick.labelsize, ytick.labelsize, font.size, xtick.major.size, and ytick.major.size.\n",
    "  - Create the figure and the axes objects explicitly (see [MATPLOTLIB: 1. Basic Plots](https://youtu.be/B0iTbVySNtc)).\n",
    "  - Add an inset using [inset_axes](https://matplotlib.org/gallery/axes_grid1/inset_locator_demo.html). Hint: complete the next cell.\n",
    "  \n",
    "<img src=\"figs/STHMtnoon.png\" width=\"400\" align=\"left\"/>"
   ]
  },
  {
   "cell_type": "code",
   "execution_count": null,
   "metadata": {},
   "outputs": [],
   "source": [
    "from mpl_toolkits.axes_grid1.inset_locator import inset_axes\n",
    "fig = plt.figure(figsize=(3.5,3.5))\n",
    "ax = plt.axes()\n",
    "axins = inset_axes(ax, width='60%', height='30%', loc='upper left', borderpad=1.1)\n",
    "axins.yaxis.set_label_position(\"right\")\n",
    "axins.yaxis.set_ticks_position('right')"
   ]
  },
  {
   "cell_type": "code",
   "execution_count": null,
   "metadata": {},
   "outputs": [],
   "source": [
    "answer = 'gAAAAABb-WYQBWKz9SHf7kOA4GrrDovEWj06gm8Sy22dA80FtB1xiBUipdQjBKISP5R6nJqkxvge3ee0ZkPveehhZSGjWFnz9tjZDcd7x-7zkEiliN43M9z0EVo6Fz8gSIDHXbzUv4155DOTXNdP-Ib39_dkjv9qko7vpLzaypIg6gY4EKa2Ehq3ckL3lj6NehbeINvduVrFVMxsj-_ZutbxrcpWpcAel3lE7jKA-nFxb09U-VzkTCLDTHTwA5pOx2CVV1gPXrOzC1ZeKr-Y-9AvwnbR-ZHyNod-66pvECKNibC7hveb7vBo6JG06d1theIccwwDY8wxJRHPgnQlacAvI04BzUj4Fsx1n_jtkhgk_EVVyus5J0CJbONhSwJehZ81AvBNbiuEIYE_CpKN_Uwc6Hpm60uDcEyQNItMeiPc_-wWMrw1MiyUh7LjPOxFjkSP-5Yjf4HRML-PULzEdPZjtRGCvWMFfFuXopk2Rf3deo00Nd5qkYPH5_FPy1Fgd1kLF6C-tppvgy5YReBmMq25GJgvrdZGztK0J0yHwfxcYNCcb2vpT3kitz9YOKAMCPy2Jf4DW8UYxGxUrh4QYSUgf1Nyoxf5kT3Vd47YE1pFJpyITJ6odroAgcM5m_fnnqka2ZpwtQxNjF3aSNx-4OYvS5HxIHrHXpplGDeoVPW10rP3fgXRMGrFskE5WG_5q96QUp3i9KLc-Om1LeNuPH6DqebOvHDO-A=='\n"
   ]
  },
  {
   "cell_type": "code",
   "execution_count": null,
   "metadata": {},
   "outputs": [],
   "source": [
    "decrypt(answer,)"
   ]
  },
  {
   "cell_type": "markdown",
   "metadata": {},
   "source": [
    "**15.** In the inset of the previous figure, plot the mean $T_{noon}$ vs the year in the range 1967–2016.\n",
    "\n",
    "<img src=\"figs/STHMtnooninset.png\" width=\"400\" align=\"left\"/>"
   ]
  },
  {
   "cell_type": "code",
   "execution_count": null,
   "metadata": {},
   "outputs": [],
   "source": [
    "answer = 'gAAAAABb-WnkjU9gZb_FrVIHro0sF5vHe-hl39f03ZTP1hcAeW0b-lt3i6GG6DyI2wY0zwbJlkW0dt7eNNVKqNpl5bTGGpLWG1jn8N6FrpIEnHYGmTU7F0irCCEDXzH7gpjE_88alyj9hISE55TB_sMBA-EjrLaO55eXus6BVw3tnSQQBXr4Tz0n8OJRJuamfTVGAG5YLcmXg53OrV__j-1Ae2JxgMt0Rnh9cF3elMerpWnEIA2doqsN7T4UuiPbDZeYV7J-xptAZGWBR-ecYP2q7BDNGBB0H1WfnygNjO1SazPAKrGnXftRGTzeKaFAf3rzDm72RnklH72LUh25sibosecVK50leSTaT2vjfnI6do0u2p3xes0iCMbuP_D10HZpKwDWGdHMpq5YZi52NHMWRYUeWnemHEj-0EgjrsR9zbXxpRM0bmk4h-LQZT6FF4OvL19rflL2jO2sJeKc46Ze8pw2jl5HT2RL82Du8onftKgCVzfT_LBq7YSHAmPs-2QJ2qIW7ixkKZTtLTR4Y4ihcCY-K7NMUFnTw1MeZC_7y5ii_haKFl9QW2tBsTbP7uln6G77ot9TwSwJnNPvxIwfeUMXC1mEd-K4vaeVd5Q4A61yMwTUad3Tx5A1si9mxaCZe_WheaXdXQbA1Z1Y_m-E9Je-XY4THAI2nRU5NConOfLU02Mg9B_JFzE2dpfjiG2Zfo4C1T9qvfPnG6nztTS-5TAF4HGMdCk-0DBmj7OS7UimFopbpn6_fYpRnqcla0wEWm-gI021AHsGwnSf_KtJZ6-9kIjJeL9k97WWAeQnoSZczXyzzDqo-DesNkjNz7Ko22FLKfCbokVgxjMpm4RseMp7a8CedwnFNxup8it6S9jpLXeZhkRIbh3M56GwEjR6eY378IU7lDEnyxhSMr38n6wRuRQ1jtFcqYof7Cl4PisvTK_Ub-FPpUBC_733FP4yHXCSYChhM7H0p37jtC5IyL2MH1j3GRJbLbAyU-__GuR5AOo5yIqn0WFICfDyyFOROaVgfYloddc7qiVnpMQuHkp_QknDYeMnAtLEM5edVQjegIFKZVFNks1bKbHb5G5L5zshMd33IgeB0SAw2fslkdCrxz9db73BOxl1hneaYDRcI4_rs2FVjl0lBZoQMWeJ1JsGe1E95I3HaQsoz2Cg8aqoIW0r4AVA5Je7D8LjOHSVLp1LGbMetBUHAWbrYaEDGD0Yo_2-rYtvC_LTEDaC0uMSptMgRS2nMchGk3dnHTLykgvIXNqZUO-LsqN9IXknVPvEHX5-6_s1fLpUjYNDzamADjC9-I3h84v77KZXPsuuxovBDUHHGISHJRA74aS1kV0QWR_zfQ3klzYmaFrhMYDv8SDvbjFUK1Ygp-HoP2efOF7-mBQnYHXIc_o1_OgNibTIwbQLOmXYwgpTyWUHGsSLhliMgRD1B_Fv4INMzMfcqJiNUjy3qD3PbrcOSXt6qsOt_AmkMu7dfSWvfUTlv2ppAQ6nTb-VXR_Imy0Lb9NnyZKvGvCf4RB4id_aXHGbBHJontZA6tqdkV4DOUVB0b6eCJuE2y2I6wKExf-jsy1ZhnwZofpUTbGyGGI2TYEOYOhjXsHvY_uvh7PEPUJXBVWJY-qAWFoidO1Ep0YQ_nAwdnC7wXKJ-1avd909jSIWjbS_yheB1cxnmLKL3Rf4hVpnv99SI2R3qaR2y9f6Hi3QbTzVohk='\n"
   ]
  },
  {
   "cell_type": "code",
   "execution_count": null,
   "metadata": {},
   "outputs": [],
   "source": [
    "decrypt(answer,)"
   ]
  },
  {
   "cell_type": "markdown",
   "metadata": {},
   "source": [
    "**16.** Create a plot showing the distribution of $T_{max}$ in the decade 1977–1986. Normalize the distribution so that the area under the histogram is one. Use a bin width of 2˚C. Hint: use the hist function of `pyplot` (see [MATPLOTLIB: 2. Advanced Plots](https://youtu.be/Xyobv9kGQxU)).\n",
    "\n",
    "<img src=\"figs/STHMhist7786.png\" width=\"400\" align=\"left\"/>"
   ]
  },
  {
   "cell_type": "code",
   "execution_count": null,
   "metadata": {},
   "outputs": [],
   "source": [
    "answer = 'gAAAAABb-XA0uh-1o8EV_CE1IJ9F6VR_ZuCabfgxGS9E2J1-z5f-TUmPRDCO_FY7Tfx25h-a6ic1VNysho4UM-4xucS0bYIS7ER0sY4_a1d1WzyMbHfX964K1_LkwsvD_pJhlZgtDKvf-Ju1nUjPrGYShP9KuczsPJxBwWH0-DsiQ6LFnUCI4KH3fE_Z6DixwLpWUdupT5QimrWG3lqTtBYzeekZ1JvXeBiwLmu2qRYW_Um8zrC1A1Qp79XWXYctoMTnP9DodA9Oy4-_D5ktJfCuitxGMROufV3Jtq1jYUppU7xLzpIlKPrXBvS8Gu-FfrOzlJSP4RdCC_QMbBPAo2RWkrtvTYfebaHosT9rGd86hLypwkJXsHViGzsrKFaDzVnNClkFTWtFioGG2uVHoEIHkEPeZ8EdtQvz01qWGm-x3OEyNw61xoniwwHuLL2SDZRbWwT4hZ4D'\n"
   ]
  },
  {
   "cell_type": "code",
   "execution_count": null,
   "metadata": {},
   "outputs": [],
   "source": [
    "decrypt(answer,)"
   ]
  },
  {
   "cell_type": "markdown",
   "metadata": {},
   "source": [
    "**17.** Create a 2x2 composite plot showing the distribution of $T_{max}$ in the decades 1977–1986, 1987–1996, 1997–2006, and 2007–2016. Hint: complete the next cell.\n",
    "\n",
    "<img src=\"figs/STHMhist.png\" width=\"400\" align=\"left\"/>"
   ]
  },
  {
   "cell_type": "code",
   "execution_count": null,
   "metadata": {},
   "outputs": [],
   "source": [
    "fig, axes = plt.subplots(2, 2, sharex=True, sharey=True, figsize=(7.2,5))\n",
    "\n",
    "print(axes.shape)\n",
    "\n",
    "(ax1, ax2), (ax3, ax4) = axes\n",
    "\n",
    "years = [1977,1987,1997,2007]\n",
    "\n",
    "for y,ax in zip(years,axes.flatten()):\n",
    "    ax.set_title(str(y)+'–'+str(y+9))\n",
    "    ax.set_ylabel('$P(T)$',fontsize=12)\n",
    "    ax.set_xlim(-20,40)\n",
    "\n",
    "ax2.yaxis.set_label_position(\"right\")\n",
    "ax2.yaxis.set_ticks_position('right')"
   ]
  },
  {
   "cell_type": "code",
   "execution_count": null,
   "metadata": {},
   "outputs": [],
   "source": [
    "answer = 'gAAAAABb--qcXzfhdudFnVeuE__ln3EINyHp_qHDiZmWxr5osLQofMe-SDJSL7i2emvE4yYicBr5qUhmRup5MiKT-YUkK0NACEF8r2HY595jHzfpn5lWiZsIzG1NDqIGtdxjmT3ahz9YUzhXURIjjG9PsjOu0LSbral3sdc3pk8Ubgl0GXAbe5FMYrBFPTVGDDz27kyHUxFYZGAMXySto4ZTfesKLCw2iCPzsPPmYZUPLgB0Lch4bj0S6jBP_8_lgqx7Vv_RR8HTliRisnPbMdE3I75R0ktYR8FYxHgTJbd1MFMos31FYYVtokJ_5uH3Sz0sq9ZSEpOeZhqFYqJCeyfRoD8rT99w3X1jqgA9EfC9g3PCixwbwJhJ7-tcViscaoEGTfq2bYRomaD4iDj_QxqqzLsrKBeYRp7VIpHK-L7IdEnPOnQMhk5iP1MTQrAMLBExiQ-ys1CQ2EGIKZ5PTQYqo6kxS06-Z15Vtm3UhmVm7ZCy4B2O5zywObFDoimbMRgHYAWITTu2K3tu8KdBNCByDFs980sf5Uk4lreAPZ6aC1Ax4VxLNdvLpbLFLM612JruFggQ3CvLhaRnLJhjHGnnGYU5xMpSO35Gjx7Z17uKLqHcYP9BnsLtZcvugndraYnWLwN2u1TYPjJu6jt1I-1B_kedSBML7cl-cdgz6oZXPcGHikLJqQaOfwqQN1HKmJnHFOFusxzIfqK5L8f6C_NWldZfrCjzvezbP_vUmnX29zhBj_ADPKBK8eOWWrCJHpjrjCaiUz2S5rHmahjGAS9zwcoQeOVdAqpVYLwCrBlVQ1JbCGDI-kKhBb7T3Gi7uRX-df5u7wsBGPqhzzXLgNszJcgTj1nCgfSKIJp95xf2FvDRuoNgKpHR2i7nqnIqPJJg9ia8dsd_8fzUo12_57Goagz91ZeUGMguO1Rh66m1PXG5y0kvW9FhSw8oZiT7WOK3x5kXX_6-Qbfnlf_65jXv0Oja86w6omysxN0CtGHpvjto5WXtjkA='\n"
   ]
  },
  {
   "cell_type": "code",
   "execution_count": null,
   "metadata": {},
   "outputs": [],
   "source": [
    "decrypt(answer,)"
   ]
  },
  {
   "cell_type": "markdown",
   "metadata": {},
   "source": [
    "**18.** Manipulate the DataFrame to obtain a 2D table showing the maximum monthly temperature range for each month and the years between 2000 and 2016. Hint: use reset_index + pivot table (see [PANDAS: 3. Pivot Table](https://youtu.be/ODFpGo7UomA))."
   ]
  },
  {
   "cell_type": "code",
   "execution_count": null,
   "metadata": {},
   "outputs": [],
   "source": [
    "answer = 'gAAAAABb-X5fuIToXRFd3etFZsivoSO7dvAkxNdVAKvjEiTgELJmKLSpPU4ndFdjnWx69BIEDlS4TO2gxySzChaDFTjvsMIIGq8nFsICvDZX9wDL8Ze14-cZIwk08rkUngXDwyXdg_cOW_3kJtUGp5nPyX1NIZ3P32eLcSGkEFFsKdmIv9oSSDTmBnG9yHCeLWdH4xKWHRQbamDNQQaG3ZQen2o9iQY8Xw=='\n"
   ]
  },
  {
   "cell_type": "code",
   "execution_count": null,
   "metadata": {},
   "outputs": [],
   "source": [
    "decrypt(answer,)"
   ]
  },
  {
   "cell_type": "markdown",
   "metadata": {},
   "source": [
    "**19.** Use the [violinplot](https://seaborn.pydata.org/generated/seaborn.violinplot.html) function of `seaborn` to plot the distribution of $T_{max}$ for the decades 1977–1986, 1987–1996, 1997–2006, and 2007–2016. \n",
    "  - Reorganize the DataFrame so that each variable is in a column and each observation in a row (see [MATPLOTLIB: 3. Categorical Data](https://youtu.be/c0Bd8iWmHGw)), _e.g._,\n",
    "  ```python\n",
    "    temp_dec = temp.loc[1977:2016].??.copy()\n",
    "    ```\n",
    "  - Use the map function of the Series to rename the years of the four decades as '1977–1986', '1987–1996', '1997–2006', and '2007–2016', _e.g._,\n",
    "  ```python\n",
    "    temp_dec['year'] = temp_dec['year'].map(lambda x: ?? if x in ?? else ?? if x in ?? else ?? )\n",
    "    ```\n",
    "\n",
    "<img src=\"figs/STHMviolin.png\" width=\"400\" align=\"left\"/>"
   ]
  },
  {
   "cell_type": "code",
   "execution_count": null,
   "metadata": {},
   "outputs": [],
   "source": [
    "answer = 'gAAAAABb-XSGYEZiwhZhD4lQ3JjUGxC6IuJycQB8EXMgbF3cCd_ATFt8B3Zzvc0-OtGFxgahupedeqjsjkJC0plyBJbEkm39fbP0NVNSgZFdFtq5ovOwWLV7lC7NSgiExZut7lnsE3KM3mEHV3WAMpO1qOYvIobAWJ64BNx6KT1nVbx0LRohILe3QOKBiXjgj0vgmg6ddonaXj-aXQ2mu3ET2ocvGXeVSEQ1IewiryMlLKeqLrq4fWxO8v2AVwxsAxCw1qk45TRGEnLjkBWs2NM4I3w2PaITBCD0DCCCS3RvPulxoJ5meoVk78LUp_kgfxfiYW4w9_LhhmtVeaMryiIqBUKkkpj0iCPIB4l_-JPaVjNh502XOdNNDWChtz7bA9dSVWxKWQltqfWT30TsZORnv7X-VLjFB67NpeHLTGfN_M8l8W3vVe7beLBBHFmvl7JOIaP0koWJ8q9Lm1MRNvYzbx7P8XxIS452lseiv6a5ugWgTgM-yB4pkI0IM089XskL8kXUyCYjAlcUU8HsWbgbDBmkUR6qYp4EdJ77L_VMgcLsxDMR3_vrgpK0yZKdBOe1iybmO00v_fxdxkTFFmG-IcF6Jqbjt8LQWPQMS6u-FiyDjdTNV1om6id9jero0UVpQKH5LAu3JpfCM--r4yzjRSHwkgbv4GuYLY_DGFtbn0sWl_nOqYalYMf1XGU3qB40scZKhGKZINJGbfarO6yac8605mP4gw=='\n"
   ]
  },
  {
   "cell_type": "code",
   "execution_count": null,
   "metadata": {},
   "outputs": [],
   "source": [
    "decrypt(answer,)"
   ]
  },
  {
   "cell_type": "markdown",
   "metadata": {},
   "source": [
    "## Temperature Observations from the [Center of Excellence Telesensing of Environment and Model Prediction of Severe Events](http://cetemps.aquila.infn.it)"
   ]
  },
  {
   "cell_type": "markdown",
   "metadata": {},
   "source": [
    "At [this URL](http://meteorema.aquila.infn.it/tempaq/dati/hist/) you can find daily \n",
    "temperature data measured between 1968 and Fabruary 2018 at the University of L'Aquila. \n",
    "The data is divided into ASCII files for each year. Each file contains an explanatory header marked by '#'.\n",
    "Use `pandas` to load the files for the temperatures between 1968 and 2018 into a single DataFrame.<br>\n",
    "Suggestions:\n",
    "* create an empty DataFrame\n",
    "* loop over the years and load the corresponding files into separate DataFrame\n",
    "* read the data files directly from the URLs\n",
    "* set the following options of read_table: header, engine, sep, comment, na_values, and names. Keep in mind that:\n",
    "  - not available temperatures are indicated by -999.99\n",
    "  - dates are written in the day/month/year format but we would rather parse them so that '/' is interpreted as a separator and day, month, and year fall into different columns\n",
    "* append the DataFrames for each year to the empty DataFrame\n",
    "* turn the labels in the 'year', 'month', and 'day' columns into indexes\n",
    "\n",
    "**20.** These steps are partly implemented in the next cell. Find the errors and complete the cell."
   ]
  },
  {
   "cell_type": "code",
   "execution_count": null,
   "metadata": {},
   "outputs": [],
   "source": [
    "tempaq = pd.DataFrame()\n",
    "for year in range(1968,1977):\n",
    "    url = 'http://meteorema.aquila.infn.it/tempaq/dati/hist/'+str(year)+'.txt'\n",
    "    temp_year_aquila = pd.read_table(url,header=None,engine='python',delim_whitespace=True,\n",
    "                                     comment='#',na_values=-999.99)\n",
    "    tempaq = tempaq.append(temp_year_aquila,ignore_index=True)\n",
    "tempaq.head()"
   ]
  },
  {
   "cell_type": "code",
   "execution_count": null,
   "metadata": {},
   "outputs": [],
   "source": [
    "answer = 'gAAAAABb-Xhfk2Fv7VdZNGC3-af8CcGVrNg5fbK2YGP98zsioCEqPNDaoJ4Xs9COlqAvTweIubHoum6fdpNjyVAcoqvP_IjpJGUACykwKf1jpYf9gFFAlg2j_pvkb4NMcjHClIiu6bzMr8wqjRtu7hoCFioyl61hG7gwhZf3mJ-8GblFbOLYcK0-ruoZm2BQdpNfeZUVb58jxj6GxrDatTolASeAuhVNv-NWPSH48vHYhRsMviZiX2Qd69SNijQK68EhrKUJwy7uWCdkf9FTt-wdwSM8nG568ub91F9cTU2sGQNr-jmKGwziJ6brsP496M3ISshT8KT-TCWODh8ehuyiqjn9EFxiPCF2kZlCBeGycu-5BsIt14XIBPxz2sIZM-CGlHVj6KlSs9Z9CAQgLU4po1kcjwgnx6tmtR-NziygXIFigiie_9jfo2_8v8_kk4spyloxcwyIjdmxKMceW77z6mIZuCAmFjUiGaioBDBedsNVELcWpbdTWkrlFJusl3mkV5udFHsfSCXRmroo9Sbml8G3USCJ7tU5Y-YTWrGEXrlzNBq2wiRlt7VPap3Ef7USyPn2GRiO537EdZstMvCG6JDzDuorESSfnzbN6qny3RcKDXP4KAj1C2bpulX5hVmnhNl4UUFlSvts415eSh5i25Yz4cFe2Q=='\n"
   ]
  },
  {
   "cell_type": "code",
   "execution_count": null,
   "metadata": {},
   "outputs": [],
   "source": [
    "decrypt(answer,)"
   ]
  },
  {
   "cell_type": "markdown",
   "metadata": {},
   "source": [
    "**21.** Use the [boxenplot](https://seaborn.pydata.org/generated/seaborn.boxenplot.html) function of `seaborn` to plot the distribution of $T_{max}$ for the decades 1977–1986, 1987–1996, 1997–2006, and 2007–2016. <br>\n",
    "Hint: reorganize the DataFrame so that each variable is in a column and each observation in a row (see [MATPLOTLIB: 3. Categorical Data](https://youtu.be/c0Bd8iWmHGw)) and use the map function of the Series to rename the years of the four decades as '1977–1986', '1987–1996', '1997–2006', and '2007–2016'.\n",
    "\n",
    "<img src=\"figs/LAQUILAboxenplot.png\" width=\"400\" align=\"left\"/>"
   ]
  },
  {
   "cell_type": "code",
   "execution_count": null,
   "metadata": {},
   "outputs": [],
   "source": [
    "answer = 'gAAAAABb-Xp4S-YhV9TndyCYvNU26vjVsVB4DO6cUFcc30Ii2JNvzyR7rzyvCqMbwD3R12pKabNlZR0BhRtJQWo39emPgWNVhCX6cXVVFTvUCXSqmwLYlEMX3xlhzydj_C9Pq_ZFUpmrLbpjCvatyVa2IHN02d1KCV2HYRAYvohkkhXYCiIP9zXi5xC8KaCAEW0GH8lAEhoJBijLAAaet3UxvyDbP8cmMCikUgKmmiGnztBPDMkcHlFjUS8CYysxM6MMxKIrvaN7Ml2F7Qnk3TV45lDSDu-I59QMMb-StibcZrbdV1tLfVLBC2dbhyXWRJdpK1ZH9MY8uZyXXVtpqw16vFaOdtrLGntaWvFSY8lvdHWNoznh1ch8DVxBYWjSKpIZLm0sPT1JW_Jf60sLhiyXdBUi4s0bM0sa6--CzNw3TcTp9sErIZGCgKP9-Rp_-NWnvoZhSGlR3x7njMnv7ly8KrMrUdPy7OhdCl-MqoyDPPcrCZPdz6GsT7ywOrWtTmbDuQPO4Q3CqQ7sGG5cYUb2LZzFwDfoYGd3kHCiN9X6oCjHDOQH6Si5S600z7ZfkVxtYlPWPRZQsv-Nbas9ugax0VF2j0dcPWWK9LLObMDl6QIC4E-vN41dfNMjkVa92QKpsxEgnqmFYVQ2Ny_dblLi0fzcPD3ZqfOrVY76OYu-OFj4xSToNUfGplZ2qmCDJEArh814pNxuDQOPFTimj-auTjN6hZrrRQ=='\n"
   ]
  },
  {
   "cell_type": "code",
   "execution_count": null,
   "metadata": {},
   "outputs": [],
   "source": [
    "decrypt(answer,)"
   ]
  },
  {
   "cell_type": "markdown",
   "metadata": {},
   "source": [
    "**22.** Merge the DataFrames storing the minimum and maximum temperatures in Stockholm and L'Aquila between 1977 and 2016. Apply suffixes to overlapping column names in the two DataFrames, _e.g._ ('_aq','_sthm'). Complete the next cell."
   ]
  },
  {
   "cell_type": "code",
   "execution_count": null,
   "metadata": {},
   "outputs": [],
   "source": [
    "temp_aq_sthm = pd.merge( , , how='inner', suffixes= , left_index= , right_index= )\n",
    "temp_aq_sthm.head()"
   ]
  },
  {
   "cell_type": "code",
   "execution_count": null,
   "metadata": {},
   "outputs": [],
   "source": [
    "answer = 'gAAAAABb-XuJPqMZAnqYwRaPPArp5s2Y1maV-eSuZUcZG-3pYuah0NtJ9aniU_xnoXuK78f0cuV5It4ri36q_9mZ10EAthGLptbm7wRYN5gDMDOstpzESTogmAaEHZb0T4AsxRfLeWYiFCHKh5NbButgkU2dLfAyyptx52wki1UVbf_ecCzgqVLI9xRjqOA4p9dls3qdPBrDTwGX0uhOQC3sQINiqkbhPTRgJVhAVQ0FavP-GM2G5fcxItX8qXHFLkLBkFW7Asg7LOdOAO1jW8G7JhM6flPvMQvgnBhxtRwy6pYjiWAexaX2rb16bY-AO23-aN0Zz88EKsaPDW24MmNyN4TiSN0fyJvXHjw31tIlBtdS4u23SLE='\n"
   ]
  },
  {
   "cell_type": "code",
   "execution_count": null,
   "metadata": {},
   "outputs": [],
   "source": [
    "decrypt(answer,)"
   ]
  },
  {
   "cell_type": "markdown",
   "metadata": {},
   "source": [
    "**23.** Use the DataFrame resulting from merging the data from Stockholm and L'Aquila to create a plot showing the univariate and bivariate distributions of the $T_{max}$ in Stockholm and L'Aquila between 1977 and 2016. The univariate distributions are located on the upper and right axes, whereas the bivariate histogram is in the middle of the plot and displayed in hexagonal bins. The complex plot shown below can be easily reproduced using the [jointplot](https://seaborn.pydata.org/generated/seaborn.jointplot.html) function of `seaborn`.<br>\n",
    "Reorganize the DataFrame so that each variable is in a column and each observation in a row (see [MATPLOTLIB: 3. Categorical Data](https://youtu.be/c0Bd8iWmHGw)).\n",
    "\n",
    "<img src=\"figs/jointplot.png\" width=\"400\" align=\"left\"/>"
   ]
  },
  {
   "cell_type": "code",
   "execution_count": null,
   "metadata": {},
   "outputs": [],
   "source": [
    "answer = 'gAAAAABb-XyElcERSML4-Nt-XNTia4QKEF2qA8N8Bw86mJdRhZpE1NlNXhDZQE0lkKlLjDLIxplm0Sg-6WS735dDK5DWEwOOVuCAMwt2CytSttgIWmtxTnjD4gyje4Mh_-YFOEyzDAgzo5qxnmZN4AGiENMD6rpj32Rb5rT6fJkpfMZrWk4w7pxJ2WauJLA3GBMc8FlLSmte1OQjL0lgenSvHi7YC-q9GLXklA0hCukWcd9MU-ncTNDuLbn4arEqAr4NrGyFGDDhlMiaCimKxTdsyNTjQMdJyn_QAKJmR7PFYUx6NtKmvmC69aRwFC-YTtZ7ZPbiaA3pTUZ7frZqJwgCCiO6OQgFf5OGd32Y-_v7s9nIcJK0Tr1cmWMMdjQbwktraAOiQr6zv7DeYMXOesyULXRNj5_HxeguoVFWpIBo3XNYq-dJPlY1kSMqyjngxjwYq0ERkKMmGc4HR8cgyy2pifMpTspoEmdljhyM_QNBax-aL_SnX2tR-9Fo8U9RJjMbZ_zXs1P788wigFFupM0L_d_y4r4xv2kyMNDbZSgk6S3i4O6RmjRJlkQZmUT74h8WsrFt2Yzs'"
   ]
  },
  {
   "cell_type": "code",
   "execution_count": null,
   "metadata": {},
   "outputs": [],
   "source": [
    "decrypt(answer,)"
   ]
  }
 ],
 "metadata": {
  "kernelspec": {
   "display_name": "Python 3",
   "language": "python",
   "name": "python3"
  },
  "language_info": {
   "codemirror_mode": {
    "name": "ipython",
    "version": 3
   },
   "file_extension": ".py",
   "mimetype": "text/x-python",
   "name": "python",
   "nbconvert_exporter": "python",
   "pygments_lexer": "ipython3",
   "version": "3.7.1"
  }
 },
 "nbformat": 4,
 "nbformat_minor": 2
}
