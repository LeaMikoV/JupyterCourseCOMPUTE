{
 "cells": [
  {
   "cell_type": "markdown",
   "metadata": {},
   "source": [
    "# Day 2. Daily Temperatures in Two European Cities"
   ]
  },
  {
   "cell_type": "markdown",
   "metadata": {},
   "source": [
    "The answers to the exercises are encrypted. Feel free to ask the instructors for the decryption key whenever you need to view the solution."
   ]
  },
  {
   "cell_type": "code",
   "execution_count": 2,
   "metadata": {},
   "outputs": [],
   "source": [
    "import numpy as np\n",
    "import pandas as pd\n",
    "import seaborn as sns\n",
    "import matplotlib as mpl\n",
    "import matplotlib.pyplot as plt\n",
    "%matplotlib inline"
   ]
  },
  {
   "cell_type": "code",
   "execution_count": 3,
   "metadata": {},
   "outputs": [],
   "source": [
    "from cryptography.fernet import Fernet\n",
    "import base64\n",
    "def encrypt(string, key):\n",
    "    keygen = lambda x : base64.urlsafe_b64encode(x.encode() + b' '*(32 - len(x)))\n",
    "    cipher = Fernet(keygen(key))\n",
    "    return cipher.encrypt(string.encode())\n",
    "def decrypt(string, key):\n",
    "    keygen = lambda x : base64.urlsafe_b64encode(x.encode() + b' '*(32 - len(x)))\n",
    "    cipher = Fernet(keygen(key))\n",
    "    return print(cipher.decrypt(string.encode()).decode())"
   ]
  },
  {
   "cell_type": "markdown",
   "metadata": {},
   "source": [
    "## Temperature Observations from the [Bolin Centre Database](http://bolin.su.se/data/stockholm)"
   ]
  },
  {
   "cell_type": "markdown",
   "metadata": {},
   "source": [
    "At [this URL](https://bolin.su.se/data/stockholm/files/stockholm-historical-weather-observations-ver-1.0.2016/temperature/daily/raw/) you can find daily air \n",
    "temperature data measured between 1756 and 2016 at the Stockholm Old Astronomical Observatory. The data is divided into four ASCII files as described in README_stockholm_daily_temp_obs.txt."
   ]
  },
  {
   "cell_type": "markdown",
   "metadata": {},
   "source": [
    "**1.** Read the data file stockholm_daily_temp_obs_1756_1858_t1t2t3.txt using the read_table function:\n",
    "  * pass the URL as the first argument of read_table;\n",
    "  * pass an appropriate list of strings to the name option;\n",
    "  * specify that the fields are separated by white spaces (read the docstring and use delim_whitespace or sep)"
   ]
  },
  {
   "cell_type": "markdown",
   "metadata": {},
   "source": [
    "# Loading the data"
   ]
  },
  {
   "cell_type": "code",
   "execution_count": 4,
   "metadata": {},
   "outputs": [
    {
     "data": {
      "text/html": [
       "<div>\n",
       "<style scoped>\n",
       "    .dataframe tbody tr th:only-of-type {\n",
       "        vertical-align: middle;\n",
       "    }\n",
       "\n",
       "    .dataframe tbody tr th {\n",
       "        vertical-align: top;\n",
       "    }\n",
       "\n",
       "    .dataframe thead th {\n",
       "        text-align: right;\n",
       "    }\n",
       "</style>\n",
       "<table border=\"1\" class=\"dataframe\">\n",
       "  <thead>\n",
       "    <tr style=\"text-align: right;\">\n",
       "      <th></th>\n",
       "      <th>year</th>\n",
       "      <th>month</th>\n",
       "      <th>day</th>\n",
       "      <th>morning</th>\n",
       "      <th>noon</th>\n",
       "      <th>evening</th>\n",
       "      <th>tmax</th>\n",
       "      <th>tmin</th>\n",
       "    </tr>\n",
       "  </thead>\n",
       "  <tbody>\n",
       "    <tr>\n",
       "      <th>0</th>\n",
       "      <td>1756</td>\n",
       "      <td>1</td>\n",
       "      <td>1</td>\n",
       "      <td>-8.0</td>\n",
       "      <td>-9.0</td>\n",
       "      <td>NaN</td>\n",
       "      <td>NaN</td>\n",
       "      <td>NaN</td>\n",
       "    </tr>\n",
       "    <tr>\n",
       "      <th>1</th>\n",
       "      <td>1756</td>\n",
       "      <td>1</td>\n",
       "      <td>2</td>\n",
       "      <td>-9.0</td>\n",
       "      <td>-9.0</td>\n",
       "      <td>NaN</td>\n",
       "      <td>NaN</td>\n",
       "      <td>NaN</td>\n",
       "    </tr>\n",
       "    <tr>\n",
       "      <th>2</th>\n",
       "      <td>1756</td>\n",
       "      <td>1</td>\n",
       "      <td>3</td>\n",
       "      <td>-10.0</td>\n",
       "      <td>-7.0</td>\n",
       "      <td>NaN</td>\n",
       "      <td>NaN</td>\n",
       "      <td>NaN</td>\n",
       "    </tr>\n",
       "    <tr>\n",
       "      <th>3</th>\n",
       "      <td>1756</td>\n",
       "      <td>1</td>\n",
       "      <td>4</td>\n",
       "      <td>-7.0</td>\n",
       "      <td>-8.0</td>\n",
       "      <td>NaN</td>\n",
       "      <td>NaN</td>\n",
       "      <td>NaN</td>\n",
       "    </tr>\n",
       "    <tr>\n",
       "      <th>4</th>\n",
       "      <td>1756</td>\n",
       "      <td>1</td>\n",
       "      <td>5</td>\n",
       "      <td>-9.0</td>\n",
       "      <td>-5.0</td>\n",
       "      <td>NaN</td>\n",
       "      <td>NaN</td>\n",
       "      <td>NaN</td>\n",
       "    </tr>\n",
       "  </tbody>\n",
       "</table>\n",
       "</div>"
      ],
      "text/plain": [
       "   year  month  day  morning  noon  evening  tmax  tmin\n",
       "0  1756      1    1     -8.0  -9.0      NaN   NaN   NaN\n",
       "1  1756      1    2     -9.0  -9.0      NaN   NaN   NaN\n",
       "2  1756      1    3    -10.0  -7.0      NaN   NaN   NaN\n",
       "3  1756      1    4     -7.0  -8.0      NaN   NaN   NaN\n",
       "4  1756      1    5     -9.0  -5.0      NaN   NaN   NaN"
      ]
     },
     "execution_count": 4,
     "metadata": {},
     "output_type": "execute_result"
    }
   ],
   "source": [
    "path = 'https://bolin.su.se/data/stockholm-thematic/files/stockholm-historical-weather-observations-ver-1.0.2016/temperature/daily/raw/'\n",
    "url = path+'stockholm_daily_temp_obs_1756_1858_t1t2t3.txt'\n",
    "temp1756_1858 = pd.read_table(url,header=None,delim_whitespace=True,names=['year','month','day','morning','noon','evening','tmax','tmin'])\n",
    "temp1756_1858.head()\n",
    "temp1756_1858 = pd.read_table(url,header=None,sep='\\s+',names=['year','month','day','morning','noon','evening','tmax','tmin'])\n",
    "temp1756_1858.head()"
   ]
  },
  {
   "cell_type": "code",
   "execution_count": 5,
   "metadata": {},
   "outputs": [],
   "source": [
    "answer = 'gAAAAABb-ECsnQFu0z9LDkzignEuP4loNaY7mSYSkFbPmZmOTlYVBhIeYs8Cont9nUTQxQInw9KkDfT2ab-E0gsb3XcZeh-ThTnhhLKT91fm8_FNBGEsPe7rQB3iqXBrSReg32OUNLj-DuyXxdqm_uVWQHL0troD-11RVm-9NrjDLkwCkM6W0yjvnMSDBDchOvpnVvNzmFv_hI73YYBBJIzqdfBFo2MYWdBUu_97WIh1YPN7ab4YNzRxG4ZdhcBar7Ix1ernPPbzFjKpRfAPjiAd6GO_aUGRDqOJYQTvk6BidcDp7Q_YpEZCzyXjdyWRx_uW2GrH1AKxxcEdlIKr1ZTjmAiMP2rbA5qelHAYDTE0jbB8tNa2rucW9mr2pUfZ63-pHDxxOkHXgVyWnxg_MVsPGYYKCT59CFB1lFSCN59GYkUpVHw06z0rqnzbcV6SQo_d6rI-gF6Jnpb6QHF7HBBctweu7aC1DT1yzQT5BFIpcGl-atxX5RUDh2udIaF6YzyyA5su2sN3ItZd1YTwaa5x3Hd-YvdvjobM1y-9x7BTNzLwmP5L6voNSHAa513f00I71LN41_kG0AW0Lie5uAeruVnU65azrU-KXz2zCea4womhz6QB9Tiao9oF1ZPPecP88zK8AmI3vSYx-QTIJsUcKMsqC3rjknkGh5L_SJHWKsS9OPGrscuQgovPsnkXwO-VYFbCtYZH8LgKwKykBiDcSArUgQat-hZUnzPRfW0R4kjBpJXDJ-MyvzUQqJN9SPUNSc5_PQh9vuJAIvInZ2S0ZUx_j77bYg=='\n"
   ]
  },
  {
   "cell_type": "code",
   "execution_count": 6,
   "metadata": {},
   "outputs": [
    {
     "name": "stdout",
     "output_type": "stream",
     "text": [
      "path = 'http://bolin.su.se/data/stockholm/files/stockholm-historical-weather-observations-ver-1.0.2016/'\n",
      "url = path+'temperature/daily/raw/stockholm_daily_temp_obs_1756_1858_t1t2t3.txt'\n",
      "temp1756_1858 = pd.read_table(url,header=None,delim_whitespace=True,\n",
      "                             names=['year','month','day','morning','noon','evening','tmax','tmin'])\n",
      "temp1756_1858 = pd.read_table(url,header=None,sep='\\s+',\n",
      "                             names=['year','month','day','morning','noon','evening','tmax','tmin'])\n",
      "temp1756_1858.head()\n"
     ]
    }
   ],
   "source": [
    "decrypt(answer,'Ystad')"
   ]
  },
  {
   "cell_type": "markdown",
   "metadata": {},
   "source": [
    "**2.** Load the files for the years 1756–1858, 1859–1960, 1961–2012, and 2013–2016 into a single DataFrame. \n",
    "  * check that the temperatures are interpreted as numeric values\n",
    "  * [concatenate](https://pandas.pydata.org/pandas-docs/stable/generated/pandas.concat.html) the three DataFrames into a single one\n",
    "  * turn the labels in the 'year', 'month', and 'day' columns into indexes"
   ]
  },
  {
   "cell_type": "code",
   "execution_count": 7,
   "metadata": {},
   "outputs": [],
   "source": [
    "path = 'https://bolin.su.se/data/stockholm-thematic/files/stockholm-historical-weather-observations-ver-1.0.2016/temperature/daily/raw/'\n",
    "url = path+'stockholm_daily_temp_obs_1859_1960_t1t2t3txtn.txt'\n",
    "temp1859_1960 = pd.read_table(url,header=None,delim_whitespace=True,names=['year','month','day','morning','noon','evening','tmax','tmin','tmean'])\n",
    "#temp1859_1960.head()\n",
    "#temp1859_1960.iloc[:,3:].apply(pd.to_numeric,errors='coerce')"
   ]
  },
  {
   "cell_type": "code",
   "execution_count": 8,
   "metadata": {},
   "outputs": [],
   "source": [
    "path = 'https://bolin.su.se/data/stockholm-thematic/files/stockholm-historical-weather-observations-ver-1.0.2016/temperature/daily/raw/'\n",
    "url = path+'stockholm_daily_temp_obs_1961_2012_t1t2t3txtntm.txt'\n",
    "temp1961_2012 = pd.read_table(url,header=None,delim_whitespace=True,names=['year','month','day','morning','noon','evening','tmax','tmin','tmean'])\n",
    "#temp1961_2012.head()"
   ]
  },
  {
   "cell_type": "code",
   "execution_count": 9,
   "metadata": {},
   "outputs": [],
   "source": [
    "path = 'https://bolin.su.se/data/stockholm-thematic/files/stockholm-historical-weather-observations-ver-1.0.2016/temperature/daily/raw/'\n",
    "url = path+'stockholm_daily_temp_obs_2013_2016_t1t2t3txtntm.txt'\n",
    "temp2013_2016 = pd.read_table(url,header=None,delim_whitespace=True,names=['year','month','day','morning','noon','evening','tmax','tmin','tmean'])\n",
    "#temp2013_2016.head()"
   ]
  },
  {
   "cell_type": "code",
   "execution_count": 10,
   "metadata": {},
   "outputs": [
    {
     "data": {
      "text/html": [
       "<div>\n",
       "<style scoped>\n",
       "    .dataframe tbody tr th:only-of-type {\n",
       "        vertical-align: middle;\n",
       "    }\n",
       "\n",
       "    .dataframe tbody tr th {\n",
       "        vertical-align: top;\n",
       "    }\n",
       "\n",
       "    .dataframe thead th {\n",
       "        text-align: right;\n",
       "    }\n",
       "</style>\n",
       "<table border=\"1\" class=\"dataframe\">\n",
       "  <thead>\n",
       "    <tr style=\"text-align: right;\">\n",
       "      <th></th>\n",
       "      <th></th>\n",
       "      <th></th>\n",
       "      <th>morning</th>\n",
       "      <th>noon</th>\n",
       "      <th>evening</th>\n",
       "      <th>tmax</th>\n",
       "      <th>tmin</th>\n",
       "      <th>tmean</th>\n",
       "    </tr>\n",
       "    <tr>\n",
       "      <th>year</th>\n",
       "      <th>month</th>\n",
       "      <th>day</th>\n",
       "      <th></th>\n",
       "      <th></th>\n",
       "      <th></th>\n",
       "      <th></th>\n",
       "      <th></th>\n",
       "      <th></th>\n",
       "    </tr>\n",
       "  </thead>\n",
       "  <tbody>\n",
       "    <tr>\n",
       "      <th rowspan=\"5\" valign=\"top\">1756</th>\n",
       "      <th rowspan=\"5\" valign=\"top\">1</th>\n",
       "      <th>1</th>\n",
       "      <td>-8.0</td>\n",
       "      <td>-9.0</td>\n",
       "      <td>NaN</td>\n",
       "      <td>NaN</td>\n",
       "      <td>NaN</td>\n",
       "      <td>NaN</td>\n",
       "    </tr>\n",
       "    <tr>\n",
       "      <th>2</th>\n",
       "      <td>-9.0</td>\n",
       "      <td>-9.0</td>\n",
       "      <td>NaN</td>\n",
       "      <td>NaN</td>\n",
       "      <td>NaN</td>\n",
       "      <td>NaN</td>\n",
       "    </tr>\n",
       "    <tr>\n",
       "      <th>3</th>\n",
       "      <td>-10.0</td>\n",
       "      <td>-7.0</td>\n",
       "      <td>NaN</td>\n",
       "      <td>NaN</td>\n",
       "      <td>NaN</td>\n",
       "      <td>NaN</td>\n",
       "    </tr>\n",
       "    <tr>\n",
       "      <th>4</th>\n",
       "      <td>-7.0</td>\n",
       "      <td>-8.0</td>\n",
       "      <td>NaN</td>\n",
       "      <td>NaN</td>\n",
       "      <td>NaN</td>\n",
       "      <td>NaN</td>\n",
       "    </tr>\n",
       "    <tr>\n",
       "      <th>5</th>\n",
       "      <td>-9.0</td>\n",
       "      <td>-5.0</td>\n",
       "      <td>NaN</td>\n",
       "      <td>NaN</td>\n",
       "      <td>NaN</td>\n",
       "      <td>NaN</td>\n",
       "    </tr>\n",
       "  </tbody>\n",
       "</table>\n",
       "</div>"
      ],
      "text/plain": [
       "                morning  noon  evening  tmax  tmin  tmean\n",
       "year month day                                           \n",
       "1756 1     1       -8.0  -9.0      NaN   NaN   NaN    NaN\n",
       "           2       -9.0  -9.0      NaN   NaN   NaN    NaN\n",
       "           3      -10.0  -7.0      NaN   NaN   NaN    NaN\n",
       "           4       -7.0  -8.0      NaN   NaN   NaN    NaN\n",
       "           5       -9.0  -5.0      NaN   NaN   NaN    NaN"
      ]
     },
     "execution_count": 10,
     "metadata": {},
     "output_type": "execute_result"
    }
   ],
   "source": [
    "temp = pd.concat([temp1756_1858,temp1859_1960,temp1961_2012,temp2013_2016])\n",
    "temp.set_index(['year','month','day'],inplace=True)\n",
    "temp.head()"
   ]
  },
  {
   "cell_type": "code",
   "execution_count": 11,
   "metadata": {},
   "outputs": [],
   "source": [
    "answer = 'gAAAAABb-U7fylqc83eeJw6Ai7R_qiYxTUscl5y3ggel4lqSfWjq5iomcS4nZMCg8n0AuOTdAfLHIRXTmZqn_StlRbuyxk-H8_MtN2O179iOreXaOloZq-GT8E5hUIv1tDyrSbebQFEsYKPQd4_OARKI4wh-jBLovyiJLkq8FQ_DKj1Ue8iRqAp4Y2BUCUgoCph38WECO2GkiDR4WM0sSWA7pM9MYoIN42Bnftshv1BOFamRLgPVKS3rCJSP-jcx_TBZbR2SxNMH_6oosZs7iM32uEYCmceWXAOzrdjuytWicvMHtiuWEqm6Y3KqQixCS3O2mmAKrB_40_IU-RujI_1NihL3u0FWCt5GP7Li7nBGACnSSdhgGE7Bzb7QAqoZQc7yF02vc3Ano0fNMgP9VX14ytXSKa1bpiCwHDnv7IDu8KPcVfdd51lioJZhxoWU73mOqaMGIMSLhEXTxF5G9oSQrWi_i5vL-ZNpIc3Evoe0UjyzQz7psCtM-NAX3mr-_jbSFZmjd7LsGYp8uqD6uhNkM_Qd52KRyv1YdaIfZ4ZxDV-ulLYaKSTW8mkLvJb67SjiRfrCgrbYEno0Jw6mmWUDso3c_B1-CpBj7HR-onRcLaXNSKU_qI3niYGSga8b-DGd97Mwql5OU250S_5ztx6QV-whg8A75b5_X1finC9t6Ix3xhfPrB8D9vFIZ8nRiAyp6cx7FXTmrGrKluaZEH3Do1NNXk1CvNijyzofPwv1d6FSYGM04DTpJR-mUcymeoK7W34v5uUS4IGwM9Moph4qATKn-vOnk5hU_iRbFleWRyJUQjIZm6ypPv5o5aX5mDRvuF-x2uCjc_qRxjAMhbp7WxUemFgxP9nLWc4JrQMwL0k85gZ7H5rLzywJRreOmaKn2yH6LUTQJ0e_sYr6ILWi0SiJapxDNqQVKuk5OXW495eDC738uvXFnIc1xmXUJIj0zOOxWwowrySCp3tDLmXLj6X-mrNCkrXVs-uJPrz_PakkILlno0SUL9L87VaH5YOljGNpDtibYZRBa-LF56xoVQccaPrnfaHq_cbCErO3jiEYXSvYExY0j1k3uyHEoKKMn7g7ZuY--Wj9-Ogkq_FlA8WHX4JXgcpYjmr-FfzQDS_La4VaYuEdqIo6O5Wh2CgJlF--HZjRn8YHQ9C6wFQ7-DpcAhMuxGkUaTKeg1xsfgpNv6acOuSlUGbP_I733NTGa0SSgGsuE8bBm_iZq9tj3B7EjwpCXltnz8gR4v7TpWdhFxYbI6O-Z-9Ihb5rpbXTHDasKmZwha4YNNzrBldk3gVIzuRuP09AzWKa14gwY-NK4IQPSgyNAhuz3pyaASQVSo0sDLQnFDSUyl96HNwE0XDFZcmmZWbQyh2-crz1BDvdn5mne02BvYhl-XSBXu5MPQaHRYq88l2Yf_1Cw9GiH1LLqvOiB0-ndOaavKLRH_YHQL16m6q36wxalkDtNHqxYmdVWJNDgODfQTuLLRfaLsEMmtvMnggfYk3KcTcTE7gsfvuc65k-p6ZXdK9KDG4W21IMWebP22quOiwzk-RZVVx8VOx9ZIj9kvagA07Yo3ItwmvvUIWFW7kIUKnByUOyVRKdY4iXMt2vlX_ttR1OE1AZVLJtPj2hjpepuMcsnLHaCkiOCZCl5Wb2oin4v9M_aKFzPKuo8FGGHWhflEc5eFQyiXwInzRgpo4WPzCj9HHF6itaFn4xtD1Y2oQ3N2hD2b15r62I_IR5kBHXmGseXtCWwcKX3VE6-s2TYmO64RyG77a8XZuexDVZKN7505pBi1X0XGXls_GLhmEeIXQ6KO1VlIpfwLqVQoo3PbW4ynQL58rq81lNaIBC76K-PBjb8yAUjM1Z'\n"
   ]
  },
  {
   "cell_type": "code",
   "execution_count": 12,
   "metadata": {},
   "outputs": [
    {
     "name": "stdout",
     "output_type": "stream",
     "text": [
      "path = 'http://bolin.su.se/data/stockholm/files/stockholm-historical-weather-observations-ver-1.0.2016/'\n",
      "url = path+'temperature/daily/raw/stockholm_daily_temp_obs_1756_1858_t1t2t3.txt'\n",
      "temp1756_1858 = pd.read_table(url,header=None,engine='python',delim_whitespace=True,\n",
      "                     names=['year','month','day','morning','noon','evening','tmax','tmin'])\n",
      "url = path+'temperature/daily/raw/stockholm_daily_temp_obs_1859_1960_t1t2t3txtn.txt'\n",
      "temp1859_1960 = pd.read_table(url,header=None,engine='python',delim_whitespace=True,\n",
      "                     names=['year','month','day','morning','noon','evening','tmax','tmin'])\n",
      "url = path+'temperature/daily/raw/stockholm_daily_temp_obs_1961_2012_t1t2t3txtntm.txt'\n",
      "temp1961_2012 = pd.read_table(url,header=None,engine='python',delim_whitespace=True,\n",
      "                     names=['year','month','day','morning','noon','evening','tmax','tmin','estimated diurnal mean'])\n",
      "url = path+'temperature/daily/raw/stockholm_daily_temp_obs_2013_2016_t1t2t3txtntm.txt'\n",
      "temp2013_2016 = pd.read_table(url,header=None,engine='python',delim_whitespace=True,\n",
      "                     names=['year','month','day','morning','noon','evening','tmax','tmin','estimated diurnal mean'])\n",
      "temp = pd.concat([temp1756_1858,temp1859_1960,temp1961_2012,temp2013_2016])\n",
      "temp.set_index(['year','month','day'],inplace=True)\n",
      "temp.head()\n"
     ]
    }
   ],
   "source": [
    "decrypt(answer,'Bjuv')"
   ]
  },
  {
   "cell_type": "markdown",
   "metadata": {},
   "source": [
    "**3.** In one line, find the temperature measured at noon on Dec 3 1960."
   ]
  },
  {
   "cell_type": "code",
   "execution_count": 13,
   "metadata": {},
   "outputs": [
    {
     "data": {
      "text/plain": [
       "6.3"
      ]
     },
     "execution_count": 13,
     "metadata": {},
     "output_type": "execute_result"
    }
   ],
   "source": [
    "temp.loc[1960,12,3]['noon']"
   ]
  },
  {
   "cell_type": "code",
   "execution_count": 14,
   "metadata": {},
   "outputs": [],
   "source": [
    "answer = 'gAAAAABb-VBGBZl2mA8-SflirbdRbplpTR7xoKV2nnVdHwAYi98u_q3nkI3edBV5osCasXKROVsPrfDKvYb9iHkd6zq7lgzqtGg66wn39_s2Zn9qCtuYexU='\n"
   ]
  },
  {
   "cell_type": "code",
   "execution_count": 15,
   "metadata": {},
   "outputs": [
    {
     "name": "stdout",
     "output_type": "stream",
     "text": [
      "temp.loc[1960,12,3]['noon']\n"
     ]
    }
   ],
   "source": [
    "decrypt(answer,'Simrishamn')"
   ]
  },
  {
   "cell_type": "markdown",
   "metadata": {},
   "source": [
    "**4.** In one line, find the day between 1859 and 2016 when the highest temperature was measured (the output of the cell should be tuple of three integers)."
   ]
  },
  {
   "cell_type": "code",
   "execution_count": 16,
   "metadata": {},
   "outputs": [
    {
     "data": {
      "text/plain": [
       "(1975, 8, 6)"
      ]
     },
     "execution_count": 16,
     "metadata": {},
     "output_type": "execute_result"
    }
   ],
   "source": [
    "temp.sort_values('tmax',ascending=False).iloc[0].name"
   ]
  },
  {
   "cell_type": "code",
   "execution_count": 17,
   "metadata": {},
   "outputs": [],
   "source": [
    "answer = 'gAAAAABb-VCY_AQelKwK1II7f0fPXUI22jlZOUkqOsOvij8MhZJNxkQZQajchxu-7r5v9izSEfJRS6i8tGWb66AupYYQ1lga7WZS6yWMgOmrlRES1Q-2tnEfBFCNMzwi53qQZTEKNpUTvvMbX3-A1tSy_g3BCHQAfg=='\n"
   ]
  },
  {
   "cell_type": "code",
   "execution_count": 18,
   "metadata": {},
   "outputs": [
    {
     "name": "stdout",
     "output_type": "stream",
     "text": [
      "temp.sort_values('tmax',ascending=False).iloc[0].name\n"
     ]
    }
   ],
   "source": [
    "decrypt(answer,'Osby')"
   ]
  },
  {
   "cell_type": "markdown",
   "metadata": {},
   "source": [
    "**5.** In one line, find the day between 1859 and 2016 when the lowest temperature was measured (the output of the cell should be tuple of three integers). Hint: complete the next cell."
   ]
  },
  {
   "cell_type": "code",
   "execution_count": 19,
   "metadata": {},
   "outputs": [
    {
     "data": {
      "text/plain": [
       "(1875, 1, 24)"
      ]
     },
     "execution_count": 19,
     "metadata": {},
     "output_type": "execute_result"
    }
   ],
   "source": [
    "temp.sort_values('tmin',ascending=True).iloc[0].name # or use idxmin()"
   ]
  },
  {
   "cell_type": "code",
   "execution_count": 20,
   "metadata": {},
   "outputs": [],
   "source": [
    "answer = 'gAAAAABb-VGrSBxILJ0wQk7UJEtjquHLWl3khWYZW3qipxPcmVCFnf1m0JVt2DaAmQiPtuztorooYKqgiu_Eq-pzileSpIfCU7e2AouMOMzPoAHtcn7OsAZAFjBCs-by3RRVhNiFu977gIyydbnzYPZb5HqyEgSZgw=='\n"
   ]
  },
  {
   "cell_type": "code",
   "execution_count": 21,
   "metadata": {},
   "outputs": [
    {
     "name": "stdout",
     "output_type": "stream",
     "text": [
      "temp.sort_values('tmin',ascending=True).iloc[0].name\n"
     ]
    }
   ],
   "source": [
    "decrypt(answer,'Helsingborg')"
   ]
  },
  {
   "cell_type": "markdown",
   "metadata": {},
   "source": [
    "**6.** In one line, find the average temperature in December 2000."
   ]
  },
  {
   "cell_type": "code",
   "execution_count": 22,
   "metadata": {},
   "outputs": [
    {
     "data": {
      "text/plain": [
       "2.935483870967742"
      ]
     },
     "execution_count": 22,
     "metadata": {},
     "output_type": "execute_result"
    }
   ],
   "source": [
    "temp.loc[2000,12]['tmean'].mean()"
   ]
  },
  {
   "cell_type": "code",
   "execution_count": 23,
   "metadata": {},
   "outputs": [],
   "source": [
    "answer = 'gAAAAABb-VIUQHfnYECUeVz3Y0l5r_kFhu2MaBaloNlEV7hpPy6Wy6qDnXhIad0HYBJSlzwstZ5igAqq_TI7akDeb381gjWmbJcHnlh1ILfgq2uplO97Nn1nHYe5ERqGHxkQmz61hGyF-3jh3ITB__jMtHk3q_7beQ=='\n"
   ]
  },
  {
   "cell_type": "code",
   "execution_count": 24,
   "metadata": {},
   "outputs": [
    {
     "name": "stdout",
     "output_type": "stream",
     "text": [
      "temp.loc[2000,12]['estimated diurnal mean'].mean()\n"
     ]
    }
   ],
   "source": [
    "decrypt(answer,'Klippan')"
   ]
  },
  {
   "cell_type": "markdown",
   "metadata": {},
   "source": [
    "**7.** In one line, find the day with the widest temperature range between 1950 and 2010 (the output of the cell should be tuple of three integers)."
   ]
  },
  {
   "cell_type": "code",
   "execution_count": 25,
   "metadata": {},
   "outputs": [
    {
     "data": {
      "text/plain": [
       "(1986, 6, 26)"
      ]
     },
     "execution_count": 25,
     "metadata": {},
     "output_type": "execute_result"
    }
   ],
   "source": [
    "(temp.loc[1960:2010]['tmax']-temp.loc[1960:2010]['tmin']).sort_values(ascending=False).first_valid_index()"
   ]
  },
  {
   "cell_type": "code",
   "execution_count": 26,
   "metadata": {},
   "outputs": [],
   "source": [
    "answer ='gAAAAABb-VJfrMtmSCdd_VSAYdzQKZNicY2jL0Lg-2XQY_c7apqDe5RPh9LHMeauiVELaY7U3U3Nohwn6NSw5RNgzoBiYIw1kX31IPGw-TxeD9rmBKrY6GWKDMYlMmBSwzy5Pl4NGo_ZolkTqhykbDY-8MYlX4y_zb0W4J1Ty-oGAsKD7wO7VKLEvh6T3maZoZ1fHzVkjwC9hM2eOKG7YKlb2DAs6bCa6A=='\n"
   ]
  },
  {
   "cell_type": "code",
   "execution_count": 27,
   "metadata": {},
   "outputs": [
    {
     "name": "stdout",
     "output_type": "stream",
     "text": [
      "(temp.loc[1960:2010]['tmax']-temp.loc[1960:2010]['tmin']).sort_values(ascending=False).first_valid_index()\n"
     ]
    }
   ],
   "source": [
    "decrypt(answer,'Vellinge')"
   ]
  },
  {
   "cell_type": "markdown",
   "metadata": {},
   "source": [
    "**8.** Find the day and the month between 1859 and 2016 corresponding to the widest average temperature range. In other words, based on the available data, which day of the year has the widest temperature range? The cell should return a tuple of two integers (month, day). Hint: complete the next cell."
   ]
  },
  {
   "cell_type": "code",
   "execution_count": 28,
   "metadata": {},
   "outputs": [
    {
     "data": {
      "text/plain": [
       "(1871, 2, 22)"
      ]
     },
     "execution_count": 28,
     "metadata": {},
     "output_type": "execute_result"
    }
   ],
   "source": [
    "(temp.loc[1859:2016]['tmax']-temp.loc[1859:2016]['tmin']).sort_values(ascending=False).first_valid_index()"
   ]
  },
  {
   "cell_type": "code",
   "execution_count": 29,
   "metadata": {},
   "outputs": [],
   "source": [
    "answer = 'gAAAAABcBnQYjB836zScGmAoGYdnwmJ4qfyTznmYX0lS6N2P5lbFHBwvDd9W7_GR7RO7HCc-bl3_Ls7pixk1L2ZVx--9njK5pY4lQmHGrbWkWKkPwMEiXFAHtOKw8rdH_QCucHPqiIge-8v8YXk7nB4dXFoilvGU3CD3PbjVxjIt1pQuUmJVyibGsh9vTdrELvuJ_sxyPb97lrPigVeDZdxA7sViOjSQBG7gw6Jhv4HRZORDxaALFFotyac0H_FN1SVHrcdfByjYF4dAZ6dbwt03XaYQsDaCq5IsoqnFsjrcRqywrB8Ju9bdCDkOmZ1WvSToBCkSF5OD'\n"
   ]
  },
  {
   "cell_type": "code",
   "execution_count": 30,
   "metadata": {},
   "outputs": [
    {
     "name": "stdout",
     "output_type": "stream",
     "text": [
      "temp['range'] = temp['tmax']-temp['tmin']\n",
      "temp['range'].mean(level=(1,2)).idxmax()\n",
      "# or temp.groupby(['month','day'])['range'].mean().sort_values(ascending=False).first_valid_index()\n"
     ]
    }
   ],
   "source": [
    "decrypt(answer,'Lomma')"
   ]
  },
  {
   "cell_type": "markdown",
   "metadata": {},
   "source": [
    "**9.** Find the day and the month between 1975 and 2016 with the widest average temperature range. The cell should print a tuple of two integers (month, day), as well as the mean and the standard deviation of the temperature range."
   ]
  },
  {
   "cell_type": "code",
   "execution_count": 31,
   "metadata": {},
   "outputs": [
    {
     "name": "stdout",
     "output_type": "stream",
     "text": [
      "(6, 6) 3.2380169734672775 6.286870069756828\n"
     ]
    }
   ],
   "source": [
    "temp['range'] = temp.loc[1975:2017]['tmax']-temp.loc[1975:2017]['tmin']\n",
    "DM = temp.loc[1975:2017]['range'].mean(level=(1,2)).idxmax()\n",
    "S = temp['range'].std()\n",
    "M = temp['range'].mean()\n",
    "print(DM,S,M)"
   ]
  },
  {
   "cell_type": "code",
   "execution_count": 32,
   "metadata": {},
   "outputs": [
    {
     "data": {
      "text/html": [
       "<div>\n",
       "<style scoped>\n",
       "    .dataframe tbody tr th:only-of-type {\n",
       "        vertical-align: middle;\n",
       "    }\n",
       "\n",
       "    .dataframe tbody tr th {\n",
       "        vertical-align: top;\n",
       "    }\n",
       "\n",
       "    .dataframe thead th {\n",
       "        text-align: right;\n",
       "    }\n",
       "</style>\n",
       "<table border=\"1\" class=\"dataframe\">\n",
       "  <thead>\n",
       "    <tr style=\"text-align: right;\">\n",
       "      <th></th>\n",
       "      <th></th>\n",
       "      <th></th>\n",
       "      <th>morning</th>\n",
       "      <th>noon</th>\n",
       "      <th>evening</th>\n",
       "      <th>tmax</th>\n",
       "      <th>tmin</th>\n",
       "      <th>tmean</th>\n",
       "      <th>range</th>\n",
       "    </tr>\n",
       "    <tr>\n",
       "      <th>year</th>\n",
       "      <th>month</th>\n",
       "      <th>day</th>\n",
       "      <th></th>\n",
       "      <th></th>\n",
       "      <th></th>\n",
       "      <th></th>\n",
       "      <th></th>\n",
       "      <th></th>\n",
       "      <th></th>\n",
       "    </tr>\n",
       "  </thead>\n",
       "  <tbody>\n",
       "    <tr>\n",
       "      <th rowspan=\"5\" valign=\"top\">1756</th>\n",
       "      <th rowspan=\"5\" valign=\"top\">1</th>\n",
       "      <th>1</th>\n",
       "      <td>-8.0</td>\n",
       "      <td>-9.0</td>\n",
       "      <td>NaN</td>\n",
       "      <td>NaN</td>\n",
       "      <td>NaN</td>\n",
       "      <td>NaN</td>\n",
       "      <td>NaN</td>\n",
       "    </tr>\n",
       "    <tr>\n",
       "      <th>2</th>\n",
       "      <td>-9.0</td>\n",
       "      <td>-9.0</td>\n",
       "      <td>NaN</td>\n",
       "      <td>NaN</td>\n",
       "      <td>NaN</td>\n",
       "      <td>NaN</td>\n",
       "      <td>NaN</td>\n",
       "    </tr>\n",
       "    <tr>\n",
       "      <th>3</th>\n",
       "      <td>-10.0</td>\n",
       "      <td>-7.0</td>\n",
       "      <td>NaN</td>\n",
       "      <td>NaN</td>\n",
       "      <td>NaN</td>\n",
       "      <td>NaN</td>\n",
       "      <td>NaN</td>\n",
       "    </tr>\n",
       "    <tr>\n",
       "      <th>4</th>\n",
       "      <td>-7.0</td>\n",
       "      <td>-8.0</td>\n",
       "      <td>NaN</td>\n",
       "      <td>NaN</td>\n",
       "      <td>NaN</td>\n",
       "      <td>NaN</td>\n",
       "      <td>NaN</td>\n",
       "    </tr>\n",
       "    <tr>\n",
       "      <th>5</th>\n",
       "      <td>-9.0</td>\n",
       "      <td>-5.0</td>\n",
       "      <td>NaN</td>\n",
       "      <td>NaN</td>\n",
       "      <td>NaN</td>\n",
       "      <td>NaN</td>\n",
       "      <td>NaN</td>\n",
       "    </tr>\n",
       "  </tbody>\n",
       "</table>\n",
       "</div>"
      ],
      "text/plain": [
       "                morning  noon  evening  tmax  tmin  tmean  range\n",
       "year month day                                                  \n",
       "1756 1     1       -8.0  -9.0      NaN   NaN   NaN    NaN    NaN\n",
       "           2       -9.0  -9.0      NaN   NaN   NaN    NaN    NaN\n",
       "           3      -10.0  -7.0      NaN   NaN   NaN    NaN    NaN\n",
       "           4       -7.0  -8.0      NaN   NaN   NaN    NaN    NaN\n",
       "           5       -9.0  -5.0      NaN   NaN   NaN    NaN    NaN"
      ]
     },
     "execution_count": 32,
     "metadata": {},
     "output_type": "execute_result"
    }
   ],
   "source": [
    "temp.head()"
   ]
  },
  {
   "cell_type": "code",
   "execution_count": 33,
   "metadata": {},
   "outputs": [
    {
     "name": "stdout",
     "output_type": "stream",
     "text": [
      "(6, 6) 10.31904761904762 2.9524060543685797\n"
     ]
    }
   ],
   "source": [
    "day = temp.loc[1975:2016].groupby(['month','day'])['range'].mean().sort_values(ascending=False).first_valid_index()\n",
    "mean = temp.loc[1975:2016].groupby(['month','day'])['range'].mean().sort_values(ascending=False).iloc[0]\n",
    "std = temp.loc[1975:2016].groupby(['month','day'])['range'].std().loc[day]\n",
    "print(day,mean,std)"
   ]
  },
  {
   "cell_type": "code",
   "execution_count": 34,
   "metadata": {},
   "outputs": [],
   "source": [
    "answer = 'gAAAAABb-VONyivCG861Lyjw3wrIlxoKC_HduHOcaFD21sOTHnf8_G3c2U0eUsjYyrNJuGlmKaZQqAWVBBHDqEvAhjpN2ibMSLcwPvLp_rPmiFQL4z8BvuBa3aqxua6ID7zd0JGdb2V-IY6Qb_NgLyKB-sEWTAZ1u_mjcaFuydHE0hClROd7sRLghcL0IoKgYbMAAzSIWnWyeToi8iQH4TPDPG5yOMVe5Ct2ftxjvlsTbTzv62YzXVnuUTb9qTqofk86WlrhwCWMrJwyDfBCx6B5wAoZ5A0IiWI3qNBY7IruHbWT3TR4igJgfgmNMP7eZ81bwNcF6DaWJfQh_G1YITtOnN-fKirH1eLFvMIS5gYsw5DPQYEKLtiyX6WaLQC4TQr42zTvkCg0hFOi4SpnQJcrgNW9LTOeONnN_kevyGJwM8Qq6qpUCEgruF0Z8_jt0LCRaZykr1I99M_SG7QnwbhaQWbP6U1NrI-CJ0NQaK-SNrVxuYl1-yA='\n"
   ]
  },
  {
   "cell_type": "code",
   "execution_count": 35,
   "metadata": {},
   "outputs": [
    {
     "name": "stdout",
     "output_type": "stream",
     "text": [
      "day = temp.loc[1975:2016].groupby(['month','day'])['range'].mean().sort_values(ascending=False).first_valid_index()\n",
      "mean = temp.loc[1975:2016].groupby(['month','day'])['range'].mean().sort_values(ascending=False).iloc[0]\n",
      "std = temp.loc[1975:2016].groupby(['month','day'])['range'].std().loc[day]\n",
      "print(day,mean,std)\n"
     ]
    }
   ],
   "source": [
    "decrypt(answer,'Kristianstad')"
   ]
  },
  {
   "cell_type": "markdown",
   "metadata": {},
   "source": [
    "**10.** Using unstack (see [PANDAS: 4. Group By](https://youtu.be/oh8UijClQoE)) and the describe function of the DataFrame (see [MATPLOTLIB: 2. Advanced Plots](https://youtu.be/Xyobv9kGQxU)), generate a DataFrame that shows for each year the mean and the standard deviation of the temperature range."
   ]
  },
  {
   "cell_type": "code",
   "execution_count": 36,
   "metadata": {},
   "outputs": [
    {
     "data": {
      "text/html": [
       "<div>\n",
       "<style scoped>\n",
       "    .dataframe tbody tr th:only-of-type {\n",
       "        vertical-align: middle;\n",
       "    }\n",
       "\n",
       "    .dataframe tbody tr th {\n",
       "        vertical-align: top;\n",
       "    }\n",
       "\n",
       "    .dataframe thead th {\n",
       "        text-align: right;\n",
       "    }\n",
       "</style>\n",
       "<table border=\"1\" class=\"dataframe\">\n",
       "  <thead>\n",
       "    <tr style=\"text-align: right;\">\n",
       "      <th>year</th>\n",
       "      <th>1756</th>\n",
       "      <th>1757</th>\n",
       "      <th>1758</th>\n",
       "      <th>1759</th>\n",
       "      <th>1760</th>\n",
       "      <th>1761</th>\n",
       "      <th>1762</th>\n",
       "      <th>1763</th>\n",
       "      <th>1764</th>\n",
       "      <th>1765</th>\n",
       "      <th>...</th>\n",
       "      <th>2007</th>\n",
       "      <th>2008</th>\n",
       "      <th>2009</th>\n",
       "      <th>2010</th>\n",
       "      <th>2011</th>\n",
       "      <th>2012</th>\n",
       "      <th>2013</th>\n",
       "      <th>2014</th>\n",
       "      <th>2015</th>\n",
       "      <th>2016</th>\n",
       "    </tr>\n",
       "  </thead>\n",
       "  <tbody>\n",
       "    <tr>\n",
       "      <th>mean</th>\n",
       "      <td>NaN</td>\n",
       "      <td>NaN</td>\n",
       "      <td>NaN</td>\n",
       "      <td>NaN</td>\n",
       "      <td>NaN</td>\n",
       "      <td>NaN</td>\n",
       "      <td>NaN</td>\n",
       "      <td>NaN</td>\n",
       "      <td>NaN</td>\n",
       "      <td>NaN</td>\n",
       "      <td>...</td>\n",
       "      <td>6.500274</td>\n",
       "      <td>6.40847</td>\n",
       "      <td>6.585479</td>\n",
       "      <td>6.552877</td>\n",
       "      <td>6.276438</td>\n",
       "      <td>6.125956</td>\n",
       "      <td>6.622314</td>\n",
       "      <td>6.230137</td>\n",
       "      <td>6.272877</td>\n",
       "      <td>6.428142</td>\n",
       "    </tr>\n",
       "    <tr>\n",
       "      <th>std</th>\n",
       "      <td>NaN</td>\n",
       "      <td>NaN</td>\n",
       "      <td>NaN</td>\n",
       "      <td>NaN</td>\n",
       "      <td>NaN</td>\n",
       "      <td>NaN</td>\n",
       "      <td>NaN</td>\n",
       "      <td>NaN</td>\n",
       "      <td>NaN</td>\n",
       "      <td>NaN</td>\n",
       "      <td>...</td>\n",
       "      <td>3.202527</td>\n",
       "      <td>3.42249</td>\n",
       "      <td>3.539205</td>\n",
       "      <td>3.124825</td>\n",
       "      <td>3.006722</td>\n",
       "      <td>2.795125</td>\n",
       "      <td>3.203921</td>\n",
       "      <td>3.537518</td>\n",
       "      <td>2.861550</td>\n",
       "      <td>3.341561</td>\n",
       "    </tr>\n",
       "  </tbody>\n",
       "</table>\n",
       "<p>2 rows × 261 columns</p>\n",
       "</div>"
      ],
      "text/plain": [
       "year  1756  1757  1758  1759  1760  1761  1762  1763  1764  1765  ...  \\\n",
       "mean   NaN   NaN   NaN   NaN   NaN   NaN   NaN   NaN   NaN   NaN  ...   \n",
       "std    NaN   NaN   NaN   NaN   NaN   NaN   NaN   NaN   NaN   NaN  ...   \n",
       "\n",
       "year      2007     2008      2009      2010      2011      2012      2013  \\\n",
       "mean  6.500274  6.40847  6.585479  6.552877  6.276438  6.125956  6.622314   \n",
       "std   3.202527  3.42249  3.539205  3.124825  3.006722  2.795125  3.203921   \n",
       "\n",
       "year      2014      2015      2016  \n",
       "mean  6.230137  6.272877  6.428142  \n",
       "std   3.537518  2.861550  3.341561  \n",
       "\n",
       "[2 rows x 261 columns]"
      ]
     },
     "execution_count": 36,
     "metadata": {},
     "output_type": "execute_result"
    }
   ],
   "source": [
    "day = temp.loc[1975:2016].groupby(['month','day'])['range'].mean().sort_values(ascending=False).first_valid_index()\n",
    "mean = temp.loc[1975:2016].groupby(['month','day'])['range'].mean().sort_values(ascending=False).iloc[0]\n",
    "std = temp.loc[1975:2016].groupby(['month','day'])['range'].std().loc[day]\n",
    "temp.unstack(0)['range'].describe().loc[['mean','std']]"
   ]
  },
  {
   "cell_type": "code",
   "execution_count": 37,
   "metadata": {},
   "outputs": [],
   "source": [
    "answer = 'gAAAAABb-VejPcCImkVPEn54-FNk6wtH2EKlr7rLqXIztJguv7VsI12GsXHwJ1KPwegSeYCUP7BdFoKMwNqw0o279UAhRtSH9uWOB95BA7ObtPCKD8rcJBIfDzCJi0cs84ugabsvJ3S0GbfXqrfPXc_fTJd-zy1a-Q=='\n"
   ]
  },
  {
   "cell_type": "code",
   "execution_count": 38,
   "metadata": {},
   "outputs": [
    {
     "name": "stdout",
     "output_type": "stream",
     "text": [
      "temp.unstack(0)['range'].describe().loc[['mean','std']]\n"
     ]
    }
   ],
   "source": [
    "decrypt(answer,'Skurup')"
   ]
  },
  {
   "cell_type": "markdown",
   "metadata": {},
   "source": [
    "**11.** Generate a DataFrame showing for each year the mean and the standard deviation of the temperature range, this time using the groupby and agg functions."
   ]
  },
  {
   "cell_type": "code",
   "execution_count": 39,
   "metadata": {},
   "outputs": [
    {
     "data": {
      "text/html": [
       "<div>\n",
       "<style scoped>\n",
       "    .dataframe tbody tr th:only-of-type {\n",
       "        vertical-align: middle;\n",
       "    }\n",
       "\n",
       "    .dataframe tbody tr th {\n",
       "        vertical-align: top;\n",
       "    }\n",
       "\n",
       "    .dataframe thead th {\n",
       "        text-align: right;\n",
       "    }\n",
       "</style>\n",
       "<table border=\"1\" class=\"dataframe\">\n",
       "  <thead>\n",
       "    <tr style=\"text-align: right;\">\n",
       "      <th>year</th>\n",
       "      <th>1756</th>\n",
       "      <th>1757</th>\n",
       "      <th>1758</th>\n",
       "      <th>1759</th>\n",
       "      <th>1760</th>\n",
       "      <th>1761</th>\n",
       "      <th>1762</th>\n",
       "      <th>1763</th>\n",
       "      <th>1764</th>\n",
       "      <th>1765</th>\n",
       "      <th>...</th>\n",
       "      <th>2007</th>\n",
       "      <th>2008</th>\n",
       "      <th>2009</th>\n",
       "      <th>2010</th>\n",
       "      <th>2011</th>\n",
       "      <th>2012</th>\n",
       "      <th>2013</th>\n",
       "      <th>2014</th>\n",
       "      <th>2015</th>\n",
       "      <th>2016</th>\n",
       "    </tr>\n",
       "  </thead>\n",
       "  <tbody>\n",
       "    <tr>\n",
       "      <th>mean</th>\n",
       "      <td>NaN</td>\n",
       "      <td>NaN</td>\n",
       "      <td>NaN</td>\n",
       "      <td>NaN</td>\n",
       "      <td>NaN</td>\n",
       "      <td>NaN</td>\n",
       "      <td>NaN</td>\n",
       "      <td>NaN</td>\n",
       "      <td>NaN</td>\n",
       "      <td>NaN</td>\n",
       "      <td>...</td>\n",
       "      <td>6.500274</td>\n",
       "      <td>6.40847</td>\n",
       "      <td>6.585479</td>\n",
       "      <td>6.552877</td>\n",
       "      <td>6.276438</td>\n",
       "      <td>6.125956</td>\n",
       "      <td>6.622314</td>\n",
       "      <td>6.230137</td>\n",
       "      <td>6.272877</td>\n",
       "      <td>6.428142</td>\n",
       "    </tr>\n",
       "    <tr>\n",
       "      <th>std</th>\n",
       "      <td>NaN</td>\n",
       "      <td>NaN</td>\n",
       "      <td>NaN</td>\n",
       "      <td>NaN</td>\n",
       "      <td>NaN</td>\n",
       "      <td>NaN</td>\n",
       "      <td>NaN</td>\n",
       "      <td>NaN</td>\n",
       "      <td>NaN</td>\n",
       "      <td>NaN</td>\n",
       "      <td>...</td>\n",
       "      <td>3.202527</td>\n",
       "      <td>3.42249</td>\n",
       "      <td>3.539205</td>\n",
       "      <td>3.124825</td>\n",
       "      <td>3.006722</td>\n",
       "      <td>2.795125</td>\n",
       "      <td>3.203921</td>\n",
       "      <td>3.537518</td>\n",
       "      <td>2.861550</td>\n",
       "      <td>3.341561</td>\n",
       "    </tr>\n",
       "  </tbody>\n",
       "</table>\n",
       "<p>2 rows × 261 columns</p>\n",
       "</div>"
      ],
      "text/plain": [
       "year  1756  1757  1758  1759  1760  1761  1762  1763  1764  1765  ...  \\\n",
       "mean   NaN   NaN   NaN   NaN   NaN   NaN   NaN   NaN   NaN   NaN  ...   \n",
       "std    NaN   NaN   NaN   NaN   NaN   NaN   NaN   NaN   NaN   NaN  ...   \n",
       "\n",
       "year      2007     2008      2009      2010      2011      2012      2013  \\\n",
       "mean  6.500274  6.40847  6.585479  6.552877  6.276438  6.125956  6.622314   \n",
       "std   3.202527  3.42249  3.539205  3.124825  3.006722  2.795125  3.203921   \n",
       "\n",
       "year      2014      2015      2016  \n",
       "mean  6.230137  6.272877  6.428142  \n",
       "std   3.537518  2.861550  3.341561  \n",
       "\n",
       "[2 rows x 261 columns]"
      ]
     },
     "execution_count": 39,
     "metadata": {},
     "output_type": "execute_result"
    }
   ],
   "source": [
    "temp.groupby('year').agg(['mean','std']).T.loc['range']"
   ]
  },
  {
   "cell_type": "code",
   "execution_count": 40,
   "metadata": {},
   "outputs": [],
   "source": [
    "answer = 'gAAAAABb-Vrx9aMme2au0VJSsSb6ke9Y1Myy-o-UHOCnC-TMvH3CVX4xbbH_5VDZRhrVUkdx6UWFJlRanpm1cA2h5IKJ0XuDqOicBxf4IebsJopeVnWrhOjg7lOU7WXe779v6yYwiTkk1G2wtfONekXaQdY4seYKkw=='\n"
   ]
  },
  {
   "cell_type": "code",
   "execution_count": 41,
   "metadata": {},
   "outputs": [
    {
     "name": "stdout",
     "output_type": "stream",
     "text": [
      "temp.groupby('year').agg(['mean','std']).T.loc['range']\n"
     ]
    }
   ],
   "source": [
    "decrypt(answer,'Tomelilla')"
   ]
  },
  {
   "cell_type": "markdown",
   "metadata": {},
   "source": [
    "**12.** Generate a DataFrame showing for each year the mean and the standard error of the mean ( std / sqrt(count) ) of the maximum temperature using the groupby and agg functions. Hint: define a lambda function to calculate the standard error of the mean (see PANDAS: 4. Group By). Start from the lines in the following cell."
   ]
  },
  {
   "cell_type": "code",
   "execution_count": 42,
   "metadata": {},
   "outputs": [
    {
     "data": {
      "text/html": [
       "<div>\n",
       "<style scoped>\n",
       "    .dataframe tbody tr th:only-of-type {\n",
       "        vertical-align: middle;\n",
       "    }\n",
       "\n",
       "    .dataframe tbody tr th {\n",
       "        vertical-align: top;\n",
       "    }\n",
       "\n",
       "    .dataframe thead th {\n",
       "        text-align: right;\n",
       "    }\n",
       "</style>\n",
       "<table border=\"1\" class=\"dataframe\">\n",
       "  <thead>\n",
       "    <tr style=\"text-align: right;\">\n",
       "      <th>year</th>\n",
       "      <th>1756</th>\n",
       "      <th>1757</th>\n",
       "      <th>1758</th>\n",
       "      <th>1759</th>\n",
       "      <th>1760</th>\n",
       "      <th>1761</th>\n",
       "      <th>1762</th>\n",
       "      <th>1763</th>\n",
       "      <th>1764</th>\n",
       "      <th>1765</th>\n",
       "      <th>...</th>\n",
       "      <th>2007</th>\n",
       "      <th>2008</th>\n",
       "      <th>2009</th>\n",
       "      <th>2010</th>\n",
       "      <th>2011</th>\n",
       "      <th>2012</th>\n",
       "      <th>2013</th>\n",
       "      <th>2014</th>\n",
       "      <th>2015</th>\n",
       "      <th>2016</th>\n",
       "    </tr>\n",
       "  </thead>\n",
       "  <tbody>\n",
       "    <tr>\n",
       "      <th>mean</th>\n",
       "      <td>NaN</td>\n",
       "      <td>NaN</td>\n",
       "      <td>NaN</td>\n",
       "      <td>NaN</td>\n",
       "      <td>NaN</td>\n",
       "      <td>NaN</td>\n",
       "      <td>NaN</td>\n",
       "      <td>NaN</td>\n",
       "      <td>NaN</td>\n",
       "      <td>NaN</td>\n",
       "      <td>...</td>\n",
       "      <td>6.500274</td>\n",
       "      <td>6.408470</td>\n",
       "      <td>6.585479</td>\n",
       "      <td>6.552877</td>\n",
       "      <td>6.276438</td>\n",
       "      <td>6.125956</td>\n",
       "      <td>6.622314</td>\n",
       "      <td>6.230137</td>\n",
       "      <td>6.272877</td>\n",
       "      <td>6.428142</td>\n",
       "    </tr>\n",
       "    <tr>\n",
       "      <th>ste</th>\n",
       "      <td>NaN</td>\n",
       "      <td>NaN</td>\n",
       "      <td>NaN</td>\n",
       "      <td>NaN</td>\n",
       "      <td>NaN</td>\n",
       "      <td>NaN</td>\n",
       "      <td>NaN</td>\n",
       "      <td>NaN</td>\n",
       "      <td>NaN</td>\n",
       "      <td>NaN</td>\n",
       "      <td>...</td>\n",
       "      <td>0.167628</td>\n",
       "      <td>0.178896</td>\n",
       "      <td>0.185250</td>\n",
       "      <td>0.163561</td>\n",
       "      <td>0.157379</td>\n",
       "      <td>0.146104</td>\n",
       "      <td>0.168162</td>\n",
       "      <td>0.185162</td>\n",
       "      <td>0.149780</td>\n",
       "      <td>0.174666</td>\n",
       "    </tr>\n",
       "  </tbody>\n",
       "</table>\n",
       "<p>2 rows × 261 columns</p>\n",
       "</div>"
      ],
      "text/plain": [
       "year  1756  1757  1758  1759  1760  1761  1762  1763  1764  1765  ...  \\\n",
       "mean   NaN   NaN   NaN   NaN   NaN   NaN   NaN   NaN   NaN   NaN  ...   \n",
       "ste    NaN   NaN   NaN   NaN   NaN   NaN   NaN   NaN   NaN   NaN  ...   \n",
       "\n",
       "year      2007      2008      2009      2010      2011      2012      2013  \\\n",
       "mean  6.500274  6.408470  6.585479  6.552877  6.276438  6.125956  6.622314   \n",
       "ste   0.167628  0.178896  0.185250  0.163561  0.157379  0.146104  0.168162   \n",
       "\n",
       "year      2014      2015      2016  \n",
       "mean  6.230137  6.272877  6.428142  \n",
       "ste   0.185162  0.149780  0.174666  \n",
       "\n",
       "[2 rows x 261 columns]"
      ]
     },
     "execution_count": 42,
     "metadata": {},
     "output_type": "execute_result"
    }
   ],
   "source": [
    "f_ste = lambda x : x.std() / np.sqrt( x.count() )\n",
    "f_ste.__name__ = 'ste'\n",
    "temp.groupby('year').agg(['mean',f_ste]).T.loc['range']"
   ]
  },
  {
   "cell_type": "code",
   "execution_count": 43,
   "metadata": {},
   "outputs": [],
   "source": [
    "answer = 'gAAAAABb-Vu2H_CsXgHGVjOWvZxvOCiiGwkzRhm0RpVH-sSBfEzZ7qNbgG1qk1EXLDoEajm25QewtAEDXTTv9PRtYVRtPQdtDZSv4A65q_Lag0txkzn6RLuhNm07VvkYM-h_ARBVVTzcC1jKw1tnWme6TwfCCnJyuiFzeWbB_dXBNI3wD8fdH3oW6AexdTpYul8z7hZn2k4S4irPiBig1wRvZLws2OyEz-AMEybtHrzpV_5DReiWzeNyut88Idxtsx-vjF-Cx2_d'\n"
   ]
  },
  {
   "cell_type": "code",
   "execution_count": 44,
   "metadata": {},
   "outputs": [
    {
     "name": "stdout",
     "output_type": "stream",
     "text": [
      "f_ste = lambda x : x.std() / np.sqrt( x.count() )\n",
      "f_ste.__name__ = 'ste'\n",
      "temp.groupby('year').agg(['mean',f_ste]).T.loc['range']\n"
     ]
    }
   ],
   "source": [
    "decrypt(answer,'Trelleborg')"
   ]
  },
  {
   "cell_type": "markdown",
   "metadata": {},
   "source": [
    "**13.** Plot the mean $T_{max}$ vs the year. Represent the standard error with shaded areas using the fill_between function of `pyplot`.\n",
    "\n",
    "<img src=\"figs/STHMtmax.png\" width=\"400\" align=\"left\"/>"
   ]
  },
  {
   "cell_type": "code",
   "execution_count": 45,
   "metadata": {},
   "outputs": [
    {
     "data": {
      "image/png": "[encoded data removed]",
      "text/plain": [
       "<Figure size 432x288 with 1 Axes>"
      ]
     },
     "metadata": {
      "needs_background": "light"
     },
     "output_type": "display_data"
    }
   ],
   "source": [
    "y = temp.groupby('year').agg(['mean',f_ste])['tmax','mean']\n",
    "plt.plot(y)\n",
    "yerr = temp.groupby('year').agg(['mean',f_ste])['tmax','ste']\n",
    "plt.fill_between(y.index, (y+yerr).values, (y-yerr).values, alpha=.5)\n",
    "plt.xlabel('Year',fontsize=12)\n",
    "plt.ylabel('$T_{max}$  (˚C)',fontsize=12)\n",
    "plt.tight_layout()\n",
    "plt.savefig('figs/STHMtmax.png',dpi=300)"
   ]
  },
  {
   "cell_type": "code",
   "execution_count": 46,
   "metadata": {},
   "outputs": [],
   "source": [
    "answer = 'gAAAAABb-V8mZfWYV3mvBHvpB82JXYGquYGGqjmMLZjSMs8gjVfyxVAgycWy9ucTprgVGsxE62uFK0NKhpFoz659U_OjEWjC-xokkZ1RKOyU_RBabrow8iBkn96JC2p6ugQvLxwYIBNR1YFFD3ywNIHqZYW5M8Yg_28nSulgO5nPNCLiUF8ALjzgb6F8kQkTuzWiY6QDtXItcnwfZEJjE9SeEmhNOIPucLIGw3u4w-BebhATrO54XoNOMixdI0lmr5ACbHJnXM8dRU9LqSkqUYQFJxGmQzX3uP-dKTVai_Fwn1h8j3fF_bUfiro1esFVmGZDLkdcI9yU-ih37hV3H07ux-nD0pJKpt8IiOTOuRqB8RBYTE87vE2yg11dxTLyLGhrT0P2eZlth2o7hXwRZCULEGf3C6YMMHHN--x4l8S8evDzX8ipZyQ3bdAhhhjnkHKWqJmhVt1Z_dCul7OxE0lIvrDDWEVJCnqCUw7WF58bQV5nTCwczIDhHYK3fbEeru9cEuFSdwGfYVA4WBjsD6sOYKUNyCOkbw=='\n"
   ]
  },
  {
   "cell_type": "code",
   "execution_count": 47,
   "metadata": {},
   "outputs": [
    {
     "name": "stdout",
     "output_type": "stream",
     "text": [
      "y = temp.groupby('year').agg(['mean',f_ste])['tmax','mean']\n",
      "yerr = temp.groupby('year').agg(['mean',f_ste])['tmax','ste']\n",
      "plt.plot(y)\n",
      "plt.fill_between(y.index, (y+yerr).values, (y-yerr).values, alpha=.5)\n",
      "plt.xlabel('Year',fontsize=12)\n",
      "plt.ylabel('$T_{max}$  (˚C)',fontsize=12)\n",
      "plt.tight_layout()\n",
      "plt.savefig('figs/STHMtmax.png',dpi=300)\n"
     ]
    }
   ],
   "source": [
    "decrypt(answer,'Perstorp')"
   ]
  },
  {
   "cell_type": "markdown",
   "metadata": {},
   "source": [
    "**14.** Plot the mean $T_{noon}$ vs the year (1777–2016) in a figure of width 3.5 inches and height 3.5 inches.   \n",
    "  - Change the following rcParams of `matplotlib`: axes.labelsize, axes.labelpad, xtick.labelsize, ytick.labelsize, font.size, xtick.major.size, and ytick.major.size.\n",
    "  - Create the figure and the axes objects explicitly (see [MATPLOTLIB: 1. Basic Plots](https://youtu.be/B0iTbVySNtc)).\n",
    "  - Add an inset using [inset_axes](https://matplotlib.org/gallery/axes_grid1/inset_locator_demo.html). Hint: complete the next cell.\n",
    "  \n",
    "<img src=\"figs/STHMtnoon.png\" width=\"400\" align=\"left\"/>"
   ]
  },
  {
   "cell_type": "code",
   "execution_count": 48,
   "metadata": {},
   "outputs": [
    {
     "data": {
      "image/png": "[encoded data removed]",
      "text/plain": [
       "<Figure size 252x252 with 1 Axes>"
      ]
     },
     "metadata": {
      "needs_background": "light"
     },
     "output_type": "display_data"
    }
   ],
   "source": [
    "from mpl_toolkits.axes_grid1.inset_locator import inset_axes\n",
    "\n",
    "plt.rcParams.update({'axes.labelsize': 12, 'axes.labelpad': 10,\n",
    "                    'xtick.labelsize': 10, 'ytick.labelsize': 10,\n",
    "                    'font.size': 10, 'xtick.major.size': 6, 'ytick.major.size': 6 })\n",
    "\n",
    "fig = plt.figure(figsize=(3.5,3.5))\n",
    "ax = plt.axes()\n",
    "ax.plot(temp.groupby('year').agg(['mean'])['noon','mean'])\n",
    "ax.set_xlabel('Year')\n",
    "ax.set_ylabel('$T_{noon} (\\degree C)$')\n",
    "#axins = inset_axes(ax, width='60%', height='30%', loc='upper left', borderpad=1.1)\n",
    "#axins.yaxis.set_label_position(\"right\")\n",
    "#axins.yaxis.set_ticks_position('right')\n",
    "ax.set_ylim(5,15)\n",
    "ax.set_xlim(1777,2016)\n",
    "plt.tight_layout()"
   ]
  },
  {
   "cell_type": "code",
   "execution_count": 49,
   "metadata": {},
   "outputs": [],
   "source": [
    "answer = 'gAAAAABb-WYQBWKz9SHf7kOA4GrrDovEWj06gm8Sy22dA80FtB1xiBUipdQjBKISP5R6nJqkxvge3ee0ZkPveehhZSGjWFnz9tjZDcd7x-7zkEiliN43M9z0EVo6Fz8gSIDHXbzUv4155DOTXNdP-Ib39_dkjv9qko7vpLzaypIg6gY4EKa2Ehq3ckL3lj6NehbeINvduVrFVMxsj-_ZutbxrcpWpcAel3lE7jKA-nFxb09U-VzkTCLDTHTwA5pOx2CVV1gPXrOzC1ZeKr-Y-9AvwnbR-ZHyNod-66pvECKNibC7hveb7vBo6JG06d1theIccwwDY8wxJRHPgnQlacAvI04BzUj4Fsx1n_jtkhgk_EVVyus5J0CJbONhSwJehZ81AvBNbiuEIYE_CpKN_Uwc6Hpm60uDcEyQNItMeiPc_-wWMrw1MiyUh7LjPOxFjkSP-5Yjf4HRML-PULzEdPZjtRGCvWMFfFuXopk2Rf3deo00Nd5qkYPH5_FPy1Fgd1kLF6C-tppvgy5YReBmMq25GJgvrdZGztK0J0yHwfxcYNCcb2vpT3kitz9YOKAMCPy2Jf4DW8UYxGxUrh4QYSUgf1Nyoxf5kT3Vd47YE1pFJpyITJ6odroAgcM5m_fnnqka2ZpwtQxNjF3aSNx-4OYvS5HxIHrHXpplGDeoVPW10rP3fgXRMGrFskE5WG_5q96QUp3i9KLc-Om1LeNuPH6DqebOvHDO-A=='\n"
   ]
  },
  {
   "cell_type": "code",
   "execution_count": 50,
   "metadata": {},
   "outputs": [
    {
     "name": "stdout",
     "output_type": "stream",
     "text": [
      "plt.rcParams.update({ 'axes.labelsize': 12, 'axes.labelpad': 10,\n",
      "                    'xtick.labelsize': 10, 'ytick.labelsize': 10,\n",
      "                    'font.size': 10, 'xtick.major.size': 6, 'ytick.major.size': 6 })\n",
      "\n",
      "fig = plt.figure(figsize=(3.5,3.5))\n",
      "ax = plt.axes()\n",
      "\n",
      "ax.plot(temp.groupby('year').agg(['mean'])['noon','mean'])\n",
      "\n",
      "ax.set_xlabel('Year')\n",
      "ax.set_ylabel('$T_{noon}$  (˚C)')\n",
      "\n",
      "ax.set_ylim(5,15)\n",
      "ax.set_xlim(1777,2016)\n",
      "\n",
      "plt.tight_layout()\n",
      "\n",
      "plt.savefig('figs/STHMtnoon.png',dpi=300)\n"
     ]
    }
   ],
   "source": [
    "decrypt(answer,'Lund')"
   ]
  },
  {
   "cell_type": "markdown",
   "metadata": {},
   "source": [
    "**15.** In the inset of the previous figure, plot the mean $T_{noon}$ vs the year in the range 1967–2016.\n",
    "\n",
    "<img src=\"figs/STHMtnooninset.png\" width=\"400\" align=\"left\"/>"
   ]
  },
  {
   "cell_type": "code",
   "execution_count": 51,
   "metadata": {},
   "outputs": [
    {
     "name": "stderr",
     "output_type": "stream",
     "text": [
      "<ipython-input-51-a50d49992a8a>:23: MatplotlibDeprecationWarning: Passing the fontdict parameter of _set_ticklabels() positionally is deprecated since Matplotlib 3.3; the parameter will become keyword-only two minor releases later.\n",
      "  axins.set_xticklabels([1970,1990,2010],{'fontsize':8},minor=True)\n",
      "<ipython-input-51-a50d49992a8a>:26: MatplotlibDeprecationWarning: Passing the fontdict parameter of _set_ticklabels() positionally is deprecated since Matplotlib 3.3; the parameter will become keyword-only two minor releases later.\n",
      "  axins.set_yticklabels([7,9,11],{'fontsize':8},minor=True)\n"
     ]
    },
    {
     "data": {
      "text/plain": [
       "(1777.0, 2016.0)"
      ]
     },
     "execution_count": 51,
     "metadata": {},
     "output_type": "execute_result"
    },
    {
     "data": {
      "image/png": "[encoded data removed]",
      "text/plain": [
       "<Figure size 252x252 with 2 Axes>"
      ]
     },
     "metadata": {
      "needs_background": "light"
     },
     "output_type": "display_data"
    }
   ],
   "source": [
    "from mpl_toolkits.axes_grid1.inset_locator import inset_axes\n",
    "\n",
    "plt.rcParams.update({'axes.labelsize': 12, 'axes.labelpad': 10,\n",
    "                    'xtick.labelsize': 10, 'ytick.labelsize': 10,\n",
    "                    'font.size': 10, 'xtick.major.size': 6, 'ytick.major.size': 6 })\n",
    "\n",
    "fig = plt.figure(figsize=(3.5,3.5))\n",
    "ax = plt.axes()\n",
    "ax.plot(temp.groupby('year').agg(['mean'])['noon','mean'])\n",
    "ax.set_xlabel('Year')\n",
    "ax.set_ylabel('$T_{noon} (\\degree C)$')\n",
    "\n",
    "axins = inset_axes(ax, width='60%', height='30%', loc='upper left', borderpad=1.1)\n",
    "axins.yaxis.set_label_position(\"right\")\n",
    "axins.yaxis.set_ticks_position('right')\n",
    "axins.plot(temp.loc[1967:2016].groupby('year').agg(['mean'])['noon','mean'])\n",
    "axins.set_xlim(1967,2016)\n",
    "axins.set_ylim(6.5,11.5)\n",
    "axins.set_xlabel('Year',fontsize=10,labelpad=2)\n",
    "axins.set_ylabel('$T_{noon}$  (˚C)',fontsize=10,labelpad=1)\n",
    "axins.set_xticks([])\n",
    "axins.set_xticks([1970,1990,2010],minor=True)\n",
    "axins.set_xticklabels([1970,1990,2010],{'fontsize':8},minor=True)\n",
    "axins.set_yticks([])\n",
    "axins.set_yticks([7,9,11],minor=True)\n",
    "axins.set_yticklabels([7,9,11],{'fontsize':8},minor=True)\n",
    "axins.yaxis.set_label_position(\"right\")\n",
    "axins.yaxis.set_ticks_position('right')\n",
    "\n",
    "ax.set_ylim(5,15)\n",
    "ax.set_xlim(1777,2016)\n",
    "#plt.tight_layout()"
   ]
  },
  {
   "cell_type": "code",
   "execution_count": 52,
   "metadata": {},
   "outputs": [],
   "source": [
    "answer = 'gAAAAABb-WnkjU9gZb_FrVIHro0sF5vHe-hl39f03ZTP1hcAeW0b-lt3i6GG6DyI2wY0zwbJlkW0dt7eNNVKqNpl5bTGGpLWG1jn8N6FrpIEnHYGmTU7F0irCCEDXzH7gpjE_88alyj9hISE55TB_sMBA-EjrLaO55eXus6BVw3tnSQQBXr4Tz0n8OJRJuamfTVGAG5YLcmXg53OrV__j-1Ae2JxgMt0Rnh9cF3elMerpWnEIA2doqsN7T4UuiPbDZeYV7J-xptAZGWBR-ecYP2q7BDNGBB0H1WfnygNjO1SazPAKrGnXftRGTzeKaFAf3rzDm72RnklH72LUh25sibosecVK50leSTaT2vjfnI6do0u2p3xes0iCMbuP_D10HZpKwDWGdHMpq5YZi52NHMWRYUeWnemHEj-0EgjrsR9zbXxpRM0bmk4h-LQZT6FF4OvL19rflL2jO2sJeKc46Ze8pw2jl5HT2RL82Du8onftKgCVzfT_LBq7YSHAmPs-2QJ2qIW7ixkKZTtLTR4Y4ihcCY-K7NMUFnTw1MeZC_7y5ii_haKFl9QW2tBsTbP7uln6G77ot9TwSwJnNPvxIwfeUMXC1mEd-K4vaeVd5Q4A61yMwTUad3Tx5A1si9mxaCZe_WheaXdXQbA1Z1Y_m-E9Je-XY4THAI2nRU5NConOfLU02Mg9B_JFzE2dpfjiG2Zfo4C1T9qvfPnG6nztTS-5TAF4HGMdCk-0DBmj7OS7UimFopbpn6_fYpRnqcla0wEWm-gI021AHsGwnSf_KtJZ6-9kIjJeL9k97WWAeQnoSZczXyzzDqo-DesNkjNz7Ko22FLKfCbokVgxjMpm4RseMp7a8CedwnFNxup8it6S9jpLXeZhkRIbh3M56GwEjR6eY378IU7lDEnyxhSMr38n6wRuRQ1jtFcqYof7Cl4PisvTK_Ub-FPpUBC_733FP4yHXCSYChhM7H0p37jtC5IyL2MH1j3GRJbLbAyU-__GuR5AOo5yIqn0WFICfDyyFOROaVgfYloddc7qiVnpMQuHkp_QknDYeMnAtLEM5edVQjegIFKZVFNks1bKbHb5G5L5zshMd33IgeB0SAw2fslkdCrxz9db73BOxl1hneaYDRcI4_rs2FVjl0lBZoQMWeJ1JsGe1E95I3HaQsoz2Cg8aqoIW0r4AVA5Je7D8LjOHSVLp1LGbMetBUHAWbrYaEDGD0Yo_2-rYtvC_LTEDaC0uMSptMgRS2nMchGk3dnHTLykgvIXNqZUO-LsqN9IXknVPvEHX5-6_s1fLpUjYNDzamADjC9-I3h84v77KZXPsuuxovBDUHHGISHJRA74aS1kV0QWR_zfQ3klzYmaFrhMYDv8SDvbjFUK1Ygp-HoP2efOF7-mBQnYHXIc_o1_OgNibTIwbQLOmXYwgpTyWUHGsSLhliMgRD1B_Fv4INMzMfcqJiNUjy3qD3PbrcOSXt6qsOt_AmkMu7dfSWvfUTlv2ppAQ6nTb-VXR_Imy0Lb9NnyZKvGvCf4RB4id_aXHGbBHJontZA6tqdkV4DOUVB0b6eCJuE2y2I6wKExf-jsy1ZhnwZofpUTbGyGGI2TYEOYOhjXsHvY_uvh7PEPUJXBVWJY-qAWFoidO1Ep0YQ_nAwdnC7wXKJ-1avd909jSIWjbS_yheB1cxnmLKL3Rf4hVpnv99SI2R3qaR2y9f6Hi3QbTzVohk='\n"
   ]
  },
  {
   "cell_type": "code",
   "execution_count": 53,
   "metadata": {},
   "outputs": [
    {
     "name": "stdout",
     "output_type": "stream",
     "text": [
      "plt.rcParams.update({ 'axes.labelsize': 12, 'axes.labelpad': 10,\n",
      "                    'xtick.labelsize': 10, 'ytick.labelsize': 10,\n",
      "                    'font.size': 10, 'xtick.major.size': 6, 'ytick.major.size': 6,\n",
      "                    'xtick.minor.size': 4, 'ytick.minor.size': 4 })\n",
      "\n",
      "fig = plt.figure(figsize=(3.5,3.5))\n",
      "ax = plt.axes()\n",
      "\n",
      "ax.plot(temp.groupby('year').agg(['mean'])['noon','mean'])\n",
      "\n",
      "ax.set_xlabel('Year')\n",
      "ax.set_ylabel('$T_{noon}$  (˚C)')\n",
      "\n",
      "ax.set_ylim(5,15)\n",
      "ax.set_xlim(1777,2016)\n",
      "\n",
      "axins = inset_axes(ax, width='60%', height='30%', loc='upper left', borderpad=1.1)\n",
      "\n",
      "axins.plot(temp.loc[1967:2016].groupby('year').agg(['mean'])['noon','mean'])\n",
      "\n",
      "axins.set_xlim(1967,2016)\n",
      "axins.set_ylim(6.5,11.5)\n",
      "\n",
      "axins.set_xlabel('Year',fontsize=10,labelpad=2)\n",
      "axins.set_ylabel('$T_{noon}$  (˚C)',fontsize=10,labelpad=1)\n",
      "\n",
      "axins.set_xticks([])\n",
      "axins.set_xticks([1970,1990,2010],minor=True)\n",
      "axins.set_xticklabels([1970,1990,2010],{'fontsize':8},minor=True)\n",
      "\n",
      "axins.set_yticks([])\n",
      "axins.set_yticks([7,9,11],minor=True)\n",
      "axins.set_yticklabels([7,9,11],{'fontsize':8},minor=True)\n",
      "\n",
      "axins.yaxis.set_label_position(\"right\")\n",
      "axins.yaxis.set_ticks_position('right')\n",
      "\n",
      "plt.tight_layout()\n",
      "\n",
      "plt.savefig('figs/STHMtnooninset.png',dpi=300)\n"
     ]
    }
   ],
   "source": [
    "decrypt(answer,'Landskrona')"
   ]
  },
  {
   "cell_type": "markdown",
   "metadata": {},
   "source": [
    "**16.** Create a plot showing the distribution of $T_{max}$ in the decade 1977–1986. Normalize the distribution so that the area under the histogram is one. Use a bin width of 2˚C. Hint: use the hist function of `pyplot` (see [MATPLOTLIB: 2. Advanced Plots](https://youtu.be/Xyobv9kGQxU)).\n",
    "\n",
    "<img src=\"figs/STHMhist7786.png\" width=\"400\" align=\"left\"/>"
   ]
  },
  {
   "cell_type": "code",
   "execution_count": 54,
   "metadata": {},
   "outputs": [
    {
     "data": {
      "text/plain": [
       "Text(0.5, 1.0, '1977-1986')"
      ]
     },
     "execution_count": 54,
     "metadata": {},
     "output_type": "execute_result"
    },
    {
     "data": {
      "image/png": "[encoded data removed]",
      "text/plain": [
       "<Figure size 432x288 with 1 Axes>"
      ]
     },
     "metadata": {
      "needs_background": "light"
     },
     "output_type": "display_data"
    }
   ],
   "source": [
    "plt.hist(temp.loc[1977:1986]['tmax'], bins=np.arange(-30,40,2), edgecolor='k',density=True)\n",
    "plt.xlabel('$T_{max}$  (˚C)')\n",
    "plt.ylabel('P(T)')\n",
    "plt.title('1977-1986')"
   ]
  },
  {
   "cell_type": "code",
   "execution_count": 55,
   "metadata": {},
   "outputs": [],
   "source": [
    "answer = 'gAAAAABb-XA0uh-1o8EV_CE1IJ9F6VR_ZuCabfgxGS9E2J1-z5f-TUmPRDCO_FY7Tfx25h-a6ic1VNysho4UM-4xucS0bYIS7ER0sY4_a1d1WzyMbHfX964K1_LkwsvD_pJhlZgtDKvf-Ju1nUjPrGYShP9KuczsPJxBwWH0-DsiQ6LFnUCI4KH3fE_Z6DixwLpWUdupT5QimrWG3lqTtBYzeekZ1JvXeBiwLmu2qRYW_Um8zrC1A1Qp79XWXYctoMTnP9DodA9Oy4-_D5ktJfCuitxGMROufV3Jtq1jYUppU7xLzpIlKPrXBvS8Gu-FfrOzlJSP4RdCC_QMbBPAo2RWkrtvTYfebaHosT9rGd86hLypwkJXsHViGzsrKFaDzVnNClkFTWtFioGG2uVHoEIHkEPeZ8EdtQvz01qWGm-x3OEyNw61xoniwwHuLL2SDZRbWwT4hZ4D'\n"
   ]
  },
  {
   "cell_type": "code",
   "execution_count": 56,
   "metadata": {},
   "outputs": [
    {
     "name": "stdout",
     "output_type": "stream",
     "text": [
      "plt.hist(temp.loc[1977:1986]['tmax'],bins=np.arange(-30,40,2),edgecolor='k',density=True)\n",
      "plt.title('1977–1986')\n",
      "plt.xlabel('$T_{max}$  (˚C)',fontsize=12)\n",
      "plt.ylabel('$P(T)$',fontsize=12)\n",
      "ax.set_xlim(-20,40)\n",
      "plt.tight_layout()\n",
      "plt.savefig('figs/STHMhist7786.png',dpi=300)\n"
     ]
    }
   ],
   "source": [
    "decrypt(answer,'Svedala')"
   ]
  },
  {
   "cell_type": "markdown",
   "metadata": {},
   "source": [
    "**17.** Create a 2x2 composite plot showing the distribution of $T_{max}$ in the decades 1977–1986, 1987–1996, 1997–2006, and 2007–2016. Hint: complete the next cell.\n",
    "\n",
    "<img src=\"figs/STHMhist.png\" width=\"400\" align=\"left\"/>"
   ]
  },
  {
   "cell_type": "code",
   "execution_count": 57,
   "metadata": {},
   "outputs": [
    {
     "name": "stdout",
     "output_type": "stream",
     "text": [
      "(2, 2)\n"
     ]
    },
    {
     "data": {
      "image/png": "[encoded data removed]",
      "text/plain": [
       "<Figure size 518.4x360 with 4 Axes>"
      ]
     },
     "metadata": {
      "needs_background": "light"
     },
     "output_type": "display_data"
    }
   ],
   "source": [
    "fig, axes = plt.subplots(2, 2, sharex=True, sharey=True, figsize=(7.2,5))\n",
    "\n",
    "print(axes.shape)\n",
    "\n",
    "(ax1, ax2), (ax3, ax4) = axes\n",
    "\n",
    "years = [1977,1987,1997,2007]\n",
    "\n",
    "for y,ax in zip(years,axes.flatten()):\n",
    "    ax.set_title(str(y)+'–'+str(y+9))\n",
    "    ax.set_ylabel('$P(T)$',fontsize=12)\n",
    "    ax.set_xlim(-20,40)\n",
    "    \n",
    "ax1.hist(temp.loc[1977:1986]['tmax'],bins=np.arange(-30,40,2),edgecolor='k',density=True)\n",
    "ax2.hist(temp.loc[1987:1996]['tmax'],bins=np.arange(-30,40,2),edgecolor='k',density=True)\n",
    "ax3.hist(temp.loc[1997:2006]['tmax'],bins=np.arange(-30,40,2),edgecolor='k',density=True)\n",
    "ax4.hist(temp.loc[2007:2016]['tmax'],bins=np.arange(-30,40,2),edgecolor='k',density=True)\n",
    "\n",
    "ax2.yaxis.set_label_position(\"right\")\n",
    "ax2.yaxis.set_ticks_position('right')\n",
    "\n",
    "ax3.set_xlabel('$T_{max}$  (˚C)',fontsize=12)\n",
    "ax4.set_xlabel('$T_{max}$  (˚C)',fontsize=12)\n",
    "\n",
    "ax2.yaxis.set_label_position(\"right\")\n",
    "ax2.yaxis.set_ticks_position('right')\n",
    "ax4.yaxis.set_label_position(\"right\")\n",
    "ax4.yaxis.set_ticks_position('right')\n",
    "\n",
    "plt.tight_layout()"
   ]
  },
  {
   "cell_type": "code",
   "execution_count": 58,
   "metadata": {},
   "outputs": [],
   "source": [
    "answer = 'gAAAAABb--qcXzfhdudFnVeuE__ln3EINyHp_qHDiZmWxr5osLQofMe-SDJSL7i2emvE4yYicBr5qUhmRup5MiKT-YUkK0NACEF8r2HY595jHzfpn5lWiZsIzG1NDqIGtdxjmT3ahz9YUzhXURIjjG9PsjOu0LSbral3sdc3pk8Ubgl0GXAbe5FMYrBFPTVGDDz27kyHUxFYZGAMXySto4ZTfesKLCw2iCPzsPPmYZUPLgB0Lch4bj0S6jBP_8_lgqx7Vv_RR8HTliRisnPbMdE3I75R0ktYR8FYxHgTJbd1MFMos31FYYVtokJ_5uH3Sz0sq9ZSEpOeZhqFYqJCeyfRoD8rT99w3X1jqgA9EfC9g3PCixwbwJhJ7-tcViscaoEGTfq2bYRomaD4iDj_QxqqzLsrKBeYRp7VIpHK-L7IdEnPOnQMhk5iP1MTQrAMLBExiQ-ys1CQ2EGIKZ5PTQYqo6kxS06-Z15Vtm3UhmVm7ZCy4B2O5zywObFDoimbMRgHYAWITTu2K3tu8KdBNCByDFs980sf5Uk4lreAPZ6aC1Ax4VxLNdvLpbLFLM612JruFggQ3CvLhaRnLJhjHGnnGYU5xMpSO35Gjx7Z17uKLqHcYP9BnsLtZcvugndraYnWLwN2u1TYPjJu6jt1I-1B_kedSBML7cl-cdgz6oZXPcGHikLJqQaOfwqQN1HKmJnHFOFusxzIfqK5L8f6C_NWldZfrCjzvezbP_vUmnX29zhBj_ADPKBK8eOWWrCJHpjrjCaiUz2S5rHmahjGAS9zwcoQeOVdAqpVYLwCrBlVQ1JbCGDI-kKhBb7T3Gi7uRX-df5u7wsBGPqhzzXLgNszJcgTj1nCgfSKIJp95xf2FvDRuoNgKpHR2i7nqnIqPJJg9ia8dsd_8fzUo12_57Goagz91ZeUGMguO1Rh66m1PXG5y0kvW9FhSw8oZiT7WOK3x5kXX_6-Qbfnlf_65jXv0Oja86w6omysxN0CtGHpvjto5WXtjkA='\n"
   ]
  },
  {
   "cell_type": "code",
   "execution_count": 59,
   "metadata": {},
   "outputs": [
    {
     "name": "stdout",
     "output_type": "stream",
     "text": [
      "fig, axes = plt.subplots(2, 2, sharex=True, sharey=True, figsize=(7.2,5))\n",
      "\n",
      "print(axes.shape)\n",
      "\n",
      "(ax1, ax2), (ax3, ax4) = axes\n",
      "\n",
      "years = [1977,1987,1997,2007]\n",
      "\n",
      "for y,ax in zip(years,axes.flatten()):\n",
      "    ax.hist(temp.loc[y:y+9]['tmax'],bins=np.arange(-30,40,2),edgecolor='k',density=True)\n",
      "    ax.set_title(str(y)+'–'+str(y+9))\n",
      "    ax.set_ylabel('$P(T)$',fontsize=12)\n",
      "    ax.set_xlim(-20,40)\n",
      " \n",
      "ax3.set_xlabel('$T_{max}$  (˚C)',fontsize=12)\n",
      "ax4.set_xlabel('$T_{max}$  (˚C)',fontsize=12)\n",
      "\n",
      "ax2.yaxis.set_label_position(\"right\")\n",
      "ax2.yaxis.set_ticks_position('right')\n",
      "ax4.yaxis.set_label_position(\"right\")\n",
      "ax4.yaxis.set_ticks_position('right')\n",
      "\n",
      "plt.tight_layout()\n",
      "plt.savefig('figs/STHMhist.png',dpi=300)\n"
     ]
    }
   ],
   "source": [
    "decrypt(answer,'Skurup')"
   ]
  },
  {
   "cell_type": "markdown",
   "metadata": {},
   "source": [
    "**18.** Manipulate the DataFrame to obtain a 2D table showing the maximum monthly temperature range for each month and the years between 2000 and 2016. Hint: use reset_index + pivot table (see [PANDAS: 3. Pivot Table](https://youtu.be/ODFpGo7UomA))."
   ]
  },
  {
   "cell_type": "code",
   "execution_count": 60,
   "metadata": {},
   "outputs": [
    {
     "data": {
      "text/html": [
       "<div>\n",
       "<style scoped>\n",
       "    .dataframe tbody tr th:only-of-type {\n",
       "        vertical-align: middle;\n",
       "    }\n",
       "\n",
       "    .dataframe tbody tr th {\n",
       "        vertical-align: top;\n",
       "    }\n",
       "\n",
       "    .dataframe thead th {\n",
       "        text-align: right;\n",
       "    }\n",
       "</style>\n",
       "<table border=\"1\" class=\"dataframe\">\n",
       "  <thead>\n",
       "    <tr style=\"text-align: right;\">\n",
       "      <th>year</th>\n",
       "      <th>2000</th>\n",
       "      <th>2001</th>\n",
       "      <th>2002</th>\n",
       "      <th>2003</th>\n",
       "      <th>2004</th>\n",
       "      <th>2005</th>\n",
       "      <th>2006</th>\n",
       "      <th>2007</th>\n",
       "      <th>2008</th>\n",
       "      <th>2009</th>\n",
       "      <th>2010</th>\n",
       "      <th>2011</th>\n",
       "      <th>2012</th>\n",
       "      <th>2013</th>\n",
       "      <th>2014</th>\n",
       "      <th>2015</th>\n",
       "      <th>2016</th>\n",
       "    </tr>\n",
       "    <tr>\n",
       "      <th>month</th>\n",
       "      <th></th>\n",
       "      <th></th>\n",
       "      <th></th>\n",
       "      <th></th>\n",
       "      <th></th>\n",
       "      <th></th>\n",
       "      <th></th>\n",
       "      <th></th>\n",
       "      <th></th>\n",
       "      <th></th>\n",
       "      <th></th>\n",
       "      <th></th>\n",
       "      <th></th>\n",
       "      <th></th>\n",
       "      <th></th>\n",
       "      <th></th>\n",
       "      <th></th>\n",
       "    </tr>\n",
       "  </thead>\n",
       "  <tbody>\n",
       "    <tr>\n",
       "      <th>1</th>\n",
       "      <td>10.0</td>\n",
       "      <td>5.4</td>\n",
       "      <td>11.5</td>\n",
       "      <td>14.6</td>\n",
       "      <td>9.6</td>\n",
       "      <td>7.5</td>\n",
       "      <td>7.3</td>\n",
       "      <td>8.9</td>\n",
       "      <td>8.9</td>\n",
       "      <td>11.1</td>\n",
       "      <td>11.4</td>\n",
       "      <td>8.3</td>\n",
       "      <td>7.4</td>\n",
       "      <td>11.9</td>\n",
       "      <td>7.7</td>\n",
       "      <td>10.0</td>\n",
       "      <td>10.7</td>\n",
       "    </tr>\n",
       "    <tr>\n",
       "      <th>2</th>\n",
       "      <td>6.9</td>\n",
       "      <td>10.3</td>\n",
       "      <td>7.6</td>\n",
       "      <td>8.7</td>\n",
       "      <td>8.8</td>\n",
       "      <td>7.7</td>\n",
       "      <td>11.0</td>\n",
       "      <td>8.8</td>\n",
       "      <td>7.6</td>\n",
       "      <td>7.5</td>\n",
       "      <td>10.1</td>\n",
       "      <td>8.7</td>\n",
       "      <td>10.0</td>\n",
       "      <td>10.6</td>\n",
       "      <td>4.9</td>\n",
       "      <td>7.4</td>\n",
       "      <td>7.5</td>\n",
       "    </tr>\n",
       "    <tr>\n",
       "      <th>3</th>\n",
       "      <td>11.9</td>\n",
       "      <td>13.6</td>\n",
       "      <td>11.5</td>\n",
       "      <td>11.5</td>\n",
       "      <td>10.1</td>\n",
       "      <td>11.1</td>\n",
       "      <td>11.7</td>\n",
       "      <td>13.5</td>\n",
       "      <td>8.6</td>\n",
       "      <td>9.4</td>\n",
       "      <td>9.9</td>\n",
       "      <td>10.1</td>\n",
       "      <td>10.4</td>\n",
       "      <td>10.3</td>\n",
       "      <td>14.2</td>\n",
       "      <td>10.2</td>\n",
       "      <td>9.6</td>\n",
       "    </tr>\n",
       "    <tr>\n",
       "      <th>4</th>\n",
       "      <td>14.9</td>\n",
       "      <td>10.7</td>\n",
       "      <td>13.3</td>\n",
       "      <td>14.0</td>\n",
       "      <td>13.5</td>\n",
       "      <td>12.4</td>\n",
       "      <td>12.8</td>\n",
       "      <td>14.6</td>\n",
       "      <td>14.7</td>\n",
       "      <td>14.0</td>\n",
       "      <td>12.9</td>\n",
       "      <td>13.7</td>\n",
       "      <td>13.7</td>\n",
       "      <td>12.0</td>\n",
       "      <td>15.7</td>\n",
       "      <td>12.3</td>\n",
       "      <td>12.2</td>\n",
       "    </tr>\n",
       "    <tr>\n",
       "      <th>5</th>\n",
       "      <td>16.4</td>\n",
       "      <td>13.9</td>\n",
       "      <td>15.4</td>\n",
       "      <td>14.8</td>\n",
       "      <td>16.5</td>\n",
       "      <td>11.5</td>\n",
       "      <td>15.5</td>\n",
       "      <td>14.8</td>\n",
       "      <td>15.5</td>\n",
       "      <td>15.3</td>\n",
       "      <td>13.6</td>\n",
       "      <td>16.7</td>\n",
       "      <td>15.7</td>\n",
       "      <td>13.3</td>\n",
       "      <td>13.5</td>\n",
       "      <td>13.2</td>\n",
       "      <td>15.5</td>\n",
       "    </tr>\n",
       "    <tr>\n",
       "      <th>6</th>\n",
       "      <td>13.0</td>\n",
       "      <td>15.1</td>\n",
       "      <td>13.9</td>\n",
       "      <td>15.4</td>\n",
       "      <td>14.5</td>\n",
       "      <td>13.8</td>\n",
       "      <td>18.3</td>\n",
       "      <td>16.3</td>\n",
       "      <td>17.2</td>\n",
       "      <td>16.3</td>\n",
       "      <td>16.7</td>\n",
       "      <td>14.9</td>\n",
       "      <td>10.7</td>\n",
       "      <td>14.0</td>\n",
       "      <td>15.8</td>\n",
       "      <td>14.2</td>\n",
       "      <td>15.3</td>\n",
       "    </tr>\n",
       "    <tr>\n",
       "      <th>7</th>\n",
       "      <td>13.0</td>\n",
       "      <td>16.1</td>\n",
       "      <td>13.0</td>\n",
       "      <td>13.8</td>\n",
       "      <td>10.6</td>\n",
       "      <td>12.9</td>\n",
       "      <td>16.4</td>\n",
       "      <td>11.6</td>\n",
       "      <td>14.7</td>\n",
       "      <td>13.2</td>\n",
       "      <td>13.0</td>\n",
       "      <td>13.2</td>\n",
       "      <td>11.4</td>\n",
       "      <td>14.8</td>\n",
       "      <td>13.6</td>\n",
       "      <td>13.3</td>\n",
       "      <td>13.5</td>\n",
       "    </tr>\n",
       "    <tr>\n",
       "      <th>8</th>\n",
       "      <td>11.5</td>\n",
       "      <td>10.0</td>\n",
       "      <td>12.8</td>\n",
       "      <td>10.7</td>\n",
       "      <td>11.8</td>\n",
       "      <td>10.5</td>\n",
       "      <td>13.9</td>\n",
       "      <td>11.7</td>\n",
       "      <td>11.5</td>\n",
       "      <td>13.2</td>\n",
       "      <td>10.8</td>\n",
       "      <td>12.0</td>\n",
       "      <td>11.4</td>\n",
       "      <td>12.8</td>\n",
       "      <td>10.4</td>\n",
       "      <td>12.1</td>\n",
       "      <td>10.5</td>\n",
       "    </tr>\n",
       "    <tr>\n",
       "      <th>9</th>\n",
       "      <td>10.4</td>\n",
       "      <td>8.7</td>\n",
       "      <td>11.4</td>\n",
       "      <td>11.4</td>\n",
       "      <td>10.5</td>\n",
       "      <td>10.5</td>\n",
       "      <td>11.0</td>\n",
       "      <td>11.5</td>\n",
       "      <td>9.1</td>\n",
       "      <td>11.6</td>\n",
       "      <td>9.5</td>\n",
       "      <td>15.0</td>\n",
       "      <td>9.0</td>\n",
       "      <td>11.6</td>\n",
       "      <td>11.0</td>\n",
       "      <td>10.3</td>\n",
       "      <td>11.0</td>\n",
       "    </tr>\n",
       "    <tr>\n",
       "      <th>10</th>\n",
       "      <td>7.5</td>\n",
       "      <td>7.6</td>\n",
       "      <td>8.0</td>\n",
       "      <td>8.7</td>\n",
       "      <td>8.3</td>\n",
       "      <td>9.6</td>\n",
       "      <td>10.1</td>\n",
       "      <td>7.8</td>\n",
       "      <td>9.6</td>\n",
       "      <td>8.2</td>\n",
       "      <td>8.2</td>\n",
       "      <td>8.4</td>\n",
       "      <td>8.2</td>\n",
       "      <td>8.7</td>\n",
       "      <td>8.7</td>\n",
       "      <td>9.8</td>\n",
       "      <td>8.3</td>\n",
       "    </tr>\n",
       "    <tr>\n",
       "      <th>11</th>\n",
       "      <td>6.4</td>\n",
       "      <td>10.2</td>\n",
       "      <td>6.5</td>\n",
       "      <td>6.4</td>\n",
       "      <td>8.6</td>\n",
       "      <td>9.4</td>\n",
       "      <td>7.9</td>\n",
       "      <td>8.8</td>\n",
       "      <td>8.4</td>\n",
       "      <td>6.6</td>\n",
       "      <td>6.4</td>\n",
       "      <td>7.5</td>\n",
       "      <td>6.7</td>\n",
       "      <td>8.6</td>\n",
       "      <td>7.5</td>\n",
       "      <td>7.5</td>\n",
       "      <td>7.3</td>\n",
       "    </tr>\n",
       "    <tr>\n",
       "      <th>12</th>\n",
       "      <td>5.1</td>\n",
       "      <td>14.0</td>\n",
       "      <td>8.3</td>\n",
       "      <td>11.4</td>\n",
       "      <td>7.7</td>\n",
       "      <td>7.3</td>\n",
       "      <td>7.8</td>\n",
       "      <td>7.1</td>\n",
       "      <td>6.6</td>\n",
       "      <td>10.3</td>\n",
       "      <td>11.1</td>\n",
       "      <td>7.3</td>\n",
       "      <td>11.5</td>\n",
       "      <td>8.5</td>\n",
       "      <td>7.5</td>\n",
       "      <td>8.2</td>\n",
       "      <td>7.6</td>\n",
       "    </tr>\n",
       "  </tbody>\n",
       "</table>\n",
       "</div>"
      ],
      "text/plain": [
       "year   2000  2001  2002  2003  2004  2005  2006  2007  2008  2009  2010  2011  \\\n",
       "month                                                                           \n",
       "1      10.0   5.4  11.5  14.6   9.6   7.5   7.3   8.9   8.9  11.1  11.4   8.3   \n",
       "2       6.9  10.3   7.6   8.7   8.8   7.7  11.0   8.8   7.6   7.5  10.1   8.7   \n",
       "3      11.9  13.6  11.5  11.5  10.1  11.1  11.7  13.5   8.6   9.4   9.9  10.1   \n",
       "4      14.9  10.7  13.3  14.0  13.5  12.4  12.8  14.6  14.7  14.0  12.9  13.7   \n",
       "5      16.4  13.9  15.4  14.8  16.5  11.5  15.5  14.8  15.5  15.3  13.6  16.7   \n",
       "6      13.0  15.1  13.9  15.4  14.5  13.8  18.3  16.3  17.2  16.3  16.7  14.9   \n",
       "7      13.0  16.1  13.0  13.8  10.6  12.9  16.4  11.6  14.7  13.2  13.0  13.2   \n",
       "8      11.5  10.0  12.8  10.7  11.8  10.5  13.9  11.7  11.5  13.2  10.8  12.0   \n",
       "9      10.4   8.7  11.4  11.4  10.5  10.5  11.0  11.5   9.1  11.6   9.5  15.0   \n",
       "10      7.5   7.6   8.0   8.7   8.3   9.6  10.1   7.8   9.6   8.2   8.2   8.4   \n",
       "11      6.4  10.2   6.5   6.4   8.6   9.4   7.9   8.8   8.4   6.6   6.4   7.5   \n",
       "12      5.1  14.0   8.3  11.4   7.7   7.3   7.8   7.1   6.6  10.3  11.1   7.3   \n",
       "\n",
       "year   2012  2013  2014  2015  2016  \n",
       "month                                \n",
       "1       7.4  11.9   7.7  10.0  10.7  \n",
       "2      10.0  10.6   4.9   7.4   7.5  \n",
       "3      10.4  10.3  14.2  10.2   9.6  \n",
       "4      13.7  12.0  15.7  12.3  12.2  \n",
       "5      15.7  13.3  13.5  13.2  15.5  \n",
       "6      10.7  14.0  15.8  14.2  15.3  \n",
       "7      11.4  14.8  13.6  13.3  13.5  \n",
       "8      11.4  12.8  10.4  12.1  10.5  \n",
       "9       9.0  11.6  11.0  10.3  11.0  \n",
       "10      8.2   8.7   8.7   9.8   8.3  \n",
       "11      6.7   8.6   7.5   7.5   7.3  \n",
       "12     11.5   8.5   7.5   8.2   7.6  "
      ]
     },
     "execution_count": 60,
     "metadata": {},
     "output_type": "execute_result"
    }
   ],
   "source": [
    "temp.loc[2000:2016].reset_index().pivot_table(values='range', index='month', columns='year',aggfunc='max')"
   ]
  },
  {
   "cell_type": "code",
   "execution_count": 61,
   "metadata": {},
   "outputs": [],
   "source": [
    "answer = 'gAAAAABb-X5fuIToXRFd3etFZsivoSO7dvAkxNdVAKvjEiTgELJmKLSpPU4ndFdjnWx69BIEDlS4TO2gxySzChaDFTjvsMIIGq8nFsICvDZX9wDL8Ze14-cZIwk08rkUngXDwyXdg_cOW_3kJtUGp5nPyX1NIZ3P32eLcSGkEFFsKdmIv9oSSDTmBnG9yHCeLWdH4xKWHRQbamDNQQaG3ZQen2o9iQY8Xw=='\n"
   ]
  },
  {
   "cell_type": "code",
   "execution_count": 62,
   "metadata": {},
   "outputs": [
    {
     "name": "stdout",
     "output_type": "stream",
     "text": [
      "temp.loc[2000:2016].reset_index().pivot_table(values='range', index='month', columns='year',aggfunc='max')\n"
     ]
    }
   ],
   "source": [
    "decrypt(answer,'Ystad')"
   ]
  },
  {
   "cell_type": "markdown",
   "metadata": {},
   "source": [
    "**19.** Use the [violinplot](https://seaborn.pydata.org/generated/seaborn.violinplot.html) function of `seaborn` to plot the distribution of $T_{max}$ for the decades 1977–1986, 1987–1996, 1997–2006, and 2007–2016. \n",
    "  - Reorganize the DataFrame so that each variable is in a column and each observation in a row (see [MATPLOTLIB: 3. Categorical Data](https://youtu.be/c0Bd8iWmHGw)), _e.g._,\n",
    "  ```python\n",
    "    temp_dec = temp.loc[1977:2016].??.copy()\n",
    "    ```\n",
    "  - Use the map function of the Series to rename the years of the four decades as '1977–1986', '1987–1996', '1997–2006', and '2007–2016', _e.g._,\n",
    "  ```python\n",
    "    temp_dec['year'] = temp_dec['year'].map(lambda x: ?? if x in ?? else ?? if x in ?? else ?? )\n",
    "    ```\n",
    "\n",
    "<img src=\"figs/STHMviolin.png\" width=\"400\" align=\"left\"/>"
   ]
  },
  {
   "cell_type": "code",
   "execution_count": 63,
   "metadata": {},
   "outputs": [
    {
     "data": {
      "image/png": "[encoded data removed]",
      "text/plain": [
       "<Figure size 432x288 with 1 Axes>"
      ]
     },
     "metadata": {
      "needs_background": "light"
     },
     "output_type": "display_data"
    }
   ],
   "source": [
    "temp_dec = temp.loc[1977:2016].reset_index().copy()\n",
    "temp_dec['year'] = temp_dec['year'].map(lambda x: '1977–1986' if x in range(1977,1987) \n",
    "        else '1987–1996' if x in range(1987,1997) else '1997–2006' if x in range(1997,2007) else '2007–2016' )\n",
    "g = sns.violinplot(x='year', y='tmax', data=temp_dec)\n",
    "g.set_xlabel('Decade',{'fontsize':12})\n",
    "g.set_ylabel('$T_{max}$ ($^{\\circ}C$)',{'fontsize':12})\n",
    "g.grid()\n",
    "plt.tight_layout()"
   ]
  },
  {
   "cell_type": "code",
   "execution_count": 64,
   "metadata": {},
   "outputs": [],
   "source": [
    "answer = 'gAAAAABb-XSGYEZiwhZhD4lQ3JjUGxC6IuJycQB8EXMgbF3cCd_ATFt8B3Zzvc0-OtGFxgahupedeqjsjkJC0plyBJbEkm39fbP0NVNSgZFdFtq5ovOwWLV7lC7NSgiExZut7lnsE3KM3mEHV3WAMpO1qOYvIobAWJ64BNx6KT1nVbx0LRohILe3QOKBiXjgj0vgmg6ddonaXj-aXQ2mu3ET2ocvGXeVSEQ1IewiryMlLKeqLrq4fWxO8v2AVwxsAxCw1qk45TRGEnLjkBWs2NM4I3w2PaITBCD0DCCCS3RvPulxoJ5meoVk78LUp_kgfxfiYW4w9_LhhmtVeaMryiIqBUKkkpj0iCPIB4l_-JPaVjNh502XOdNNDWChtz7bA9dSVWxKWQltqfWT30TsZORnv7X-VLjFB67NpeHLTGfN_M8l8W3vVe7beLBBHFmvl7JOIaP0koWJ8q9Lm1MRNvYzbx7P8XxIS452lseiv6a5ugWgTgM-yB4pkI0IM089XskL8kXUyCYjAlcUU8HsWbgbDBmkUR6qYp4EdJ77L_VMgcLsxDMR3_vrgpK0yZKdBOe1iybmO00v_fxdxkTFFmG-IcF6Jqbjt8LQWPQMS6u-FiyDjdTNV1om6id9jero0UVpQKH5LAu3JpfCM--r4yzjRSHwkgbv4GuYLY_DGFtbn0sWl_nOqYalYMf1XGU3qB40scZKhGKZINJGbfarO6yac8605mP4gw=='\n"
   ]
  },
  {
   "cell_type": "code",
   "execution_count": 65,
   "metadata": {},
   "outputs": [
    {
     "name": "stdout",
     "output_type": "stream",
     "text": [
      "temp_dec = temp.loc[1977:2016].reset_index().copy()\n",
      "\n",
      "temp_dec['year'] = temp_dec['year'].map(lambda x: '1977–1986' if x in range(1977,1987) \n",
      "        else '1987–1996' if x in range(1987,1997) else '1997–2006' if x in range(1997,2007) else '2007–2016' )\n",
      "\n",
      "g = sns.violinplot(x='year', y='tmax', data=temp_dec)\n",
      "\n",
      "g.set_xlabel('Decade',{'fontsize':12})\n",
      "g.set_ylabel('$T_{max}$ ($^{\\circ}C$)',{'fontsize':12})\n",
      "g.grid()\n",
      "plt.tight_layout()\n",
      "plt.savefig('figs/STHMviolin.png',dpi=300)\n"
     ]
    }
   ],
   "source": [
    "decrypt(answer,'Staffanstorp')"
   ]
  },
  {
   "cell_type": "markdown",
   "metadata": {},
   "source": [
    "## Temperature Observations from the [Center of Excellence Telesensing of Environment and Model Prediction of Severe Events](http://cetemps.aquila.infn.it)"
   ]
  },
  {
   "cell_type": "markdown",
   "metadata": {},
   "source": [
    "At [this URL](http://meteorema.aquila.infn.it/tempaq/dati/hist/) you can find daily \n",
    "temperature data measured between 1968 and Fabruary 2018 at the University of L'Aquila. \n",
    "The data is divided into ASCII files for each year. Each file contains an explanatory header marked by '#'.\n",
    "Use `pandas` to load the files for the temperatures between 1968 and 2018 into a single DataFrame.<br>\n",
    "Suggestions:\n",
    "* create an empty DataFrame\n",
    "* loop over the years and load the corresponding files into separate DataFrame\n",
    "* read the data files directly from the URLs\n",
    "* set the following options of read_table: header, engine, sep, comment, na_values, and names. Keep in mind that:\n",
    "  - not available temperatures are indicated by -999.99\n",
    "  - dates are written in the day/month/year format but we would rather parse them so that '/' is interpreted as a separator and day, month, and year fall into different columns\n",
    "* append the DataFrames for each year to the empty DataFrame\n",
    "* turn the labels in the 'year', 'month', and 'day' columns into indexes\n",
    "\n",
    "**20.** These steps are partly implemented in the next cell. Find the errors and complete the cell."
   ]
  },
  {
   "cell_type": "code",
   "execution_count": 66,
   "metadata": {},
   "outputs": [
    {
     "data": {
      "text/html": [
       "<div>\n",
       "<style scoped>\n",
       "    .dataframe tbody tr th:only-of-type {\n",
       "        vertical-align: middle;\n",
       "    }\n",
       "\n",
       "    .dataframe tbody tr th {\n",
       "        vertical-align: top;\n",
       "    }\n",
       "\n",
       "    .dataframe thead th {\n",
       "        text-align: right;\n",
       "    }\n",
       "</style>\n",
       "<table border=\"1\" class=\"dataframe\">\n",
       "  <thead>\n",
       "    <tr style=\"text-align: right;\">\n",
       "      <th></th>\n",
       "      <th></th>\n",
       "      <th></th>\n",
       "      <th>jday</th>\n",
       "      <th>tmin</th>\n",
       "      <th>tmax</th>\n",
       "    </tr>\n",
       "    <tr>\n",
       "      <th>year</th>\n",
       "      <th>month</th>\n",
       "      <th>day</th>\n",
       "      <th></th>\n",
       "      <th></th>\n",
       "      <th></th>\n",
       "    </tr>\n",
       "  </thead>\n",
       "  <tbody>\n",
       "    <tr>\n",
       "      <th rowspan=\"5\" valign=\"top\">1968</th>\n",
       "      <th rowspan=\"5\" valign=\"top\">1</th>\n",
       "      <th>1</th>\n",
       "      <td>1</td>\n",
       "      <td>2.0</td>\n",
       "      <td>11.0</td>\n",
       "    </tr>\n",
       "    <tr>\n",
       "      <th>2</th>\n",
       "      <td>2</td>\n",
       "      <td>1.0</td>\n",
       "      <td>3.0</td>\n",
       "    </tr>\n",
       "    <tr>\n",
       "      <th>3</th>\n",
       "      <td>3</td>\n",
       "      <td>-2.0</td>\n",
       "      <td>7.0</td>\n",
       "    </tr>\n",
       "    <tr>\n",
       "      <th>4</th>\n",
       "      <td>4</td>\n",
       "      <td>-8.0</td>\n",
       "      <td>2.0</td>\n",
       "    </tr>\n",
       "    <tr>\n",
       "      <th>5</th>\n",
       "      <td>5</td>\n",
       "      <td>-2.0</td>\n",
       "      <td>7.0</td>\n",
       "    </tr>\n",
       "  </tbody>\n",
       "</table>\n",
       "</div>"
      ],
      "text/plain": [
       "                jday  tmin  tmax\n",
       "year month day                  \n",
       "1968 1     1       1   2.0  11.0\n",
       "           2       2   1.0   3.0\n",
       "           3       3  -2.0   7.0\n",
       "           4       4  -8.0   2.0\n",
       "           5       5  -2.0   7.0"
      ]
     },
     "execution_count": 66,
     "metadata": {},
     "output_type": "execute_result"
    }
   ],
   "source": [
    "tempaq = pd.DataFrame()\n",
    "for year in range(1968,1977):\n",
    "    url = 'http://meteorema.aquila.infn.it/tempaq/dati/hist/'+str(year)+'.txt'\n",
    "    temp_year_aquila = pd.read_table(url,header=None,engine='python',sep='/|\\s+',\n",
    "                                     comment='#',names=['day','month','year','jday','tmin','tmax'],na_values=-999.99)\n",
    "    tempaq = tempaq.append(temp_year_aquila,ignore_index=True)\n",
    "tempaq.set_index(['year','month','day'],inplace=True)\n",
    "tempaq.head()"
   ]
  },
  {
   "cell_type": "code",
   "execution_count": 67,
   "metadata": {},
   "outputs": [],
   "source": [
    "answer = 'gAAAAABb-Xhfk2Fv7VdZNGC3-af8CcGVrNg5fbK2YGP98zsioCEqPNDaoJ4Xs9COlqAvTweIubHoum6fdpNjyVAcoqvP_IjpJGUACykwKf1jpYf9gFFAlg2j_pvkb4NMcjHClIiu6bzMr8wqjRtu7hoCFioyl61hG7gwhZf3mJ-8GblFbOLYcK0-ruoZm2BQdpNfeZUVb58jxj6GxrDatTolASeAuhVNv-NWPSH48vHYhRsMviZiX2Qd69SNijQK68EhrKUJwy7uWCdkf9FTt-wdwSM8nG568ub91F9cTU2sGQNr-jmKGwziJ6brsP496M3ISshT8KT-TCWODh8ehuyiqjn9EFxiPCF2kZlCBeGycu-5BsIt14XIBPxz2sIZM-CGlHVj6KlSs9Z9CAQgLU4po1kcjwgnx6tmtR-NziygXIFigiie_9jfo2_8v8_kk4spyloxcwyIjdmxKMceW77z6mIZuCAmFjUiGaioBDBedsNVELcWpbdTWkrlFJusl3mkV5udFHsfSCXRmroo9Sbml8G3USCJ7tU5Y-YTWrGEXrlzNBq2wiRlt7VPap3Ef7USyPn2GRiO537EdZstMvCG6JDzDuorESSfnzbN6qny3RcKDXP4KAj1C2bpulX5hVmnhNl4UUFlSvts415eSh5i25Yz4cFe2Q=='\n"
   ]
  },
  {
   "cell_type": "code",
   "execution_count": 68,
   "metadata": {},
   "outputs": [
    {
     "name": "stdout",
     "output_type": "stream",
     "text": [
      "tempaq = pd.DataFrame()\n",
      "for year in range(1968,2018):\n",
      "    url = 'http://meteorema.aquila.infn.it/tempaq/dati/hist/'+str(year)+'.txt'\n",
      "    temp_year_aquila = pd.read_table(url,header=None,engine='python',sep='/|\\s+',\n",
      "                     comment='#',names=['day','month','year','jday','tmin','tmax'],na_values=-999.99)\n",
      "    tempaq = tempaq.append(temp_year_aquila,ignore_index=True)\n",
      "tempaq.set_index(['year','month','day'],inplace=True)\n",
      "tempaq.head()\n"
     ]
    }
   ],
   "source": [
    "decrypt(answer,'Vellinge')"
   ]
  },
  {
   "cell_type": "markdown",
   "metadata": {},
   "source": [
    "**21.** Use the [boxenplot](https://seaborn.pydata.org/generated/seaborn.boxenplot.html) function of `seaborn` to plot the distribution of $T_{max}$ for the decades 1977–1986, 1987–1996, 1997–2006, and 2007–2016. <br>\n",
    "Hint: reorganize the DataFrame so that each variable is in a column and each observation in a row (see [MATPLOTLIB: 3. Categorical Data](https://youtu.be/c0Bd8iWmHGw)) and use the map function of the Series to rename the years of the four decades as '1977–1986', '1987–1996', '1997–2006', and '2007–2016'.\n",
    "\n",
    "<img src=\"figs/LAQUILAboxenplot.png\" width=\"400\" align=\"left\"/>"
   ]
  },
  {
   "cell_type": "code",
   "execution_count": 69,
   "metadata": {},
   "outputs": [
    {
     "ename": "ValueError",
     "evalue": "min() arg is an empty sequence",
     "output_type": "error",
     "traceback": [
      "\u001b[0;31m---------------------------------------------------------------------------\u001b[0m",
      "\u001b[0;31mValueError\u001b[0m                                Traceback (most recent call last)",
      "\u001b[0;32m<ipython-input-69-d08477e53a29>\u001b[0m in \u001b[0;36m<module>\u001b[0;34m\u001b[0m\n\u001b[1;32m      1\u001b[0m \u001b[0mtempaq_dec\u001b[0m \u001b[0;34m=\u001b[0m \u001b[0mtempaq\u001b[0m\u001b[0;34m.\u001b[0m\u001b[0mloc\u001b[0m\u001b[0;34m[\u001b[0m\u001b[0;36m1977\u001b[0m\u001b[0;34m:\u001b[0m\u001b[0;36m2016\u001b[0m\u001b[0;34m]\u001b[0m\u001b[0;34m.\u001b[0m\u001b[0mreset_index\u001b[0m\u001b[0;34m(\u001b[0m\u001b[0;34m)\u001b[0m\u001b[0;34m.\u001b[0m\u001b[0mcopy\u001b[0m\u001b[0;34m(\u001b[0m\u001b[0;34m)\u001b[0m\u001b[0;34m\u001b[0m\u001b[0;34m\u001b[0m\u001b[0m\n\u001b[1;32m      2\u001b[0m \u001b[0mtempaq_dec\u001b[0m\u001b[0;34m[\u001b[0m\u001b[0;34m'year'\u001b[0m\u001b[0;34m]\u001b[0m \u001b[0;34m=\u001b[0m \u001b[0mtempaq_dec\u001b[0m\u001b[0;34m[\u001b[0m\u001b[0;34m'year'\u001b[0m\u001b[0;34m]\u001b[0m\u001b[0;34m.\u001b[0m\u001b[0mmap\u001b[0m\u001b[0;34m(\u001b[0m\u001b[0;32mlambda\u001b[0m \u001b[0mx\u001b[0m\u001b[0;34m:\u001b[0m \u001b[0;34m'1977–1986'\u001b[0m \u001b[0;32mif\u001b[0m \u001b[0mx\u001b[0m \u001b[0;32min\u001b[0m \u001b[0mrange\u001b[0m\u001b[0;34m(\u001b[0m\u001b[0;36m1977\u001b[0m\u001b[0;34m,\u001b[0m\u001b[0;36m1987\u001b[0m\u001b[0;34m)\u001b[0m \u001b[0;32melse\u001b[0m \u001b[0;34m'1987–1996'\u001b[0m \u001b[0;32mif\u001b[0m \u001b[0mx\u001b[0m \u001b[0;32min\u001b[0m \u001b[0mrange\u001b[0m\u001b[0;34m(\u001b[0m\u001b[0;36m1987\u001b[0m\u001b[0;34m,\u001b[0m\u001b[0;36m1997\u001b[0m\u001b[0;34m)\u001b[0m \u001b[0;32melse\u001b[0m \u001b[0;34m'1997–2006'\u001b[0m \u001b[0;32mif\u001b[0m \u001b[0mx\u001b[0m \u001b[0;32min\u001b[0m \u001b[0mrange\u001b[0m\u001b[0;34m(\u001b[0m\u001b[0;36m1997\u001b[0m\u001b[0;34m,\u001b[0m\u001b[0;36m2007\u001b[0m\u001b[0;34m)\u001b[0m \u001b[0;32melse\u001b[0m \u001b[0;34m'2007–2016'\u001b[0m\u001b[0;34m)\u001b[0m\u001b[0;34m\u001b[0m\u001b[0;34m\u001b[0m\u001b[0m\n\u001b[0;32m----> 3\u001b[0;31m \u001b[0mg\u001b[0m \u001b[0;34m=\u001b[0m \u001b[0msns\u001b[0m\u001b[0;34m.\u001b[0m\u001b[0mboxenplot\u001b[0m\u001b[0;34m(\u001b[0m\u001b[0mx\u001b[0m\u001b[0;34m=\u001b[0m\u001b[0;34m'year'\u001b[0m\u001b[0;34m,\u001b[0m \u001b[0my\u001b[0m\u001b[0;34m=\u001b[0m\u001b[0;34m'tmax'\u001b[0m\u001b[0;34m,\u001b[0m \u001b[0mdata\u001b[0m\u001b[0;34m=\u001b[0m\u001b[0mtempaq_dec\u001b[0m\u001b[0;34m)\u001b[0m\u001b[0;34m\u001b[0m\u001b[0;34m\u001b[0m\u001b[0m\n\u001b[0m\u001b[1;32m      4\u001b[0m \u001b[0;31m#g.set_xlabel('Decade',{'fontsize':12})\u001b[0m\u001b[0;34m\u001b[0m\u001b[0;34m\u001b[0m\u001b[0;34m\u001b[0m\u001b[0m\n\u001b[1;32m      5\u001b[0m \u001b[0;31m#g.set_ylabel('$T_{max}$ ($^{\\circ}C$)',{'fontsize':12})\u001b[0m\u001b[0;34m\u001b[0m\u001b[0;34m\u001b[0m\u001b[0;34m\u001b[0m\u001b[0m\n",
      "\u001b[0;32m~/anaconda3/envs/LUcompute/lib/python3.9/site-packages/seaborn/_decorators.py\u001b[0m in \u001b[0;36minner_f\u001b[0;34m(*args, **kwargs)\u001b[0m\n\u001b[1;32m     44\u001b[0m             )\n\u001b[1;32m     45\u001b[0m         \u001b[0mkwargs\u001b[0m\u001b[0;34m.\u001b[0m\u001b[0mupdate\u001b[0m\u001b[0;34m(\u001b[0m\u001b[0;34m{\u001b[0m\u001b[0mk\u001b[0m\u001b[0;34m:\u001b[0m \u001b[0marg\u001b[0m \u001b[0;32mfor\u001b[0m \u001b[0mk\u001b[0m\u001b[0;34m,\u001b[0m \u001b[0marg\u001b[0m \u001b[0;32min\u001b[0m \u001b[0mzip\u001b[0m\u001b[0;34m(\u001b[0m\u001b[0msig\u001b[0m\u001b[0;34m.\u001b[0m\u001b[0mparameters\u001b[0m\u001b[0;34m,\u001b[0m \u001b[0margs\u001b[0m\u001b[0;34m)\u001b[0m\u001b[0;34m}\u001b[0m\u001b[0;34m)\u001b[0m\u001b[0;34m\u001b[0m\u001b[0;34m\u001b[0m\u001b[0m\n\u001b[0;32m---> 46\u001b[0;31m         \u001b[0;32mreturn\u001b[0m \u001b[0mf\u001b[0m\u001b[0;34m(\u001b[0m\u001b[0;34m**\u001b[0m\u001b[0mkwargs\u001b[0m\u001b[0;34m)\u001b[0m\u001b[0;34m\u001b[0m\u001b[0;34m\u001b[0m\u001b[0m\n\u001b[0m\u001b[1;32m     47\u001b[0m     \u001b[0;32mreturn\u001b[0m \u001b[0minner_f\u001b[0m\u001b[0;34m\u001b[0m\u001b[0;34m\u001b[0m\u001b[0m\n\u001b[1;32m     48\u001b[0m \u001b[0;34m\u001b[0m\u001b[0m\n",
      "\u001b[0;32m~/anaconda3/envs/LUcompute/lib/python3.9/site-packages/seaborn/categorical.py\u001b[0m in \u001b[0;36mboxenplot\u001b[0;34m(x, y, hue, data, order, hue_order, orient, color, palette, saturation, width, dodge, k_depth, linewidth, scale, outlier_prop, trust_alpha, showfliers, ax, **kwargs)\u001b[0m\n\u001b[1;32m   2629\u001b[0m ):\n\u001b[1;32m   2630\u001b[0m \u001b[0;34m\u001b[0m\u001b[0m\n\u001b[0;32m-> 2631\u001b[0;31m     plotter = _LVPlotter(x, y, hue, data, order, hue_order,\n\u001b[0m\u001b[1;32m   2632\u001b[0m                          \u001b[0morient\u001b[0m\u001b[0;34m,\u001b[0m \u001b[0mcolor\u001b[0m\u001b[0;34m,\u001b[0m \u001b[0mpalette\u001b[0m\u001b[0;34m,\u001b[0m \u001b[0msaturation\u001b[0m\u001b[0;34m,\u001b[0m\u001b[0;34m\u001b[0m\u001b[0;34m\u001b[0m\u001b[0m\n\u001b[1;32m   2633\u001b[0m                          \u001b[0mwidth\u001b[0m\u001b[0;34m,\u001b[0m \u001b[0mdodge\u001b[0m\u001b[0;34m,\u001b[0m \u001b[0mk_depth\u001b[0m\u001b[0;34m,\u001b[0m \u001b[0mlinewidth\u001b[0m\u001b[0;34m,\u001b[0m \u001b[0mscale\u001b[0m\u001b[0;34m,\u001b[0m\u001b[0;34m\u001b[0m\u001b[0;34m\u001b[0m\u001b[0m\n",
      "\u001b[0;32m~/anaconda3/envs/LUcompute/lib/python3.9/site-packages/seaborn/categorical.py\u001b[0m in \u001b[0;36m__init__\u001b[0;34m(self, x, y, hue, data, order, hue_order, orient, color, palette, saturation, width, dodge, k_depth, linewidth, scale, outlier_prop, trust_alpha, showfliers)\u001b[0m\n\u001b[1;32m   1837\u001b[0m \u001b[0;34m\u001b[0m\u001b[0m\n\u001b[1;32m   1838\u001b[0m         \u001b[0mself\u001b[0m\u001b[0;34m.\u001b[0m\u001b[0mestablish_variables\u001b[0m\u001b[0;34m(\u001b[0m\u001b[0mx\u001b[0m\u001b[0;34m,\u001b[0m \u001b[0my\u001b[0m\u001b[0;34m,\u001b[0m \u001b[0mhue\u001b[0m\u001b[0;34m,\u001b[0m \u001b[0mdata\u001b[0m\u001b[0;34m,\u001b[0m \u001b[0morient\u001b[0m\u001b[0;34m,\u001b[0m \u001b[0morder\u001b[0m\u001b[0;34m,\u001b[0m \u001b[0mhue_order\u001b[0m\u001b[0;34m)\u001b[0m\u001b[0;34m\u001b[0m\u001b[0;34m\u001b[0m\u001b[0m\n\u001b[0;32m-> 1839\u001b[0;31m         \u001b[0mself\u001b[0m\u001b[0;34m.\u001b[0m\u001b[0mestablish_colors\u001b[0m\u001b[0;34m(\u001b[0m\u001b[0mcolor\u001b[0m\u001b[0;34m,\u001b[0m \u001b[0mpalette\u001b[0m\u001b[0;34m,\u001b[0m \u001b[0msaturation\u001b[0m\u001b[0;34m)\u001b[0m\u001b[0;34m\u001b[0m\u001b[0;34m\u001b[0m\u001b[0m\n\u001b[0m\u001b[1;32m   1840\u001b[0m \u001b[0;34m\u001b[0m\u001b[0m\n\u001b[1;32m   1841\u001b[0m     \u001b[0;32mdef\u001b[0m \u001b[0m_lv_box_ends\u001b[0m\u001b[0;34m(\u001b[0m\u001b[0mself\u001b[0m\u001b[0;34m,\u001b[0m \u001b[0mvals\u001b[0m\u001b[0;34m)\u001b[0m\u001b[0;34m:\u001b[0m\u001b[0;34m\u001b[0m\u001b[0;34m\u001b[0m\u001b[0m\n",
      "\u001b[0;32m~/anaconda3/envs/LUcompute/lib/python3.9/site-packages/seaborn/categorical.py\u001b[0m in \u001b[0;36mestablish_colors\u001b[0;34m(self, color, palette, saturation)\u001b[0m\n\u001b[1;32m    317\u001b[0m         \u001b[0;31m# Determine the gray color to use for the lines framing the plot\u001b[0m\u001b[0;34m\u001b[0m\u001b[0;34m\u001b[0m\u001b[0;34m\u001b[0m\u001b[0m\n\u001b[1;32m    318\u001b[0m         \u001b[0mlight_vals\u001b[0m \u001b[0;34m=\u001b[0m \u001b[0;34m[\u001b[0m\u001b[0mcolorsys\u001b[0m\u001b[0;34m.\u001b[0m\u001b[0mrgb_to_hls\u001b[0m\u001b[0;34m(\u001b[0m\u001b[0;34m*\u001b[0m\u001b[0mc\u001b[0m\u001b[0;34m)\u001b[0m\u001b[0;34m[\u001b[0m\u001b[0;36m1\u001b[0m\u001b[0;34m]\u001b[0m \u001b[0;32mfor\u001b[0m \u001b[0mc\u001b[0m \u001b[0;32min\u001b[0m \u001b[0mrgb_colors\u001b[0m\u001b[0;34m]\u001b[0m\u001b[0;34m\u001b[0m\u001b[0;34m\u001b[0m\u001b[0m\n\u001b[0;32m--> 319\u001b[0;31m         \u001b[0mlum\u001b[0m \u001b[0;34m=\u001b[0m \u001b[0mmin\u001b[0m\u001b[0;34m(\u001b[0m\u001b[0mlight_vals\u001b[0m\u001b[0;34m)\u001b[0m \u001b[0;34m*\u001b[0m \u001b[0;36m.6\u001b[0m\u001b[0;34m\u001b[0m\u001b[0;34m\u001b[0m\u001b[0m\n\u001b[0m\u001b[1;32m    320\u001b[0m         \u001b[0mgray\u001b[0m \u001b[0;34m=\u001b[0m \u001b[0mmpl\u001b[0m\u001b[0;34m.\u001b[0m\u001b[0mcolors\u001b[0m\u001b[0;34m.\u001b[0m\u001b[0mrgb2hex\u001b[0m\u001b[0;34m(\u001b[0m\u001b[0;34m(\u001b[0m\u001b[0mlum\u001b[0m\u001b[0;34m,\u001b[0m \u001b[0mlum\u001b[0m\u001b[0;34m,\u001b[0m \u001b[0mlum\u001b[0m\u001b[0;34m)\u001b[0m\u001b[0;34m)\u001b[0m\u001b[0;34m\u001b[0m\u001b[0;34m\u001b[0m\u001b[0m\n\u001b[1;32m    321\u001b[0m \u001b[0;34m\u001b[0m\u001b[0m\n",
      "\u001b[0;31mValueError\u001b[0m: min() arg is an empty sequence"
     ]
    }
   ],
   "source": [
    "tempaq_dec = tempaq.loc[1977:2016].reset_index().copy()\n",
    "tempaq_dec['year'] = tempaq_dec['year'].map(lambda x: '1977–1986' if x in range(1977,1987) else '1987–1996' if x in range(1987,1997) else '1997–2006' if x in range(1997,2007) else '2007–2016')\n",
    "g = sns.boxenplot(x='year', y='tmax', data=tempaq_dec)\n",
    "#g.set_xlabel('Decade',{'fontsize':12})\n",
    "#g.set_ylabel('$T_{max}$ ($^{\\circ}C$)',{'fontsize':12})\n",
    "#plt.tight_layout()"
   ]
  },
  {
   "cell_type": "code",
   "execution_count": null,
   "metadata": {},
   "outputs": [],
   "source": [
    "answer = 'gAAAAABb-Xp4S-YhV9TndyCYvNU26vjVsVB4DO6cUFcc30Ii2JNvzyR7rzyvCqMbwD3R12pKabNlZR0BhRtJQWo39emPgWNVhCX6cXVVFTvUCXSqmwLYlEMX3xlhzydj_C9Pq_ZFUpmrLbpjCvatyVa2IHN02d1KCV2HYRAYvohkkhXYCiIP9zXi5xC8KaCAEW0GH8lAEhoJBijLAAaet3UxvyDbP8cmMCikUgKmmiGnztBPDMkcHlFjUS8CYysxM6MMxKIrvaN7Ml2F7Qnk3TV45lDSDu-I59QMMb-StibcZrbdV1tLfVLBC2dbhyXWRJdpK1ZH9MY8uZyXXVtpqw16vFaOdtrLGntaWvFSY8lvdHWNoznh1ch8DVxBYWjSKpIZLm0sPT1JW_Jf60sLhiyXdBUi4s0bM0sa6--CzNw3TcTp9sErIZGCgKP9-Rp_-NWnvoZhSGlR3x7njMnv7ly8KrMrUdPy7OhdCl-MqoyDPPcrCZPdz6GsT7ywOrWtTmbDuQPO4Q3CqQ7sGG5cYUb2LZzFwDfoYGd3kHCiN9X6oCjHDOQH6Si5S600z7ZfkVxtYlPWPRZQsv-Nbas9ugax0VF2j0dcPWWK9LLObMDl6QIC4E-vN41dfNMjkVa92QKpsxEgnqmFYVQ2Ny_dblLi0fzcPD3ZqfOrVY76OYu-OFj4xSToNUfGplZ2qmCDJEArh814pNxuDQOPFTimj-auTjN6hZrrRQ=='\n"
   ]
  },
  {
   "cell_type": "code",
   "execution_count": null,
   "metadata": {},
   "outputs": [],
   "source": [
    "decrypt(answer,'Klippan')"
   ]
  },
  {
   "cell_type": "markdown",
   "metadata": {},
   "source": [
    "**22.** Merge the DataFrames storing the minimum and maximum temperatures in Stockholm and L'Aquila between 1977 and 2016. Apply suffixes to overlapping column names in the two DataFrames, _e.g._ ('_aq','_sthm'). Complete the next cell."
   ]
  },
  {
   "cell_type": "code",
   "execution_count": null,
   "metadata": {},
   "outputs": [],
   "source": [
    "temp_aq_sthm = pd.merge(tempaq.loc[1977:2016][['tmin','tmax']],temp.loc[1977:2016][['tmin','tmax']],\n",
    "        how='inner',suffixes=('_aq','_sthm'),\n",
    "        left_index=True, right_index=True)\n",
    "temp_aq_sthm.reset_index().head()"
   ]
  },
  {
   "cell_type": "code",
   "execution_count": null,
   "metadata": {},
   "outputs": [],
   "source": [
    "answer = 'gAAAAABb-XuJPqMZAnqYwRaPPArp5s2Y1maV-eSuZUcZG-3pYuah0NtJ9aniU_xnoXuK78f0cuV5It4ri36q_9mZ10EAthGLptbm7wRYN5gDMDOstpzESTogmAaEHZb0T4AsxRfLeWYiFCHKh5NbButgkU2dLfAyyptx52wki1UVbf_ecCzgqVLI9xRjqOA4p9dls3qdPBrDTwGX0uhOQC3sQINiqkbhPTRgJVhAVQ0FavP-GM2G5fcxItX8qXHFLkLBkFW7Asg7LOdOAO1jW8G7JhM6flPvMQvgnBhxtRwy6pYjiWAexaX2rb16bY-AO23-aN0Zz88EKsaPDW24MmNyN4TiSN0fyJvXHjw31tIlBtdS4u23SLE='\n"
   ]
  },
  {
   "cell_type": "code",
   "execution_count": null,
   "metadata": {},
   "outputs": [],
   "source": [
    "decrypt(answer,'Lomma')"
   ]
  },
  {
   "cell_type": "markdown",
   "metadata": {},
   "source": [
    "**23.** Use the DataFrame resulting from merging the data from Stockholm and L'Aquila to create a plot showing the univariate and bivariate distributions of the $T_{max}$ in Stockholm and L'Aquila between 1977 and 2016. The univariate distributions are located on the upper and right axes, whereas the bivariate histogram is in the middle of the plot and displayed in hexagonal bins. The complex plot shown below can be easily reproduced using the [jointplot](https://seaborn.pydata.org/generated/seaborn.jointplot.html) function of `seaborn`.<br>\n",
    "Reorganize the DataFrame so that each variable is in a column and each observation in a row (see [MATPLOTLIB: 3. Categorical Data](https://youtu.be/c0Bd8iWmHGw)).\n",
    "\n",
    "<img src=\"figs/jointplot.png\" width=\"400\" align=\"left\"/>"
   ]
  },
  {
   "cell_type": "code",
   "execution_count": null,
   "metadata": {},
   "outputs": [],
   "source": [
    "g = sns.jointplot('tmax_aq','tmax_sthm',data=temp_aq_sthm.loc[1977:2016].reset_index(),kind='hex',\n",
    "                  marginal_kws=dict(bins=30),gridsize=30)\n",
    "g.set_axis_labels(xlabel=\"$T_{max}$ in L'Aquila ($^{\\circ}C$)\", \n",
    "                  ylabel='$T_{max}$ in Stockholm ($^{\\circ}C$)',\n",
    "                  fontsize=12)\n",
    "plt.tight_layout()"
   ]
  },
  {
   "cell_type": "code",
   "execution_count": null,
   "metadata": {},
   "outputs": [],
   "source": [
    "answer = 'gAAAAABb-XyElcERSML4-Nt-XNTia4QKEF2qA8N8Bw86mJdRhZpE1NlNXhDZQE0lkKlLjDLIxplm0Sg-6WS735dDK5DWEwOOVuCAMwt2CytSttgIWmtxTnjD4gyje4Mh_-YFOEyzDAgzo5qxnmZN4AGiENMD6rpj32Rb5rT6fJkpfMZrWk4w7pxJ2WauJLA3GBMc8FlLSmte1OQjL0lgenSvHi7YC-q9GLXklA0hCukWcd9MU-ncTNDuLbn4arEqAr4NrGyFGDDhlMiaCimKxTdsyNTjQMdJyn_QAKJmR7PFYUx6NtKmvmC69aRwFC-YTtZ7ZPbiaA3pTUZ7frZqJwgCCiO6OQgFf5OGd32Y-_v7s9nIcJK0Tr1cmWMMdjQbwktraAOiQr6zv7DeYMXOesyULXRNj5_HxeguoVFWpIBo3XNYq-dJPlY1kSMqyjngxjwYq0ERkKMmGc4HR8cgyy2pifMpTspoEmdljhyM_QNBax-aL_SnX2tR-9Fo8U9RJjMbZ_zXs1P788wigFFupM0L_d_y4r4xv2kyMNDbZSgk6S3i4O6RmjRJlkQZmUT74h8WsrFt2Yzs'"
   ]
  },
  {
   "cell_type": "code",
   "execution_count": null,
   "metadata": {},
   "outputs": [],
   "source": [
    "decrypt(answer,'Osby')"
   ]
  },
  {
   "cell_type": "code",
   "execution_count": null,
   "metadata": {},
   "outputs": [],
   "source": []
  }
 ],
 "metadata": {
  "kernelspec": {
   "display_name": "Python 3",
   "language": "python",
   "name": "python3"
  },
  "language_info": {
   "codemirror_mode": {
    "name": "ipython",
    "version": 3
   },
   "file_extension": ".py",
   "mimetype": "text/x-python",
   "name": "python",
   "nbconvert_exporter": "python",
   "pygments_lexer": "ipython3",
   "version": "3.9.2"
  }
 },
 "nbformat": 4,
 "nbformat_minor": 2
}
